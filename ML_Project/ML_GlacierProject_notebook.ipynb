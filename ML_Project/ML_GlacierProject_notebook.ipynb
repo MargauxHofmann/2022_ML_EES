{
  "cells": [
    {
      "cell_type": "markdown",
      "metadata": {
        "id": "view-in-github",
        "colab_type": "text"
      },
      "source": [
        "<a href=\"https://colab.research.google.com/github/MargauxHofmann/2022_ML_EES/blob/main/ML_Project/ML_GlacierProject_notebook.ipynb\" target=\"_parent\"><img src=\"https://colab.research.google.com/assets/colab-badge.svg\" alt=\"Open In Colab\"/></a>"
      ]
    },
    {
      "cell_type": "markdown",
      "metadata": {
        "id": "qFyN1uonDWtk"
      },
      "source": [
        "# Machine Learning Project - Predicting Activity of glaciers"
      ]
    },
    {
      "cell_type": "markdown",
      "metadata": {
        "id": "-zN92W8xDmnV"
      },
      "source": [
        "Import librairy"
      ]
    },
    {
      "cell_type": "code",
      "execution_count": 1,
      "metadata": {
        "id": "SxG6H4arSwEv"
      },
      "outputs": [],
      "source": [
        "import csv\n",
        "import pandas as pd\n",
        "import io\n",
        "import numpy as np\n",
        "import matplotlib.pyplot as plt\n",
        "import seaborn as sns"
      ]
    },
    {
      "cell_type": "markdown",
      "metadata": {
        "id": "-r2Nd9vFDveJ"
      },
      "source": [
        "Download the file into Google Colab"
      ]
    },
    {
      "cell_type": "code",
      "execution_count": 2,
      "metadata": {
        "colab": {
          "base_uri": "https://localhost:8080/",
          "height": 74
        },
        "id": "7fMiDXlxCkBR",
        "outputId": "a57435a5-3074-4567-ab7e-11d84c562219"
      },
      "outputs": [
        {
          "output_type": "display_data",
          "data": {
            "text/plain": [
              "<IPython.core.display.HTML object>"
            ],
            "text/html": [
              "\n",
              "     <input type=\"file\" id=\"files-d628e3f6-f260-4b4b-b6ed-e40cac305320\" name=\"files[]\" multiple disabled\n",
              "        style=\"border:none\" />\n",
              "     <output id=\"result-d628e3f6-f260-4b4b-b6ed-e40cac305320\">\n",
              "      Upload widget is only available when the cell has been executed in the\n",
              "      current browser session. Please rerun this cell to enable.\n",
              "      </output>\n",
              "      <script>// Copyright 2017 Google LLC\n",
              "//\n",
              "// Licensed under the Apache License, Version 2.0 (the \"License\");\n",
              "// you may not use this file except in compliance with the License.\n",
              "// You may obtain a copy of the License at\n",
              "//\n",
              "//      http://www.apache.org/licenses/LICENSE-2.0\n",
              "//\n",
              "// Unless required by applicable law or agreed to in writing, software\n",
              "// distributed under the License is distributed on an \"AS IS\" BASIS,\n",
              "// WITHOUT WARRANTIES OR CONDITIONS OF ANY KIND, either express or implied.\n",
              "// See the License for the specific language governing permissions and\n",
              "// limitations under the License.\n",
              "\n",
              "/**\n",
              " * @fileoverview Helpers for google.colab Python module.\n",
              " */\n",
              "(function(scope) {\n",
              "function span(text, styleAttributes = {}) {\n",
              "  const element = document.createElement('span');\n",
              "  element.textContent = text;\n",
              "  for (const key of Object.keys(styleAttributes)) {\n",
              "    element.style[key] = styleAttributes[key];\n",
              "  }\n",
              "  return element;\n",
              "}\n",
              "\n",
              "// Max number of bytes which will be uploaded at a time.\n",
              "const MAX_PAYLOAD_SIZE = 100 * 1024;\n",
              "\n",
              "function _uploadFiles(inputId, outputId) {\n",
              "  const steps = uploadFilesStep(inputId, outputId);\n",
              "  const outputElement = document.getElementById(outputId);\n",
              "  // Cache steps on the outputElement to make it available for the next call\n",
              "  // to uploadFilesContinue from Python.\n",
              "  outputElement.steps = steps;\n",
              "\n",
              "  return _uploadFilesContinue(outputId);\n",
              "}\n",
              "\n",
              "// This is roughly an async generator (not supported in the browser yet),\n",
              "// where there are multiple asynchronous steps and the Python side is going\n",
              "// to poll for completion of each step.\n",
              "// This uses a Promise to block the python side on completion of each step,\n",
              "// then passes the result of the previous step as the input to the next step.\n",
              "function _uploadFilesContinue(outputId) {\n",
              "  const outputElement = document.getElementById(outputId);\n",
              "  const steps = outputElement.steps;\n",
              "\n",
              "  const next = steps.next(outputElement.lastPromiseValue);\n",
              "  return Promise.resolve(next.value.promise).then((value) => {\n",
              "    // Cache the last promise value to make it available to the next\n",
              "    // step of the generator.\n",
              "    outputElement.lastPromiseValue = value;\n",
              "    return next.value.response;\n",
              "  });\n",
              "}\n",
              "\n",
              "/**\n",
              " * Generator function which is called between each async step of the upload\n",
              " * process.\n",
              " * @param {string} inputId Element ID of the input file picker element.\n",
              " * @param {string} outputId Element ID of the output display.\n",
              " * @return {!Iterable<!Object>} Iterable of next steps.\n",
              " */\n",
              "function* uploadFilesStep(inputId, outputId) {\n",
              "  const inputElement = document.getElementById(inputId);\n",
              "  inputElement.disabled = false;\n",
              "\n",
              "  const outputElement = document.getElementById(outputId);\n",
              "  outputElement.innerHTML = '';\n",
              "\n",
              "  const pickedPromise = new Promise((resolve) => {\n",
              "    inputElement.addEventListener('change', (e) => {\n",
              "      resolve(e.target.files);\n",
              "    });\n",
              "  });\n",
              "\n",
              "  const cancel = document.createElement('button');\n",
              "  inputElement.parentElement.appendChild(cancel);\n",
              "  cancel.textContent = 'Cancel upload';\n",
              "  const cancelPromise = new Promise((resolve) => {\n",
              "    cancel.onclick = () => {\n",
              "      resolve(null);\n",
              "    };\n",
              "  });\n",
              "\n",
              "  // Wait for the user to pick the files.\n",
              "  const files = yield {\n",
              "    promise: Promise.race([pickedPromise, cancelPromise]),\n",
              "    response: {\n",
              "      action: 'starting',\n",
              "    }\n",
              "  };\n",
              "\n",
              "  cancel.remove();\n",
              "\n",
              "  // Disable the input element since further picks are not allowed.\n",
              "  inputElement.disabled = true;\n",
              "\n",
              "  if (!files) {\n",
              "    return {\n",
              "      response: {\n",
              "        action: 'complete',\n",
              "      }\n",
              "    };\n",
              "  }\n",
              "\n",
              "  for (const file of files) {\n",
              "    const li = document.createElement('li');\n",
              "    li.append(span(file.name, {fontWeight: 'bold'}));\n",
              "    li.append(span(\n",
              "        `(${file.type || 'n/a'}) - ${file.size} bytes, ` +\n",
              "        `last modified: ${\n",
              "            file.lastModifiedDate ? file.lastModifiedDate.toLocaleDateString() :\n",
              "                                    'n/a'} - `));\n",
              "    const percent = span('0% done');\n",
              "    li.appendChild(percent);\n",
              "\n",
              "    outputElement.appendChild(li);\n",
              "\n",
              "    const fileDataPromise = new Promise((resolve) => {\n",
              "      const reader = new FileReader();\n",
              "      reader.onload = (e) => {\n",
              "        resolve(e.target.result);\n",
              "      };\n",
              "      reader.readAsArrayBuffer(file);\n",
              "    });\n",
              "    // Wait for the data to be ready.\n",
              "    let fileData = yield {\n",
              "      promise: fileDataPromise,\n",
              "      response: {\n",
              "        action: 'continue',\n",
              "      }\n",
              "    };\n",
              "\n",
              "    // Use a chunked sending to avoid message size limits. See b/62115660.\n",
              "    let position = 0;\n",
              "    do {\n",
              "      const length = Math.min(fileData.byteLength - position, MAX_PAYLOAD_SIZE);\n",
              "      const chunk = new Uint8Array(fileData, position, length);\n",
              "      position += length;\n",
              "\n",
              "      const base64 = btoa(String.fromCharCode.apply(null, chunk));\n",
              "      yield {\n",
              "        response: {\n",
              "          action: 'append',\n",
              "          file: file.name,\n",
              "          data: base64,\n",
              "        },\n",
              "      };\n",
              "\n",
              "      let percentDone = fileData.byteLength === 0 ?\n",
              "          100 :\n",
              "          Math.round((position / fileData.byteLength) * 100);\n",
              "      percent.textContent = `${percentDone}% done`;\n",
              "\n",
              "    } while (position < fileData.byteLength);\n",
              "  }\n",
              "\n",
              "  // All done.\n",
              "  yield {\n",
              "    response: {\n",
              "      action: 'complete',\n",
              "    }\n",
              "  };\n",
              "}\n",
              "\n",
              "scope.google = scope.google || {};\n",
              "scope.google.colab = scope.google.colab || {};\n",
              "scope.google.colab._files = {\n",
              "  _uploadFiles,\n",
              "  _uploadFilesContinue,\n",
              "};\n",
              "})(self);\n",
              "</script> "
            ]
          },
          "metadata": {}
        },
        {
          "output_type": "stream",
          "name": "stdout",
          "text": [
            "Saving database.csv to database.csv\n"
          ]
        }
      ],
      "source": [
        "from google.colab import files\n",
        "uploaded = files.upload()"
      ]
    },
    {
      "cell_type": "code",
      "execution_count": 204,
      "metadata": {
        "colab": {
          "base_uri": "https://localhost:8080/",
          "height": 592
        },
        "id": "jzHk9UCJDVjp",
        "outputId": "a613b7a8-11f5-46f6-8fc5-e2918a016096"
      },
      "outputs": [
        {
          "output_type": "stream",
          "name": "stderr",
          "text": [
            "/usr/local/lib/python3.8/dist-packages/IPython/core/interactiveshell.py:3326: DtypeWarning: Columns (5) have mixed types.Specify dtype option on import or set low_memory=False.\n",
            "  exec(code_obj, self.user_global_ns, self.user_ns)\n"
          ]
        },
        {
          "output_type": "execute_result",
          "data": {
            "text/plain": [
              "          Glacier ID Political Unit Continent Basin Code Location Code  \\\n",
              "0       AF5Q112B0001    AFGHANISTAN      ASIA       Q112            B0   \n",
              "1       AF5Q112B0002    AFGHANISTAN      ASIA       Q112            B0   \n",
              "2       AF5Q112B0003    AFGHANISTAN      ASIA       Q112            B0   \n",
              "3       AF5Q112B0004    AFGHANISTAN      ASIA       Q112            B0   \n",
              "4       AF5Q112B0005    AFGHANISTAN      ASIA       Q112            B0   \n",
              "...              ...            ...       ...        ...           ...   \n",
              "132885  ZR3B410A1002          ZAIRE    AFRICA       B410            A1   \n",
              "132886  ZR3B410A1003          ZAIRE    AFRICA       B410            A1   \n",
              "132887  ZR3B410A2002          ZAIRE    AFRICA       B410            A2   \n",
              "132888  ZR3B410A3001          ZAIRE    AFRICA       B410            A3   \n",
              "132889  ZR3B410A4009          ZAIRE    AFRICA       B410            A4   \n",
              "\n",
              "       Glacier Code     Glacier Name  Latitude  Longitude  Primary Class  ...  \\\n",
              "0                 1              NaN    34.672     68.874            9.0  ...   \n",
              "1                 2              NaN    34.676     68.855            9.0  ...   \n",
              "2                 3              NaN    34.689     68.854            9.0  ...   \n",
              "3                 4              NaN    34.707     68.857            9.0  ...   \n",
              "4                 5              NaN    34.719     68.852            9.0  ...   \n",
              "...             ...              ...       ...        ...            ...  ...   \n",
              "132885            2        KRAEPELIN     0.438     29.899            6.0  ...   \n",
              "132886            3  NORTH-KRAEPELIN     0.440     29.898            6.0  ...   \n",
              "132887            2           ALBERT     0.389     29.871            6.0  ...   \n",
              "132888            1        ALEXANDRA     0.389     29.868            6.0  ...   \n",
              "132889            9     WEST STANLEY     0.383     29.869            6.0  ...   \n",
              "\n",
              "        Maximum Length  Maximum Length Exposed  Maximum Length Ablation  \\\n",
              "0                  1.9                     NaN                      NaN   \n",
              "1                  0.8                     NaN                      NaN   \n",
              "2                  1.5                     NaN                      NaN   \n",
              "3                  1.5                     NaN                      NaN   \n",
              "4                  2.0                     NaN                      NaN   \n",
              "...                ...                     ...                      ...   \n",
              "132885             0.1                     NaN                      NaN   \n",
              "132886             0.1                     NaN                      NaN   \n",
              "132887             0.1                     NaN                      NaN   \n",
              "132888             0.8                     NaN                      NaN   \n",
              "132889             0.7                     NaN                      NaN   \n",
              "\n",
              "        Mean Depth  Depth Accuracy  Accumulation Orientation  \\\n",
              "0              NaN             NaN                        NE   \n",
              "1              NaN             NaN                        NW   \n",
              "2              NaN             NaN                        NW   \n",
              "3              NaN             NaN                        NE   \n",
              "4              NaN             NaN                       NaN   \n",
              "...            ...             ...                       ...   \n",
              "132885         NaN             NaN                       NaN   \n",
              "132886         NaN             NaN                        NW   \n",
              "132887         NaN             NaN                       NaN   \n",
              "132888         NaN             NaN                         W   \n",
              "132889         NaN             NaN                         W   \n",
              "\n",
              "        Ablation Orientation  Topographic Map Year  Topographic Map Scale  \\\n",
              "0                         NE                1959.0               100000.0   \n",
              "1                         NW                1959.0               100000.0   \n",
              "2                         NW                1959.0               100000.0   \n",
              "3                         NE                1959.0               100000.0   \n",
              "4                        NaN                1959.0               100000.0   \n",
              "...                      ...                   ...                    ...   \n",
              "132885                   NaN                1968.0                25000.0   \n",
              "132886                    NW                1968.0                25000.0   \n",
              "132887                   NaN                1968.0                25000.0   \n",
              "132888                    SW                1968.0                25000.0   \n",
              "132889                     W                1968.0                25000.0   \n",
              "\n",
              "        Photograph Year  \n",
              "0                   NaN  \n",
              "1                   NaN  \n",
              "2                   NaN  \n",
              "3                   NaN  \n",
              "4                   NaN  \n",
              "...                 ...  \n",
              "132885              NaN  \n",
              "132886              NaN  \n",
              "132887              NaN  \n",
              "132888              NaN  \n",
              "132889              NaN  \n",
              "\n",
              "[132890 rows x 39 columns]"
            ],
            "text/html": [
              "\n",
              "  <div id=\"df-8a03c43d-99a2-49f4-8f9a-755026b56c8a\">\n",
              "    <div class=\"colab-df-container\">\n",
              "      <div>\n",
              "<style scoped>\n",
              "    .dataframe tbody tr th:only-of-type {\n",
              "        vertical-align: middle;\n",
              "    }\n",
              "\n",
              "    .dataframe tbody tr th {\n",
              "        vertical-align: top;\n",
              "    }\n",
              "\n",
              "    .dataframe thead th {\n",
              "        text-align: right;\n",
              "    }\n",
              "</style>\n",
              "<table border=\"1\" class=\"dataframe\">\n",
              "  <thead>\n",
              "    <tr style=\"text-align: right;\">\n",
              "      <th></th>\n",
              "      <th>Glacier ID</th>\n",
              "      <th>Political Unit</th>\n",
              "      <th>Continent</th>\n",
              "      <th>Basin Code</th>\n",
              "      <th>Location Code</th>\n",
              "      <th>Glacier Code</th>\n",
              "      <th>Glacier Name</th>\n",
              "      <th>Latitude</th>\n",
              "      <th>Longitude</th>\n",
              "      <th>Primary Class</th>\n",
              "      <th>...</th>\n",
              "      <th>Maximum Length</th>\n",
              "      <th>Maximum Length Exposed</th>\n",
              "      <th>Maximum Length Ablation</th>\n",
              "      <th>Mean Depth</th>\n",
              "      <th>Depth Accuracy</th>\n",
              "      <th>Accumulation Orientation</th>\n",
              "      <th>Ablation Orientation</th>\n",
              "      <th>Topographic Map Year</th>\n",
              "      <th>Topographic Map Scale</th>\n",
              "      <th>Photograph Year</th>\n",
              "    </tr>\n",
              "  </thead>\n",
              "  <tbody>\n",
              "    <tr>\n",
              "      <th>0</th>\n",
              "      <td>AF5Q112B0001</td>\n",
              "      <td>AFGHANISTAN</td>\n",
              "      <td>ASIA</td>\n",
              "      <td>Q112</td>\n",
              "      <td>B0</td>\n",
              "      <td>1</td>\n",
              "      <td>NaN</td>\n",
              "      <td>34.672</td>\n",
              "      <td>68.874</td>\n",
              "      <td>9.0</td>\n",
              "      <td>...</td>\n",
              "      <td>1.9</td>\n",
              "      <td>NaN</td>\n",
              "      <td>NaN</td>\n",
              "      <td>NaN</td>\n",
              "      <td>NaN</td>\n",
              "      <td>NE</td>\n",
              "      <td>NE</td>\n",
              "      <td>1959.0</td>\n",
              "      <td>100000.0</td>\n",
              "      <td>NaN</td>\n",
              "    </tr>\n",
              "    <tr>\n",
              "      <th>1</th>\n",
              "      <td>AF5Q112B0002</td>\n",
              "      <td>AFGHANISTAN</td>\n",
              "      <td>ASIA</td>\n",
              "      <td>Q112</td>\n",
              "      <td>B0</td>\n",
              "      <td>2</td>\n",
              "      <td>NaN</td>\n",
              "      <td>34.676</td>\n",
              "      <td>68.855</td>\n",
              "      <td>9.0</td>\n",
              "      <td>...</td>\n",
              "      <td>0.8</td>\n",
              "      <td>NaN</td>\n",
              "      <td>NaN</td>\n",
              "      <td>NaN</td>\n",
              "      <td>NaN</td>\n",
              "      <td>NW</td>\n",
              "      <td>NW</td>\n",
              "      <td>1959.0</td>\n",
              "      <td>100000.0</td>\n",
              "      <td>NaN</td>\n",
              "    </tr>\n",
              "    <tr>\n",
              "      <th>2</th>\n",
              "      <td>AF5Q112B0003</td>\n",
              "      <td>AFGHANISTAN</td>\n",
              "      <td>ASIA</td>\n",
              "      <td>Q112</td>\n",
              "      <td>B0</td>\n",
              "      <td>3</td>\n",
              "      <td>NaN</td>\n",
              "      <td>34.689</td>\n",
              "      <td>68.854</td>\n",
              "      <td>9.0</td>\n",
              "      <td>...</td>\n",
              "      <td>1.5</td>\n",
              "      <td>NaN</td>\n",
              "      <td>NaN</td>\n",
              "      <td>NaN</td>\n",
              "      <td>NaN</td>\n",
              "      <td>NW</td>\n",
              "      <td>NW</td>\n",
              "      <td>1959.0</td>\n",
              "      <td>100000.0</td>\n",
              "      <td>NaN</td>\n",
              "    </tr>\n",
              "    <tr>\n",
              "      <th>3</th>\n",
              "      <td>AF5Q112B0004</td>\n",
              "      <td>AFGHANISTAN</td>\n",
              "      <td>ASIA</td>\n",
              "      <td>Q112</td>\n",
              "      <td>B0</td>\n",
              "      <td>4</td>\n",
              "      <td>NaN</td>\n",
              "      <td>34.707</td>\n",
              "      <td>68.857</td>\n",
              "      <td>9.0</td>\n",
              "      <td>...</td>\n",
              "      <td>1.5</td>\n",
              "      <td>NaN</td>\n",
              "      <td>NaN</td>\n",
              "      <td>NaN</td>\n",
              "      <td>NaN</td>\n",
              "      <td>NE</td>\n",
              "      <td>NE</td>\n",
              "      <td>1959.0</td>\n",
              "      <td>100000.0</td>\n",
              "      <td>NaN</td>\n",
              "    </tr>\n",
              "    <tr>\n",
              "      <th>4</th>\n",
              "      <td>AF5Q112B0005</td>\n",
              "      <td>AFGHANISTAN</td>\n",
              "      <td>ASIA</td>\n",
              "      <td>Q112</td>\n",
              "      <td>B0</td>\n",
              "      <td>5</td>\n",
              "      <td>NaN</td>\n",
              "      <td>34.719</td>\n",
              "      <td>68.852</td>\n",
              "      <td>9.0</td>\n",
              "      <td>...</td>\n",
              "      <td>2.0</td>\n",
              "      <td>NaN</td>\n",
              "      <td>NaN</td>\n",
              "      <td>NaN</td>\n",
              "      <td>NaN</td>\n",
              "      <td>NaN</td>\n",
              "      <td>NaN</td>\n",
              "      <td>1959.0</td>\n",
              "      <td>100000.0</td>\n",
              "      <td>NaN</td>\n",
              "    </tr>\n",
              "    <tr>\n",
              "      <th>...</th>\n",
              "      <td>...</td>\n",
              "      <td>...</td>\n",
              "      <td>...</td>\n",
              "      <td>...</td>\n",
              "      <td>...</td>\n",
              "      <td>...</td>\n",
              "      <td>...</td>\n",
              "      <td>...</td>\n",
              "      <td>...</td>\n",
              "      <td>...</td>\n",
              "      <td>...</td>\n",
              "      <td>...</td>\n",
              "      <td>...</td>\n",
              "      <td>...</td>\n",
              "      <td>...</td>\n",
              "      <td>...</td>\n",
              "      <td>...</td>\n",
              "      <td>...</td>\n",
              "      <td>...</td>\n",
              "      <td>...</td>\n",
              "      <td>...</td>\n",
              "    </tr>\n",
              "    <tr>\n",
              "      <th>132885</th>\n",
              "      <td>ZR3B410A1002</td>\n",
              "      <td>ZAIRE</td>\n",
              "      <td>AFRICA</td>\n",
              "      <td>B410</td>\n",
              "      <td>A1</td>\n",
              "      <td>2</td>\n",
              "      <td>KRAEPELIN</td>\n",
              "      <td>0.438</td>\n",
              "      <td>29.899</td>\n",
              "      <td>6.0</td>\n",
              "      <td>...</td>\n",
              "      <td>0.1</td>\n",
              "      <td>NaN</td>\n",
              "      <td>NaN</td>\n",
              "      <td>NaN</td>\n",
              "      <td>NaN</td>\n",
              "      <td>NaN</td>\n",
              "      <td>NaN</td>\n",
              "      <td>1968.0</td>\n",
              "      <td>25000.0</td>\n",
              "      <td>NaN</td>\n",
              "    </tr>\n",
              "    <tr>\n",
              "      <th>132886</th>\n",
              "      <td>ZR3B410A1003</td>\n",
              "      <td>ZAIRE</td>\n",
              "      <td>AFRICA</td>\n",
              "      <td>B410</td>\n",
              "      <td>A1</td>\n",
              "      <td>3</td>\n",
              "      <td>NORTH-KRAEPELIN</td>\n",
              "      <td>0.440</td>\n",
              "      <td>29.898</td>\n",
              "      <td>6.0</td>\n",
              "      <td>...</td>\n",
              "      <td>0.1</td>\n",
              "      <td>NaN</td>\n",
              "      <td>NaN</td>\n",
              "      <td>NaN</td>\n",
              "      <td>NaN</td>\n",
              "      <td>NW</td>\n",
              "      <td>NW</td>\n",
              "      <td>1968.0</td>\n",
              "      <td>25000.0</td>\n",
              "      <td>NaN</td>\n",
              "    </tr>\n",
              "    <tr>\n",
              "      <th>132887</th>\n",
              "      <td>ZR3B410A2002</td>\n",
              "      <td>ZAIRE</td>\n",
              "      <td>AFRICA</td>\n",
              "      <td>B410</td>\n",
              "      <td>A2</td>\n",
              "      <td>2</td>\n",
              "      <td>ALBERT</td>\n",
              "      <td>0.389</td>\n",
              "      <td>29.871</td>\n",
              "      <td>6.0</td>\n",
              "      <td>...</td>\n",
              "      <td>0.1</td>\n",
              "      <td>NaN</td>\n",
              "      <td>NaN</td>\n",
              "      <td>NaN</td>\n",
              "      <td>NaN</td>\n",
              "      <td>NaN</td>\n",
              "      <td>NaN</td>\n",
              "      <td>1968.0</td>\n",
              "      <td>25000.0</td>\n",
              "      <td>NaN</td>\n",
              "    </tr>\n",
              "    <tr>\n",
              "      <th>132888</th>\n",
              "      <td>ZR3B410A3001</td>\n",
              "      <td>ZAIRE</td>\n",
              "      <td>AFRICA</td>\n",
              "      <td>B410</td>\n",
              "      <td>A3</td>\n",
              "      <td>1</td>\n",
              "      <td>ALEXANDRA</td>\n",
              "      <td>0.389</td>\n",
              "      <td>29.868</td>\n",
              "      <td>6.0</td>\n",
              "      <td>...</td>\n",
              "      <td>0.8</td>\n",
              "      <td>NaN</td>\n",
              "      <td>NaN</td>\n",
              "      <td>NaN</td>\n",
              "      <td>NaN</td>\n",
              "      <td>W</td>\n",
              "      <td>SW</td>\n",
              "      <td>1968.0</td>\n",
              "      <td>25000.0</td>\n",
              "      <td>NaN</td>\n",
              "    </tr>\n",
              "    <tr>\n",
              "      <th>132889</th>\n",
              "      <td>ZR3B410A4009</td>\n",
              "      <td>ZAIRE</td>\n",
              "      <td>AFRICA</td>\n",
              "      <td>B410</td>\n",
              "      <td>A4</td>\n",
              "      <td>9</td>\n",
              "      <td>WEST STANLEY</td>\n",
              "      <td>0.383</td>\n",
              "      <td>29.869</td>\n",
              "      <td>6.0</td>\n",
              "      <td>...</td>\n",
              "      <td>0.7</td>\n",
              "      <td>NaN</td>\n",
              "      <td>NaN</td>\n",
              "      <td>NaN</td>\n",
              "      <td>NaN</td>\n",
              "      <td>W</td>\n",
              "      <td>W</td>\n",
              "      <td>1968.0</td>\n",
              "      <td>25000.0</td>\n",
              "      <td>NaN</td>\n",
              "    </tr>\n",
              "  </tbody>\n",
              "</table>\n",
              "<p>132890 rows × 39 columns</p>\n",
              "</div>\n",
              "      <button class=\"colab-df-convert\" onclick=\"convertToInteractive('df-8a03c43d-99a2-49f4-8f9a-755026b56c8a')\"\n",
              "              title=\"Convert this dataframe to an interactive table.\"\n",
              "              style=\"display:none;\">\n",
              "        \n",
              "  <svg xmlns=\"http://www.w3.org/2000/svg\" height=\"24px\"viewBox=\"0 0 24 24\"\n",
              "       width=\"24px\">\n",
              "    <path d=\"M0 0h24v24H0V0z\" fill=\"none\"/>\n",
              "    <path d=\"M18.56 5.44l.94 2.06.94-2.06 2.06-.94-2.06-.94-.94-2.06-.94 2.06-2.06.94zm-11 1L8.5 8.5l.94-2.06 2.06-.94-2.06-.94L8.5 2.5l-.94 2.06-2.06.94zm10 10l.94 2.06.94-2.06 2.06-.94-2.06-.94-.94-2.06-.94 2.06-2.06.94z\"/><path d=\"M17.41 7.96l-1.37-1.37c-.4-.4-.92-.59-1.43-.59-.52 0-1.04.2-1.43.59L10.3 9.45l-7.72 7.72c-.78.78-.78 2.05 0 2.83L4 21.41c.39.39.9.59 1.41.59.51 0 1.02-.2 1.41-.59l7.78-7.78 2.81-2.81c.8-.78.8-2.07 0-2.86zM5.41 20L4 18.59l7.72-7.72 1.47 1.35L5.41 20z\"/>\n",
              "  </svg>\n",
              "      </button>\n",
              "      \n",
              "  <style>\n",
              "    .colab-df-container {\n",
              "      display:flex;\n",
              "      flex-wrap:wrap;\n",
              "      gap: 12px;\n",
              "    }\n",
              "\n",
              "    .colab-df-convert {\n",
              "      background-color: #E8F0FE;\n",
              "      border: none;\n",
              "      border-radius: 50%;\n",
              "      cursor: pointer;\n",
              "      display: none;\n",
              "      fill: #1967D2;\n",
              "      height: 32px;\n",
              "      padding: 0 0 0 0;\n",
              "      width: 32px;\n",
              "    }\n",
              "\n",
              "    .colab-df-convert:hover {\n",
              "      background-color: #E2EBFA;\n",
              "      box-shadow: 0px 1px 2px rgba(60, 64, 67, 0.3), 0px 1px 3px 1px rgba(60, 64, 67, 0.15);\n",
              "      fill: #174EA6;\n",
              "    }\n",
              "\n",
              "    [theme=dark] .colab-df-convert {\n",
              "      background-color: #3B4455;\n",
              "      fill: #D2E3FC;\n",
              "    }\n",
              "\n",
              "    [theme=dark] .colab-df-convert:hover {\n",
              "      background-color: #434B5C;\n",
              "      box-shadow: 0px 1px 3px 1px rgba(0, 0, 0, 0.15);\n",
              "      filter: drop-shadow(0px 1px 2px rgba(0, 0, 0, 0.3));\n",
              "      fill: #FFFFFF;\n",
              "    }\n",
              "  </style>\n",
              "\n",
              "      <script>\n",
              "        const buttonEl =\n",
              "          document.querySelector('#df-8a03c43d-99a2-49f4-8f9a-755026b56c8a button.colab-df-convert');\n",
              "        buttonEl.style.display =\n",
              "          google.colab.kernel.accessAllowed ? 'block' : 'none';\n",
              "\n",
              "        async function convertToInteractive(key) {\n",
              "          const element = document.querySelector('#df-8a03c43d-99a2-49f4-8f9a-755026b56c8a');\n",
              "          const dataTable =\n",
              "            await google.colab.kernel.invokeFunction('convertToInteractive',\n",
              "                                                     [key], {});\n",
              "          if (!dataTable) return;\n",
              "\n",
              "          const docLinkHtml = 'Like what you see? Visit the ' +\n",
              "            '<a target=\"_blank\" href=https://colab.research.google.com/notebooks/data_table.ipynb>data table notebook</a>'\n",
              "            + ' to learn more about interactive tables.';\n",
              "          element.innerHTML = '';\n",
              "          dataTable['output_type'] = 'display_data';\n",
              "          await google.colab.output.renderOutput(dataTable, element);\n",
              "          const docLink = document.createElement('div');\n",
              "          docLink.innerHTML = docLinkHtml;\n",
              "          element.appendChild(docLink);\n",
              "        }\n",
              "      </script>\n",
              "    </div>\n",
              "  </div>\n",
              "  "
            ]
          },
          "metadata": {},
          "execution_count": 204
        }
      ],
      "source": [
        "df = pd.read_csv(\"database.csv\")\n",
        "df"
      ]
    },
    {
      "cell_type": "markdown",
      "metadata": {
        "id": "0k7bjlQ6EMr9"
      },
      "source": [
        "Go through the data"
      ]
    },
    {
      "cell_type": "code",
      "execution_count": null,
      "metadata": {
        "colab": {
          "base_uri": "https://localhost:8080/",
          "height": 428
        },
        "id": "alDdV3m8EMMv",
        "outputId": "03a4adde-7060-40a7-f641-b17f49302dbb"
      },
      "outputs": [
        {
          "data": {
            "text/html": [
              "\n",
              "  <div id=\"df-37748894-0647-428b-933b-1feb777a9f6e\">\n",
              "    <div class=\"colab-df-container\">\n",
              "      <div>\n",
              "<style scoped>\n",
              "    .dataframe tbody tr th:only-of-type {\n",
              "        vertical-align: middle;\n",
              "    }\n",
              "\n",
              "    .dataframe tbody tr th {\n",
              "        vertical-align: top;\n",
              "    }\n",
              "\n",
              "    .dataframe thead th {\n",
              "        text-align: right;\n",
              "    }\n",
              "</style>\n",
              "<table border=\"1\" class=\"dataframe\">\n",
              "  <thead>\n",
              "    <tr style=\"text-align: right;\">\n",
              "      <th></th>\n",
              "      <th>Latitude</th>\n",
              "      <th>Longitude</th>\n",
              "      <th>Primary Class</th>\n",
              "      <th>Glacier Source</th>\n",
              "      <th>Basin Count</th>\n",
              "      <th>Glacier Form</th>\n",
              "      <th>Glacier Activity</th>\n",
              "      <th>Activity Start</th>\n",
              "      <th>Activity End</th>\n",
              "      <th>Minimum Elevation</th>\n",
              "      <th>...</th>\n",
              "      <th>Mean Width</th>\n",
              "      <th>Mean Length</th>\n",
              "      <th>Maximum Length</th>\n",
              "      <th>Maximum Length Exposed</th>\n",
              "      <th>Maximum Length Ablation</th>\n",
              "      <th>Mean Depth</th>\n",
              "      <th>Depth Accuracy</th>\n",
              "      <th>Topographic Map Year</th>\n",
              "      <th>Topographic Map Scale</th>\n",
              "      <th>Photograph Year</th>\n",
              "    </tr>\n",
              "  </thead>\n",
              "  <tbody>\n",
              "    <tr>\n",
              "      <th>count</th>\n",
              "      <td>132890.000000</td>\n",
              "      <td>132890.000000</td>\n",
              "      <td>131406.000000</td>\n",
              "      <td>132746.000000</td>\n",
              "      <td>15558.000000</td>\n",
              "      <td>131813.000000</td>\n",
              "      <td>132775.000000</td>\n",
              "      <td>4202.000000</td>\n",
              "      <td>143.000000</td>\n",
              "      <td>117162.000000</td>\n",
              "      <td>...</td>\n",
              "      <td>69966.000000</td>\n",
              "      <td>55258.000000</td>\n",
              "      <td>102593.000000</td>\n",
              "      <td>84621.000000</td>\n",
              "      <td>17051.000000</td>\n",
              "      <td>70071.000000</td>\n",
              "      <td>78685.000000</td>\n",
              "      <td>83697.000000</td>\n",
              "      <td>74586.000000</td>\n",
              "      <td>82464.000000</td>\n",
              "    </tr>\n",
              "    <tr>\n",
              "      <th>mean</th>\n",
              "      <td>36.322101</td>\n",
              "      <td>31.902296</td>\n",
              "      <td>5.716231</td>\n",
              "      <td>0.864712</td>\n",
              "      <td>1.031752</td>\n",
              "      <td>3.738918</td>\n",
              "      <td>0.620448</td>\n",
              "      <td>1967.112327</td>\n",
              "      <td>1986.930070</td>\n",
              "      <td>3502.362063</td>\n",
              "      <td>...</td>\n",
              "      <td>0.563436</td>\n",
              "      <td>1.392470</td>\n",
              "      <td>1.417326</td>\n",
              "      <td>1.328634</td>\n",
              "      <td>1.621133</td>\n",
              "      <td>28.415085</td>\n",
              "      <td>2.262960</td>\n",
              "      <td>1970.529565</td>\n",
              "      <td>96838.461508</td>\n",
              "      <td>1974.795899</td>\n",
              "    </tr>\n",
              "    <tr>\n",
              "      <th>std</th>\n",
              "      <td>27.821062</td>\n",
              "      <td>83.860643</td>\n",
              "      <td>1.768668</td>\n",
              "      <td>0.494326</td>\n",
              "      <td>0.327473</td>\n",
              "      <td>2.255064</td>\n",
              "      <td>1.072336</td>\n",
              "      <td>11.348193</td>\n",
              "      <td>6.999648</td>\n",
              "      <td>1735.317842</td>\n",
              "      <td>...</td>\n",
              "      <td>0.643816</td>\n",
              "      <td>2.087975</td>\n",
              "      <td>2.560785</td>\n",
              "      <td>1.984061</td>\n",
              "      <td>3.286073</td>\n",
              "      <td>46.480501</td>\n",
              "      <td>0.999009</td>\n",
              "      <td>10.276403</td>\n",
              "      <td>69675.200534</td>\n",
              "      <td>14.107653</td>\n",
              "    </tr>\n",
              "    <tr>\n",
              "      <th>min</th>\n",
              "      <td>-71.657200</td>\n",
              "      <td>-179.918000</td>\n",
              "      <td>0.000000</td>\n",
              "      <td>0.000000</td>\n",
              "      <td>1.000000</td>\n",
              "      <td>0.000000</td>\n",
              "      <td>0.000000</td>\n",
              "      <td>1901.000000</td>\n",
              "      <td>1958.000000</td>\n",
              "      <td>0.000000</td>\n",
              "      <td>...</td>\n",
              "      <td>0.000000</td>\n",
              "      <td>0.020000</td>\n",
              "      <td>0.060000</td>\n",
              "      <td>0.000000</td>\n",
              "      <td>0.000000</td>\n",
              "      <td>0.000000</td>\n",
              "      <td>1.000000</td>\n",
              "      <td>1901.000000</td>\n",
              "      <td>750.000000</td>\n",
              "      <td>1900.000000</td>\n",
              "    </tr>\n",
              "    <tr>\n",
              "      <th>25%</th>\n",
              "      <td>30.616000</td>\n",
              "      <td>-50.375000</td>\n",
              "      <td>6.000000</td>\n",
              "      <td>1.000000</td>\n",
              "      <td>1.000000</td>\n",
              "      <td>3.000000</td>\n",
              "      <td>0.000000</td>\n",
              "      <td>1963.000000</td>\n",
              "      <td>1986.000000</td>\n",
              "      <td>1800.000000</td>\n",
              "      <td>...</td>\n",
              "      <td>0.300000</td>\n",
              "      <td>0.500000</td>\n",
              "      <td>0.500000</td>\n",
              "      <td>0.500000</td>\n",
              "      <td>0.200000</td>\n",
              "      <td>12.000000</td>\n",
              "      <td>1.000000</td>\n",
              "      <td>1966.000000</td>\n",
              "      <td>50000.000000</td>\n",
              "      <td>1968.000000</td>\n",
              "    </tr>\n",
              "    <tr>\n",
              "      <th>50%</th>\n",
              "      <td>38.580000</td>\n",
              "      <td>75.484500</td>\n",
              "      <td>6.000000</td>\n",
              "      <td>1.000000</td>\n",
              "      <td>1.000000</td>\n",
              "      <td>4.000000</td>\n",
              "      <td>0.000000</td>\n",
              "      <td>1967.000000</td>\n",
              "      <td>1986.000000</td>\n",
              "      <td>3840.000000</td>\n",
              "      <td>...</td>\n",
              "      <td>0.400000</td>\n",
              "      <td>0.800000</td>\n",
              "      <td>0.800000</td>\n",
              "      <td>0.800000</td>\n",
              "      <td>0.600000</td>\n",
              "      <td>20.000000</td>\n",
              "      <td>2.000000</td>\n",
              "      <td>1972.000000</td>\n",
              "      <td>90000.000000</td>\n",
              "      <td>1971.000000</td>\n",
              "    </tr>\n",
              "    <tr>\n",
              "      <th>75%</th>\n",
              "      <td>49.223000</td>\n",
              "      <td>85.265750</td>\n",
              "      <td>7.000000</td>\n",
              "      <td>1.000000</td>\n",
              "      <td>1.000000</td>\n",
              "      <td>5.000000</td>\n",
              "      <td>1.000000</td>\n",
              "      <td>1975.000000</td>\n",
              "      <td>1988.000000</td>\n",
              "      <td>5020.000000</td>\n",
              "      <td>...</td>\n",
              "      <td>0.700000</td>\n",
              "      <td>1.510000</td>\n",
              "      <td>1.500000</td>\n",
              "      <td>1.500000</td>\n",
              "      <td>2.000000</td>\n",
              "      <td>36.000000</td>\n",
              "      <td>3.000000</td>\n",
              "      <td>1978.000000</td>\n",
              "      <td>100000.000000</td>\n",
              "      <td>1980.000000</td>\n",
              "    </tr>\n",
              "    <tr>\n",
              "      <th>max</th>\n",
              "      <td>89.300000</td>\n",
              "      <td>179.680000</td>\n",
              "      <td>9.000000</td>\n",
              "      <td>3.000000</td>\n",
              "      <td>7.000000</td>\n",
              "      <td>9.000000</td>\n",
              "      <td>8.000000</td>\n",
              "      <td>1996.000000</td>\n",
              "      <td>2002.000000</td>\n",
              "      <td>8047.000000</td>\n",
              "      <td>...</td>\n",
              "      <td>29.800000</td>\n",
              "      <td>76.640000</td>\n",
              "      <td>145.000000</td>\n",
              "      <td>125.000000</td>\n",
              "      <td>64.500000</td>\n",
              "      <td>7060.000000</td>\n",
              "      <td>5.000000</td>\n",
              "      <td>1998.000000</td>\n",
              "      <td>1000000.000000</td>\n",
              "      <td>2003.000000</td>\n",
              "    </tr>\n",
              "  </tbody>\n",
              "</table>\n",
              "<p>8 rows × 30 columns</p>\n",
              "</div>\n",
              "      <button class=\"colab-df-convert\" onclick=\"convertToInteractive('df-37748894-0647-428b-933b-1feb777a9f6e')\"\n",
              "              title=\"Convert this dataframe to an interactive table.\"\n",
              "              style=\"display:none;\">\n",
              "        \n",
              "  <svg xmlns=\"http://www.w3.org/2000/svg\" height=\"24px\"viewBox=\"0 0 24 24\"\n",
              "       width=\"24px\">\n",
              "    <path d=\"M0 0h24v24H0V0z\" fill=\"none\"/>\n",
              "    <path d=\"M18.56 5.44l.94 2.06.94-2.06 2.06-.94-2.06-.94-.94-2.06-.94 2.06-2.06.94zm-11 1L8.5 8.5l.94-2.06 2.06-.94-2.06-.94L8.5 2.5l-.94 2.06-2.06.94zm10 10l.94 2.06.94-2.06 2.06-.94-2.06-.94-.94-2.06-.94 2.06-2.06.94z\"/><path d=\"M17.41 7.96l-1.37-1.37c-.4-.4-.92-.59-1.43-.59-.52 0-1.04.2-1.43.59L10.3 9.45l-7.72 7.72c-.78.78-.78 2.05 0 2.83L4 21.41c.39.39.9.59 1.41.59.51 0 1.02-.2 1.41-.59l7.78-7.78 2.81-2.81c.8-.78.8-2.07 0-2.86zM5.41 20L4 18.59l7.72-7.72 1.47 1.35L5.41 20z\"/>\n",
              "  </svg>\n",
              "      </button>\n",
              "      \n",
              "  <style>\n",
              "    .colab-df-container {\n",
              "      display:flex;\n",
              "      flex-wrap:wrap;\n",
              "      gap: 12px;\n",
              "    }\n",
              "\n",
              "    .colab-df-convert {\n",
              "      background-color: #E8F0FE;\n",
              "      border: none;\n",
              "      border-radius: 50%;\n",
              "      cursor: pointer;\n",
              "      display: none;\n",
              "      fill: #1967D2;\n",
              "      height: 32px;\n",
              "      padding: 0 0 0 0;\n",
              "      width: 32px;\n",
              "    }\n",
              "\n",
              "    .colab-df-convert:hover {\n",
              "      background-color: #E2EBFA;\n",
              "      box-shadow: 0px 1px 2px rgba(60, 64, 67, 0.3), 0px 1px 3px 1px rgba(60, 64, 67, 0.15);\n",
              "      fill: #174EA6;\n",
              "    }\n",
              "\n",
              "    [theme=dark] .colab-df-convert {\n",
              "      background-color: #3B4455;\n",
              "      fill: #D2E3FC;\n",
              "    }\n",
              "\n",
              "    [theme=dark] .colab-df-convert:hover {\n",
              "      background-color: #434B5C;\n",
              "      box-shadow: 0px 1px 3px 1px rgba(0, 0, 0, 0.15);\n",
              "      filter: drop-shadow(0px 1px 2px rgba(0, 0, 0, 0.3));\n",
              "      fill: #FFFFFF;\n",
              "    }\n",
              "  </style>\n",
              "\n",
              "      <script>\n",
              "        const buttonEl =\n",
              "          document.querySelector('#df-37748894-0647-428b-933b-1feb777a9f6e button.colab-df-convert');\n",
              "        buttonEl.style.display =\n",
              "          google.colab.kernel.accessAllowed ? 'block' : 'none';\n",
              "\n",
              "        async function convertToInteractive(key) {\n",
              "          const element = document.querySelector('#df-37748894-0647-428b-933b-1feb777a9f6e');\n",
              "          const dataTable =\n",
              "            await google.colab.kernel.invokeFunction('convertToInteractive',\n",
              "                                                     [key], {});\n",
              "          if (!dataTable) return;\n",
              "\n",
              "          const docLinkHtml = 'Like what you see? Visit the ' +\n",
              "            '<a target=\"_blank\" href=https://colab.research.google.com/notebooks/data_table.ipynb>data table notebook</a>'\n",
              "            + ' to learn more about interactive tables.';\n",
              "          element.innerHTML = '';\n",
              "          dataTable['output_type'] = 'display_data';\n",
              "          await google.colab.output.renderOutput(dataTable, element);\n",
              "          const docLink = document.createElement('div');\n",
              "          docLink.innerHTML = docLinkHtml;\n",
              "          element.appendChild(docLink);\n",
              "        }\n",
              "      </script>\n",
              "    </div>\n",
              "  </div>\n",
              "  "
            ],
            "text/plain": [
              "            Latitude      Longitude  Primary Class  Glacier Source  \\\n",
              "count  132890.000000  132890.000000  131406.000000   132746.000000   \n",
              "mean       36.322101      31.902296       5.716231        0.864712   \n",
              "std        27.821062      83.860643       1.768668        0.494326   \n",
              "min       -71.657200    -179.918000       0.000000        0.000000   \n",
              "25%        30.616000     -50.375000       6.000000        1.000000   \n",
              "50%        38.580000      75.484500       6.000000        1.000000   \n",
              "75%        49.223000      85.265750       7.000000        1.000000   \n",
              "max        89.300000     179.680000       9.000000        3.000000   \n",
              "\n",
              "        Basin Count   Glacier Form  Glacier Activity  Activity Start  \\\n",
              "count  15558.000000  131813.000000     132775.000000     4202.000000   \n",
              "mean       1.031752       3.738918          0.620448     1967.112327   \n",
              "std        0.327473       2.255064          1.072336       11.348193   \n",
              "min        1.000000       0.000000          0.000000     1901.000000   \n",
              "25%        1.000000       3.000000          0.000000     1963.000000   \n",
              "50%        1.000000       4.000000          0.000000     1967.000000   \n",
              "75%        1.000000       5.000000          1.000000     1975.000000   \n",
              "max        7.000000       9.000000          8.000000     1996.000000   \n",
              "\n",
              "       Activity End  Minimum Elevation  ...    Mean Width   Mean Length  \\\n",
              "count    143.000000      117162.000000  ...  69966.000000  55258.000000   \n",
              "mean    1986.930070        3502.362063  ...      0.563436      1.392470   \n",
              "std        6.999648        1735.317842  ...      0.643816      2.087975   \n",
              "min     1958.000000           0.000000  ...      0.000000      0.020000   \n",
              "25%     1986.000000        1800.000000  ...      0.300000      0.500000   \n",
              "50%     1986.000000        3840.000000  ...      0.400000      0.800000   \n",
              "75%     1988.000000        5020.000000  ...      0.700000      1.510000   \n",
              "max     2002.000000        8047.000000  ...     29.800000     76.640000   \n",
              "\n",
              "       Maximum Length  Maximum Length Exposed  Maximum Length Ablation  \\\n",
              "count   102593.000000            84621.000000             17051.000000   \n",
              "mean         1.417326                1.328634                 1.621133   \n",
              "std          2.560785                1.984061                 3.286073   \n",
              "min          0.060000                0.000000                 0.000000   \n",
              "25%          0.500000                0.500000                 0.200000   \n",
              "50%          0.800000                0.800000                 0.600000   \n",
              "75%          1.500000                1.500000                 2.000000   \n",
              "max        145.000000              125.000000                64.500000   \n",
              "\n",
              "         Mean Depth  Depth Accuracy  Topographic Map Year  \\\n",
              "count  70071.000000    78685.000000          83697.000000   \n",
              "mean      28.415085        2.262960           1970.529565   \n",
              "std       46.480501        0.999009             10.276403   \n",
              "min        0.000000        1.000000           1901.000000   \n",
              "25%       12.000000        1.000000           1966.000000   \n",
              "50%       20.000000        2.000000           1972.000000   \n",
              "75%       36.000000        3.000000           1978.000000   \n",
              "max     7060.000000        5.000000           1998.000000   \n",
              "\n",
              "       Topographic Map Scale  Photograph Year  \n",
              "count           74586.000000     82464.000000  \n",
              "mean            96838.461508      1974.795899  \n",
              "std             69675.200534        14.107653  \n",
              "min               750.000000      1900.000000  \n",
              "25%             50000.000000      1968.000000  \n",
              "50%             90000.000000      1971.000000  \n",
              "75%            100000.000000      1980.000000  \n",
              "max           1000000.000000      2003.000000  \n",
              "\n",
              "[8 rows x 30 columns]"
            ]
          },
          "execution_count": 4,
          "metadata": {},
          "output_type": "execute_result"
        }
      ],
      "source": [
        "df.describe()"
      ]
    },
    {
      "cell_type": "code",
      "execution_count": null,
      "metadata": {
        "colab": {
          "base_uri": "https://localhost:8080/"
        },
        "id": "y5UN1HP5EVe4",
        "outputId": "213484e0-f592-4d9a-ed9a-cb858203b14d"
      },
      "outputs": [
        {
          "data": {
            "text/plain": [
              "(132890, 39)"
            ]
          },
          "execution_count": 5,
          "metadata": {},
          "output_type": "execute_result"
        }
      ],
      "source": [
        "df.shape"
      ]
    },
    {
      "cell_type": "code",
      "execution_count": null,
      "metadata": {
        "colab": {
          "base_uri": "https://localhost:8080/"
        },
        "id": "7awVXmspFCrY",
        "outputId": "12df9fe5-9549-4c92-d9ca-6ca2321a90c3"
      },
      "outputs": [
        {
          "data": {
            "text/plain": [
              "Glacier ID                          0\n",
              "Political Unit                      0\n",
              "Continent                           0\n",
              "Basin Code                          0\n",
              "Location Code                       0\n",
              "Glacier Code                        0\n",
              "Glacier Name                    86139\n",
              "Latitude                            0\n",
              "Longitude                           0\n",
              "Primary Class                    1484\n",
              "Glacier Source                    144\n",
              "Basin Count                    117332\n",
              "Glacier Form                     1077\n",
              "Glacier Activity                  115\n",
              "Activity Start                 128688\n",
              "Activity End                   132747\n",
              "Minimum Elevation               15728\n",
              "Minimum Elevation Exposed       43193\n",
              "Mean Elevation                  51291\n",
              "Mean Elevation Accumulation    117417\n",
              "Mean Elevation Ablation        121837\n",
              "Maximum Elevation               17422\n",
              "Snow Line Elevation            104042\n",
              "Snow Line Accuracy             109566\n",
              "Glacier Area                     4516\n",
              "Area Accuracy                   48450\n",
              "Area Exposed                    42153\n",
              "Mean Width                      62924\n",
              "Mean Length                     77632\n",
              "Maximum Length                  30297\n",
              "Maximum Length Exposed          48269\n",
              "Maximum Length Ablation        115839\n",
              "Mean Depth                      62819\n",
              "Depth Accuracy                  54205\n",
              "Accumulation Orientation        18458\n",
              "Ablation Orientation            16356\n",
              "Topographic Map Year            49193\n",
              "Topographic Map Scale           58304\n",
              "Photograph Year                 50426\n",
              "dtype: int64"
            ]
          },
          "execution_count": 4,
          "metadata": {},
          "output_type": "execute_result"
        }
      ],
      "source": [
        "df.isna().sum()"
      ]
    },
    {
      "cell_type": "markdown",
      "source": [
        "## Snow Line Elevation"
      ],
      "metadata": {
        "id": "r9eOdFhdAjm7"
      }
    },
    {
      "cell_type": "markdown",
      "metadata": {
        "id": "1eBSVsPtGsnk"
      },
      "source": [
        "Preparing dataset for the models. Selectionning all the columns of interest together, to select only the line without NaN"
      ]
    },
    {
      "cell_type": "code",
      "execution_count": 205,
      "metadata": {
        "id": "IJzzUKGGGsGX"
      },
      "outputs": [],
      "source": [
        "df_select = df[[\"Snow Line Elevation\", \"Latitude\", \"Longitude\", \"Glacier Area\", \"Accumulation Orientation\", \"Ablation Orientation\",\"Ablation Orientation\", \"Mean Length\", \"Mean Elevation\",\"Minimum Elevation\", \"Maximum Elevation\", \"Primary Class\", \"Glacier Form\" ]]"
      ]
    },
    {
      "cell_type": "code",
      "execution_count": 206,
      "metadata": {
        "id": "hRxDaZ-pIGcC"
      },
      "outputs": [],
      "source": [
        "df_select_noNan = df_select.dropna()"
      ]
    },
    {
      "cell_type": "code",
      "execution_count": 207,
      "metadata": {
        "colab": {
          "base_uri": "https://localhost:8080/"
        },
        "id": "QjVYm9XyKChc",
        "outputId": "dbbbcd98-03c5-403e-e218-59667cc44403"
      },
      "outputs": [
        {
          "output_type": "execute_result",
          "data": {
            "text/plain": [
              "(5700, 13)"
            ]
          },
          "metadata": {},
          "execution_count": 207
        }
      ],
      "source": [
        "df_select_noNan.shape"
      ]
    },
    {
      "cell_type": "markdown",
      "metadata": {
        "id": "wI421SZZKs_H"
      },
      "source": [
        "Preparing training, validation and tests set"
      ]
    },
    {
      "cell_type": "code",
      "execution_count": 208,
      "metadata": {
        "id": "OQf9ijSmK34Q"
      },
      "outputs": [],
      "source": [
        "X = df_select_noNan[[ \"Latitude\", \"Longitude\", \"Glacier Area\", \"Mean Length\", \"Mean Elevation\",\"Minimum Elevation\", \"Maximum Elevation\", \"Primary Class\", \"Glacier Form\" ]]"
      ]
    },
    {
      "cell_type": "code",
      "execution_count": 209,
      "metadata": {
        "id": "8fbeG7RaKqf1"
      },
      "outputs": [],
      "source": [
        "y = df_select_noNan[['Snow Line Elevation']]"
      ]
    },
    {
      "cell_type": "code",
      "execution_count": 210,
      "metadata": {
        "id": "L7Sl_0RcLTCf"
      },
      "outputs": [],
      "source": [
        "from sklearn.model_selection import train_test_split\n",
        "X_train, X_test_val, y_train, y_test_val = train_test_split(X, y, test_size=0.3,random_state=42)\n",
        "X_valid, X_test, y_valid, y_test = train_test_split(X_test_val, y_test_val, test_size=0.5, random_state=42)"
      ]
    },
    {
      "cell_type": "markdown",
      "source": [
        "Standardisation of data"
      ],
      "metadata": {
        "id": "O_RAW_KTAszW"
      }
    },
    {
      "cell_type": "code",
      "execution_count": 211,
      "metadata": {
        "id": "X8gT6KcZFP2z"
      },
      "outputs": [],
      "source": [
        "from sklearn.preprocessing import StandardScaler\n",
        "ss = StandardScaler()\n",
        "X_train_scaled = ss.fit_transform(X_train)\n",
        "X_valid_scaled = ss.transform(X_valid)\n",
        "X_test_scaled = ss.transform(X_test)"
      ]
    },
    {
      "cell_type": "markdown",
      "source": [
        "Linear Regression"
      ],
      "metadata": {
        "id": "-NFJDkuBAwso"
      }
    },
    {
      "cell_type": "code",
      "execution_count": 212,
      "metadata": {
        "id": "yZjoGRXb8wSw"
      },
      "outputs": [],
      "source": [
        "from sklearn.linear_model import LinearRegression\n",
        "Lr = LinearRegression()\n",
        "Lr.fit(X_train_scaled, y_train)\n",
        "y_pred_valid = Lr.predict(X_valid_scaled)\n",
        "y_pred_valid_df = pd.DataFrame(y_pred_valid)"
      ]
    },
    {
      "cell_type": "code",
      "execution_count": 213,
      "metadata": {
        "id": "abw0YAFBQmkM"
      },
      "outputs": [],
      "source": [
        "y_pred_train = Lr.predict(X_train_scaled)\n",
        "y_pred_train_df = pd.DataFrame(y_pred_train)"
      ]
    },
    {
      "cell_type": "code",
      "execution_count": 214,
      "metadata": {
        "id": "xSxHXcJb8_jY"
      },
      "outputs": [],
      "source": [
        "y_pred_test = Lr.predict(X_test_scaled)\n",
        "y_pred_test_df = pd.DataFrame(y_pred_test)"
      ]
    },
    {
      "cell_type": "markdown",
      "source": [
        "Evaluate the performance of the results"
      ],
      "metadata": {
        "id": "6FuE4q30A9-V"
      }
    },
    {
      "cell_type": "code",
      "execution_count": 215,
      "metadata": {
        "id": "XP81Wsh0MoqL"
      },
      "outputs": [],
      "source": [
        "from sklearn.metrics import explained_variance_score\n",
        "from sklearn.metrics import r2_score"
      ]
    },
    {
      "cell_type": "code",
      "execution_count": 216,
      "metadata": {
        "colab": {
          "base_uri": "https://localhost:8080/"
        },
        "id": "XAZ9AH4iPjeG",
        "outputId": "a45b5ca0-6cb0-48af-e752-343b83f7f7c6"
      },
      "outputs": [
        {
          "output_type": "stream",
          "name": "stdout",
          "text": [
            "Training r2 score:0.9857419720934129 \n",
            "Validation r2 score:0.9784370529543466 \n",
            "Test r2 score:0.9882704685529391 \n",
            "\n"
          ]
        }
      ],
      "source": [
        "r2_train = r2_score(y_train, y_pred_train_df)\n",
        "r2_valid = r2_score(y_valid, y_pred_valid_df)\n",
        "r2_test = r2_score(y_test, y_pred_test_df)\n",
        "print(f'Training r2 score:{r2_train} \\n'\n",
        "           f'Validation r2 score:{r2_valid} \\n'\n",
        "           f'Test r2 score:{r2_test} \\n')"
      ]
    },
    {
      "cell_type": "code",
      "execution_count": 217,
      "metadata": {
        "colab": {
          "base_uri": "https://localhost:8080/"
        },
        "id": "o2NsUyvD9F3x",
        "outputId": "0ec38456-07af-4695-fe2c-cfd930d8e941"
      },
      "outputs": [
        {
          "output_type": "stream",
          "name": "stdout",
          "text": [
            "0.9857419720934129\n"
          ]
        }
      ],
      "source": [
        "explained_variance_train = explained_variance_score(y_train, # We'll need our ground truth\n",
        "                   y_pred_train_df) # and our predictions\n",
        "print(explained_variance_train) "
      ]
    },
    {
      "cell_type": "code",
      "execution_count": 218,
      "metadata": {
        "colab": {
          "base_uri": "https://localhost:8080/"
        },
        "id": "9t9nLqVj9MDC",
        "outputId": "cd941f5d-1511-4ca6-abc0-e8dc83ba20dc"
      },
      "outputs": [
        {
          "output_type": "stream",
          "name": "stdout",
          "text": [
            "0.9784375904335074\n"
          ]
        }
      ],
      "source": [
        "explained_variance_valid = explained_variance_score(y_valid, # We'll need our ground truth\n",
        "                   y_pred_valid_df) # and our predictions\n",
        "print(explained_variance_valid) "
      ]
    },
    {
      "cell_type": "code",
      "execution_count": 219,
      "metadata": {
        "colab": {
          "base_uri": "https://localhost:8080/"
        },
        "id": "azWUOOSDMsNX",
        "outputId": "51ead1ae-f39c-4c14-ec5f-abc63947e969"
      },
      "outputs": [
        {
          "output_type": "stream",
          "name": "stdout",
          "text": [
            "0.9882746124722868\n"
          ]
        }
      ],
      "source": [
        "explained_variance_test = explained_variance_score(y_test, # We'll need our ground truth\n",
        "                   y_pred_test_df) # and our predictions\n",
        "print(explained_variance_test)               "
      ]
    },
    {
      "cell_type": "code",
      "execution_count": 220,
      "metadata": {
        "colab": {
          "base_uri": "https://localhost:8080/"
        },
        "id": "oTZ5VXhXTVut",
        "outputId": "980ac03b-3608-43f3-d868-41963903f9bf"
      },
      "outputs": [
        {
          "output_type": "stream",
          "name": "stdout",
          "text": [
            "Training variance explained:0.9857419720934129 \n",
            "Validation variance explained:0.9784375904335074 \n",
            "Test variance explained:0.9882746124722868 \n",
            "\n"
          ]
        }
      ],
      "source": [
        "print(f'Training variance explained:{explained_variance_train} \\n'\n",
        "           f'Validation variance explained:{explained_variance_valid} \\n'\n",
        "           f'Test variance explained:{explained_variance_test} \\n')"
      ]
    },
    {
      "cell_type": "code",
      "source": [
        "from sklearn.metrics import mean_absolute_error"
      ],
      "metadata": {
        "id": "js5XMaJaO_lh"
      },
      "execution_count": 221,
      "outputs": []
    },
    {
      "cell_type": "code",
      "source": [
        "print(mean_absolute_error(y_test, y_pred_test))\n",
        "print(mean_absolute_error(y_valid, y_pred_valid))\n",
        "print(mean_absolute_error(y_train, y_pred_train))"
      ],
      "metadata": {
        "colab": {
          "base_uri": "https://localhost:8080/"
        },
        "id": "WTvutuExO9bA",
        "outputId": "2d67d3fa-0b09-4c0e-c707-8e44044baf50"
      },
      "execution_count": 222,
      "outputs": [
        {
          "output_type": "stream",
          "name": "stdout",
          "text": [
            "85.64009439514233\n",
            "84.86757054279803\n",
            "85.75213420671265\n"
          ]
        }
      ]
    },
    {
      "cell_type": "markdown",
      "metadata": {
        "id": "tdORb7IscMjo"
      },
      "source": [
        "Features importance"
      ]
    },
    {
      "cell_type": "code",
      "execution_count": 223,
      "metadata": {
        "id": "6E4s_CxiBp1o"
      },
      "outputs": [],
      "source": [
        "importances = pd.DataFrame(data={\n",
        "    'Variable': X_train.columns,\n",
        "    'Importance': Lr.coef_[0]\n",
        "    })"
      ]
    },
    {
      "cell_type": "code",
      "execution_count": 224,
      "metadata": {
        "colab": {
          "base_uri": "https://localhost:8080/",
          "height": 354
        },
        "id": "Qj3GYnY2BR9-",
        "outputId": "85955e8f-b00f-4c04-ad96-f2560760aee7"
      },
      "outputs": [
        {
          "output_type": "display_data",
          "data": {
            "text/plain": [
              "<Figure size 432x288 with 1 Axes>"
            ],
            "image/png": "[encoded data removed]"
          },
          "metadata": {
            "needs_background": "light"
          }
        }
      ],
      "source": [
        "plt.bar(x=importances['Variable'], height=importances['Importance'], color='#087E8B')\n",
        "plt.xticks(rotation='vertical')\n",
        "plt.show()"
      ]
    },
    {
      "cell_type": "code",
      "execution_count": 225,
      "metadata": {
        "colab": {
          "base_uri": "https://localhost:8080/",
          "height": 283
        },
        "id": "rdshOyv17MDU",
        "outputId": "3e75b65d-a568-4ea0-da92-67663c566b20"
      },
      "outputs": [
        {
          "output_type": "display_data",
          "data": {
            "text/plain": [
              "<Figure size 432x288 with 1 Axes>"
            ],
            "image/png": "[encoded data removed]"
          },
          "metadata": {
            "needs_background": "light"
          }
        }
      ],
      "source": [
        "plt.scatter(y_test,y_pred_test);\n",
        "plt.xlabel('True Snow Line Elevation  (m)');\n",
        "plt.ylabel('Predicted Snow Line Elevation (m)');"
      ]
    },
    {
      "cell_type": "markdown",
      "metadata": {
        "id": "YZ1IcvJdb2pL"
      },
      "source": [
        "Trying with only the mean elevation as predictor "
      ]
    },
    {
      "cell_type": "code",
      "execution_count": 226,
      "metadata": {
        "id": "gWsW3Eixb2I2"
      },
      "outputs": [],
      "source": [
        "X = df_select_noNan[[\"Mean Elevation\"]]"
      ]
    },
    {
      "cell_type": "code",
      "execution_count": 227,
      "metadata": {
        "id": "AOx812I4dYwR"
      },
      "outputs": [],
      "source": [
        "X_train, X_test, y_train, y_test = train_test_split(X, y, test_size=0.2,random_state=42)"
      ]
    },
    {
      "cell_type": "code",
      "execution_count": 228,
      "metadata": {
        "colab": {
          "base_uri": "https://localhost:8080/"
        },
        "id": "GdVxWScJddXa",
        "outputId": "23c7c13e-83aa-47bd-9445-ab2c5ead2606"
      },
      "outputs": [
        {
          "output_type": "stream",
          "name": "stdout",
          "text": [
            "0.9788400077439836\n"
          ]
        }
      ],
      "source": [
        "Lr = LinearRegression()\n",
        "Lr.fit(X_train, y_train)\n",
        "y_pred = Lr.predict(X_test)\n",
        "y_pred_df = pd.DataFrame(y_pred)\n",
        "explained_variance = explained_variance_score(y_test, # We'll need our ground truth\n",
        "                   y_pred_df) # and our predictions\n",
        "print(explained_variance)  "
      ]
    },
    {
      "cell_type": "markdown",
      "metadata": {
        "id": "2GAIMx-AOvJf"
      },
      "source": [
        "## Predicting Activity"
      ]
    },
    {
      "cell_type": "markdown",
      "metadata": {
        "id": "e7ooM9CTO1Iv"
      },
      "source": [
        "Prepare the dataset"
      ]
    },
    {
      "cell_type": "code",
      "execution_count": 229,
      "metadata": {
        "id": "WCL2X3kCOy8b"
      },
      "outputs": [],
      "source": [
        "df_select = df[[\"Glacier Activity\", \"Snow Line Elevation\",\"Latitude\", \"Longitude\", \"Glacier Area\", \"Mean Elevation\",\"Minimum Elevation\", \"Maximum Elevation\", \"Primary Class\", \"Glacier Form\" ]]"
      ]
    },
    {
      "cell_type": "code",
      "execution_count": 230,
      "metadata": {
        "id": "rWE--55EQlXR",
        "colab": {
          "base_uri": "https://localhost:8080/",
          "height": 485
        },
        "outputId": "31657407-0153-4ff7-9faa-3ec3c927c97d"
      },
      "outputs": [
        {
          "output_type": "execute_result",
          "data": {
            "text/plain": [
              "        Glacier Activity  Snow Line Elevation  Latitude  Longitude  \\\n",
              "0                    0.0                  NaN    34.672     68.874   \n",
              "1                    0.0                  NaN    34.676     68.855   \n",
              "2                    0.0                  NaN    34.689     68.854   \n",
              "3                    0.0                  NaN    34.707     68.857   \n",
              "4                    0.0                  NaN    34.719     68.852   \n",
              "...                  ...                  ...       ...        ...   \n",
              "132885               0.0                  NaN     0.438     29.899   \n",
              "132886               0.0                  NaN     0.440     29.898   \n",
              "132887               0.0                  NaN     0.389     29.871   \n",
              "132888               0.0                  NaN     0.389     29.868   \n",
              "132889               0.0                  NaN     0.383     29.869   \n",
              "\n",
              "        Glacier Area  Mean Elevation  Minimum Elevation  Maximum Elevation  \\\n",
              "0               1.28          4110.0             3975.0             4250.0   \n",
              "1               0.31          4350.0             4250.0             4450.0   \n",
              "2               0.60          4100.0             4000.0             4200.0   \n",
              "3               0.56          4175.0             4000.0             4350.0   \n",
              "4               1.06          4050.0             3750.0             4350.0   \n",
              "...              ...             ...                ...                ...   \n",
              "132885          0.04             NaN             4630.0             4750.0   \n",
              "132886          0.02             NaN             4690.0             4750.0   \n",
              "132887          0.02          5030.0                NaN             5095.0   \n",
              "132888          0.25          4740.0             4510.0             5060.0   \n",
              "132889          0.42          4700.0             4420.0             5050.0   \n",
              "\n",
              "        Primary Class  Glacier Form  \n",
              "0                 9.0           3.0  \n",
              "1                 9.0           3.0  \n",
              "2                 9.0           3.0  \n",
              "3                 9.0           3.0  \n",
              "4                 9.0           2.0  \n",
              "...               ...           ...  \n",
              "132885            6.0           8.0  \n",
              "132886            6.0           4.0  \n",
              "132887            6.0           3.0  \n",
              "132888            6.0           4.0  \n",
              "132889            6.0           4.0  \n",
              "\n",
              "[132890 rows x 10 columns]"
            ],
            "text/html": [
              "\n",
              "  <div id=\"df-3f3803ac-cc5d-4f55-9b79-49019cb2fcff\">\n",
              "    <div class=\"colab-df-container\">\n",
              "      <div>\n",
              "<style scoped>\n",
              "    .dataframe tbody tr th:only-of-type {\n",
              "        vertical-align: middle;\n",
              "    }\n",
              "\n",
              "    .dataframe tbody tr th {\n",
              "        vertical-align: top;\n",
              "    }\n",
              "\n",
              "    .dataframe thead th {\n",
              "        text-align: right;\n",
              "    }\n",
              "</style>\n",
              "<table border=\"1\" class=\"dataframe\">\n",
              "  <thead>\n",
              "    <tr style=\"text-align: right;\">\n",
              "      <th></th>\n",
              "      <th>Glacier Activity</th>\n",
              "      <th>Snow Line Elevation</th>\n",
              "      <th>Latitude</th>\n",
              "      <th>Longitude</th>\n",
              "      <th>Glacier Area</th>\n",
              "      <th>Mean Elevation</th>\n",
              "      <th>Minimum Elevation</th>\n",
              "      <th>Maximum Elevation</th>\n",
              "      <th>Primary Class</th>\n",
              "      <th>Glacier Form</th>\n",
              "    </tr>\n",
              "  </thead>\n",
              "  <tbody>\n",
              "    <tr>\n",
              "      <th>0</th>\n",
              "      <td>0.0</td>\n",
              "      <td>NaN</td>\n",
              "      <td>34.672</td>\n",
              "      <td>68.874</td>\n",
              "      <td>1.28</td>\n",
              "      <td>4110.0</td>\n",
              "      <td>3975.0</td>\n",
              "      <td>4250.0</td>\n",
              "      <td>9.0</td>\n",
              "      <td>3.0</td>\n",
              "    </tr>\n",
              "    <tr>\n",
              "      <th>1</th>\n",
              "      <td>0.0</td>\n",
              "      <td>NaN</td>\n",
              "      <td>34.676</td>\n",
              "      <td>68.855</td>\n",
              "      <td>0.31</td>\n",
              "      <td>4350.0</td>\n",
              "      <td>4250.0</td>\n",
              "      <td>4450.0</td>\n",
              "      <td>9.0</td>\n",
              "      <td>3.0</td>\n",
              "    </tr>\n",
              "    <tr>\n",
              "      <th>2</th>\n",
              "      <td>0.0</td>\n",
              "      <td>NaN</td>\n",
              "      <td>34.689</td>\n",
              "      <td>68.854</td>\n",
              "      <td>0.60</td>\n",
              "      <td>4100.0</td>\n",
              "      <td>4000.0</td>\n",
              "      <td>4200.0</td>\n",
              "      <td>9.0</td>\n",
              "      <td>3.0</td>\n",
              "    </tr>\n",
              "    <tr>\n",
              "      <th>3</th>\n",
              "      <td>0.0</td>\n",
              "      <td>NaN</td>\n",
              "      <td>34.707</td>\n",
              "      <td>68.857</td>\n",
              "      <td>0.56</td>\n",
              "      <td>4175.0</td>\n",
              "      <td>4000.0</td>\n",
              "      <td>4350.0</td>\n",
              "      <td>9.0</td>\n",
              "      <td>3.0</td>\n",
              "    </tr>\n",
              "    <tr>\n",
              "      <th>4</th>\n",
              "      <td>0.0</td>\n",
              "      <td>NaN</td>\n",
              "      <td>34.719</td>\n",
              "      <td>68.852</td>\n",
              "      <td>1.06</td>\n",
              "      <td>4050.0</td>\n",
              "      <td>3750.0</td>\n",
              "      <td>4350.0</td>\n",
              "      <td>9.0</td>\n",
              "      <td>2.0</td>\n",
              "    </tr>\n",
              "    <tr>\n",
              "      <th>...</th>\n",
              "      <td>...</td>\n",
              "      <td>...</td>\n",
              "      <td>...</td>\n",
              "      <td>...</td>\n",
              "      <td>...</td>\n",
              "      <td>...</td>\n",
              "      <td>...</td>\n",
              "      <td>...</td>\n",
              "      <td>...</td>\n",
              "      <td>...</td>\n",
              "    </tr>\n",
              "    <tr>\n",
              "      <th>132885</th>\n",
              "      <td>0.0</td>\n",
              "      <td>NaN</td>\n",
              "      <td>0.438</td>\n",
              "      <td>29.899</td>\n",
              "      <td>0.04</td>\n",
              "      <td>NaN</td>\n",
              "      <td>4630.0</td>\n",
              "      <td>4750.0</td>\n",
              "      <td>6.0</td>\n",
              "      <td>8.0</td>\n",
              "    </tr>\n",
              "    <tr>\n",
              "      <th>132886</th>\n",
              "      <td>0.0</td>\n",
              "      <td>NaN</td>\n",
              "      <td>0.440</td>\n",
              "      <td>29.898</td>\n",
              "      <td>0.02</td>\n",
              "      <td>NaN</td>\n",
              "      <td>4690.0</td>\n",
              "      <td>4750.0</td>\n",
              "      <td>6.0</td>\n",
              "      <td>4.0</td>\n",
              "    </tr>\n",
              "    <tr>\n",
              "      <th>132887</th>\n",
              "      <td>0.0</td>\n",
              "      <td>NaN</td>\n",
              "      <td>0.389</td>\n",
              "      <td>29.871</td>\n",
              "      <td>0.02</td>\n",
              "      <td>5030.0</td>\n",
              "      <td>NaN</td>\n",
              "      <td>5095.0</td>\n",
              "      <td>6.0</td>\n",
              "      <td>3.0</td>\n",
              "    </tr>\n",
              "    <tr>\n",
              "      <th>132888</th>\n",
              "      <td>0.0</td>\n",
              "      <td>NaN</td>\n",
              "      <td>0.389</td>\n",
              "      <td>29.868</td>\n",
              "      <td>0.25</td>\n",
              "      <td>4740.0</td>\n",
              "      <td>4510.0</td>\n",
              "      <td>5060.0</td>\n",
              "      <td>6.0</td>\n",
              "      <td>4.0</td>\n",
              "    </tr>\n",
              "    <tr>\n",
              "      <th>132889</th>\n",
              "      <td>0.0</td>\n",
              "      <td>NaN</td>\n",
              "      <td>0.383</td>\n",
              "      <td>29.869</td>\n",
              "      <td>0.42</td>\n",
              "      <td>4700.0</td>\n",
              "      <td>4420.0</td>\n",
              "      <td>5050.0</td>\n",
              "      <td>6.0</td>\n",
              "      <td>4.0</td>\n",
              "    </tr>\n",
              "  </tbody>\n",
              "</table>\n",
              "<p>132890 rows × 10 columns</p>\n",
              "</div>\n",
              "      <button class=\"colab-df-convert\" onclick=\"convertToInteractive('df-3f3803ac-cc5d-4f55-9b79-49019cb2fcff')\"\n",
              "              title=\"Convert this dataframe to an interactive table.\"\n",
              "              style=\"display:none;\">\n",
              "        \n",
              "  <svg xmlns=\"http://www.w3.org/2000/svg\" height=\"24px\"viewBox=\"0 0 24 24\"\n",
              "       width=\"24px\">\n",
              "    <path d=\"M0 0h24v24H0V0z\" fill=\"none\"/>\n",
              "    <path d=\"M18.56 5.44l.94 2.06.94-2.06 2.06-.94-2.06-.94-.94-2.06-.94 2.06-2.06.94zm-11 1L8.5 8.5l.94-2.06 2.06-.94-2.06-.94L8.5 2.5l-.94 2.06-2.06.94zm10 10l.94 2.06.94-2.06 2.06-.94-2.06-.94-.94-2.06-.94 2.06-2.06.94z\"/><path d=\"M17.41 7.96l-1.37-1.37c-.4-.4-.92-.59-1.43-.59-.52 0-1.04.2-1.43.59L10.3 9.45l-7.72 7.72c-.78.78-.78 2.05 0 2.83L4 21.41c.39.39.9.59 1.41.59.51 0 1.02-.2 1.41-.59l7.78-7.78 2.81-2.81c.8-.78.8-2.07 0-2.86zM5.41 20L4 18.59l7.72-7.72 1.47 1.35L5.41 20z\"/>\n",
              "  </svg>\n",
              "      </button>\n",
              "      \n",
              "  <style>\n",
              "    .colab-df-container {\n",
              "      display:flex;\n",
              "      flex-wrap:wrap;\n",
              "      gap: 12px;\n",
              "    }\n",
              "\n",
              "    .colab-df-convert {\n",
              "      background-color: #E8F0FE;\n",
              "      border: none;\n",
              "      border-radius: 50%;\n",
              "      cursor: pointer;\n",
              "      display: none;\n",
              "      fill: #1967D2;\n",
              "      height: 32px;\n",
              "      padding: 0 0 0 0;\n",
              "      width: 32px;\n",
              "    }\n",
              "\n",
              "    .colab-df-convert:hover {\n",
              "      background-color: #E2EBFA;\n",
              "      box-shadow: 0px 1px 2px rgba(60, 64, 67, 0.3), 0px 1px 3px 1px rgba(60, 64, 67, 0.15);\n",
              "      fill: #174EA6;\n",
              "    }\n",
              "\n",
              "    [theme=dark] .colab-df-convert {\n",
              "      background-color: #3B4455;\n",
              "      fill: #D2E3FC;\n",
              "    }\n",
              "\n",
              "    [theme=dark] .colab-df-convert:hover {\n",
              "      background-color: #434B5C;\n",
              "      box-shadow: 0px 1px 3px 1px rgba(0, 0, 0, 0.15);\n",
              "      filter: drop-shadow(0px 1px 2px rgba(0, 0, 0, 0.3));\n",
              "      fill: #FFFFFF;\n",
              "    }\n",
              "  </style>\n",
              "\n",
              "      <script>\n",
              "        const buttonEl =\n",
              "          document.querySelector('#df-3f3803ac-cc5d-4f55-9b79-49019cb2fcff button.colab-df-convert');\n",
              "        buttonEl.style.display =\n",
              "          google.colab.kernel.accessAllowed ? 'block' : 'none';\n",
              "\n",
              "        async function convertToInteractive(key) {\n",
              "          const element = document.querySelector('#df-3f3803ac-cc5d-4f55-9b79-49019cb2fcff');\n",
              "          const dataTable =\n",
              "            await google.colab.kernel.invokeFunction('convertToInteractive',\n",
              "                                                     [key], {});\n",
              "          if (!dataTable) return;\n",
              "\n",
              "          const docLinkHtml = 'Like what you see? Visit the ' +\n",
              "            '<a target=\"_blank\" href=https://colab.research.google.com/notebooks/data_table.ipynb>data table notebook</a>'\n",
              "            + ' to learn more about interactive tables.';\n",
              "          element.innerHTML = '';\n",
              "          dataTable['output_type'] = 'display_data';\n",
              "          await google.colab.output.renderOutput(dataTable, element);\n",
              "          const docLink = document.createElement('div');\n",
              "          docLink.innerHTML = docLinkHtml;\n",
              "          element.appendChild(docLink);\n",
              "        }\n",
              "      </script>\n",
              "    </div>\n",
              "  </div>\n",
              "  "
            ]
          },
          "metadata": {},
          "execution_count": 230
        }
      ],
      "source": [
        "df_select"
      ]
    },
    {
      "cell_type": "markdown",
      "metadata": {
        "id": "PkB5yh48XXCO"
      },
      "source": [
        "Replace the 0 value (which means uncertained activity) by NaN values"
      ]
    },
    {
      "cell_type": "code",
      "execution_count": 231,
      "metadata": {
        "colab": {
          "base_uri": "https://localhost:8080/"
        },
        "id": "jwwD0eP6qDg-",
        "outputId": "1371ba3c-a44c-4961-c273-499c311b8fab"
      },
      "outputs": [
        {
          "output_type": "stream",
          "name": "stderr",
          "text": [
            "<ipython-input-231-b5e3fd7f1cd7>:1: SettingWithCopyWarning: \n",
            "A value is trying to be set on a copy of a slice from a DataFrame.\n",
            "Try using .loc[row_indexer,col_indexer] = value instead\n",
            "\n",
            "See the caveats in the documentation: https://pandas.pydata.org/pandas-docs/stable/user_guide/indexing.html#returning-a-view-versus-a-copy\n",
            "  df_select['Glacier Activity'] = df['Glacier Activity'].replace(0, np.nan)\n"
          ]
        }
      ],
      "source": [
        "df_select['Glacier Activity'] = df['Glacier Activity'].replace(0, np.nan)"
      ]
    },
    {
      "cell_type": "markdown",
      "metadata": {
        "id": "a3-0AmgedwRO"
      },
      "source": [
        "Check that it worked"
      ]
    },
    {
      "cell_type": "code",
      "execution_count": 232,
      "metadata": {
        "colab": {
          "base_uri": "https://localhost:8080/",
          "height": 485
        },
        "id": "9sRkvFwwqK3N",
        "outputId": "3b6e8a32-a362-4469-edc2-6bede10cd771"
      },
      "outputs": [
        {
          "output_type": "execute_result",
          "data": {
            "text/plain": [
              "        Glacier Activity  Snow Line Elevation  Latitude  Longitude  \\\n",
              "0                    NaN                  NaN    34.672     68.874   \n",
              "1                    NaN                  NaN    34.676     68.855   \n",
              "2                    NaN                  NaN    34.689     68.854   \n",
              "3                    NaN                  NaN    34.707     68.857   \n",
              "4                    NaN                  NaN    34.719     68.852   \n",
              "...                  ...                  ...       ...        ...   \n",
              "132885               NaN                  NaN     0.438     29.899   \n",
              "132886               NaN                  NaN     0.440     29.898   \n",
              "132887               NaN                  NaN     0.389     29.871   \n",
              "132888               NaN                  NaN     0.389     29.868   \n",
              "132889               NaN                  NaN     0.383     29.869   \n",
              "\n",
              "        Glacier Area  Mean Elevation  Minimum Elevation  Maximum Elevation  \\\n",
              "0               1.28          4110.0             3975.0             4250.0   \n",
              "1               0.31          4350.0             4250.0             4450.0   \n",
              "2               0.60          4100.0             4000.0             4200.0   \n",
              "3               0.56          4175.0             4000.0             4350.0   \n",
              "4               1.06          4050.0             3750.0             4350.0   \n",
              "...              ...             ...                ...                ...   \n",
              "132885          0.04             NaN             4630.0             4750.0   \n",
              "132886          0.02             NaN             4690.0             4750.0   \n",
              "132887          0.02          5030.0                NaN             5095.0   \n",
              "132888          0.25          4740.0             4510.0             5060.0   \n",
              "132889          0.42          4700.0             4420.0             5050.0   \n",
              "\n",
              "        Primary Class  Glacier Form  \n",
              "0                 9.0           3.0  \n",
              "1                 9.0           3.0  \n",
              "2                 9.0           3.0  \n",
              "3                 9.0           3.0  \n",
              "4                 9.0           2.0  \n",
              "...               ...           ...  \n",
              "132885            6.0           8.0  \n",
              "132886            6.0           4.0  \n",
              "132887            6.0           3.0  \n",
              "132888            6.0           4.0  \n",
              "132889            6.0           4.0  \n",
              "\n",
              "[132890 rows x 10 columns]"
            ],
            "text/html": [
              "\n",
              "  <div id=\"df-cc8118b3-67ae-42d3-9980-323e7022f388\">\n",
              "    <div class=\"colab-df-container\">\n",
              "      <div>\n",
              "<style scoped>\n",
              "    .dataframe tbody tr th:only-of-type {\n",
              "        vertical-align: middle;\n",
              "    }\n",
              "\n",
              "    .dataframe tbody tr th {\n",
              "        vertical-align: top;\n",
              "    }\n",
              "\n",
              "    .dataframe thead th {\n",
              "        text-align: right;\n",
              "    }\n",
              "</style>\n",
              "<table border=\"1\" class=\"dataframe\">\n",
              "  <thead>\n",
              "    <tr style=\"text-align: right;\">\n",
              "      <th></th>\n",
              "      <th>Glacier Activity</th>\n",
              "      <th>Snow Line Elevation</th>\n",
              "      <th>Latitude</th>\n",
              "      <th>Longitude</th>\n",
              "      <th>Glacier Area</th>\n",
              "      <th>Mean Elevation</th>\n",
              "      <th>Minimum Elevation</th>\n",
              "      <th>Maximum Elevation</th>\n",
              "      <th>Primary Class</th>\n",
              "      <th>Glacier Form</th>\n",
              "    </tr>\n",
              "  </thead>\n",
              "  <tbody>\n",
              "    <tr>\n",
              "      <th>0</th>\n",
              "      <td>NaN</td>\n",
              "      <td>NaN</td>\n",
              "      <td>34.672</td>\n",
              "      <td>68.874</td>\n",
              "      <td>1.28</td>\n",
              "      <td>4110.0</td>\n",
              "      <td>3975.0</td>\n",
              "      <td>4250.0</td>\n",
              "      <td>9.0</td>\n",
              "      <td>3.0</td>\n",
              "    </tr>\n",
              "    <tr>\n",
              "      <th>1</th>\n",
              "      <td>NaN</td>\n",
              "      <td>NaN</td>\n",
              "      <td>34.676</td>\n",
              "      <td>68.855</td>\n",
              "      <td>0.31</td>\n",
              "      <td>4350.0</td>\n",
              "      <td>4250.0</td>\n",
              "      <td>4450.0</td>\n",
              "      <td>9.0</td>\n",
              "      <td>3.0</td>\n",
              "    </tr>\n",
              "    <tr>\n",
              "      <th>2</th>\n",
              "      <td>NaN</td>\n",
              "      <td>NaN</td>\n",
              "      <td>34.689</td>\n",
              "      <td>68.854</td>\n",
              "      <td>0.60</td>\n",
              "      <td>4100.0</td>\n",
              "      <td>4000.0</td>\n",
              "      <td>4200.0</td>\n",
              "      <td>9.0</td>\n",
              "      <td>3.0</td>\n",
              "    </tr>\n",
              "    <tr>\n",
              "      <th>3</th>\n",
              "      <td>NaN</td>\n",
              "      <td>NaN</td>\n",
              "      <td>34.707</td>\n",
              "      <td>68.857</td>\n",
              "      <td>0.56</td>\n",
              "      <td>4175.0</td>\n",
              "      <td>4000.0</td>\n",
              "      <td>4350.0</td>\n",
              "      <td>9.0</td>\n",
              "      <td>3.0</td>\n",
              "    </tr>\n",
              "    <tr>\n",
              "      <th>4</th>\n",
              "      <td>NaN</td>\n",
              "      <td>NaN</td>\n",
              "      <td>34.719</td>\n",
              "      <td>68.852</td>\n",
              "      <td>1.06</td>\n",
              "      <td>4050.0</td>\n",
              "      <td>3750.0</td>\n",
              "      <td>4350.0</td>\n",
              "      <td>9.0</td>\n",
              "      <td>2.0</td>\n",
              "    </tr>\n",
              "    <tr>\n",
              "      <th>...</th>\n",
              "      <td>...</td>\n",
              "      <td>...</td>\n",
              "      <td>...</td>\n",
              "      <td>...</td>\n",
              "      <td>...</td>\n",
              "      <td>...</td>\n",
              "      <td>...</td>\n",
              "      <td>...</td>\n",
              "      <td>...</td>\n",
              "      <td>...</td>\n",
              "    </tr>\n",
              "    <tr>\n",
              "      <th>132885</th>\n",
              "      <td>NaN</td>\n",
              "      <td>NaN</td>\n",
              "      <td>0.438</td>\n",
              "      <td>29.899</td>\n",
              "      <td>0.04</td>\n",
              "      <td>NaN</td>\n",
              "      <td>4630.0</td>\n",
              "      <td>4750.0</td>\n",
              "      <td>6.0</td>\n",
              "      <td>8.0</td>\n",
              "    </tr>\n",
              "    <tr>\n",
              "      <th>132886</th>\n",
              "      <td>NaN</td>\n",
              "      <td>NaN</td>\n",
              "      <td>0.440</td>\n",
              "      <td>29.898</td>\n",
              "      <td>0.02</td>\n",
              "      <td>NaN</td>\n",
              "      <td>4690.0</td>\n",
              "      <td>4750.0</td>\n",
              "      <td>6.0</td>\n",
              "      <td>4.0</td>\n",
              "    </tr>\n",
              "    <tr>\n",
              "      <th>132887</th>\n",
              "      <td>NaN</td>\n",
              "      <td>NaN</td>\n",
              "      <td>0.389</td>\n",
              "      <td>29.871</td>\n",
              "      <td>0.02</td>\n",
              "      <td>5030.0</td>\n",
              "      <td>NaN</td>\n",
              "      <td>5095.0</td>\n",
              "      <td>6.0</td>\n",
              "      <td>3.0</td>\n",
              "    </tr>\n",
              "    <tr>\n",
              "      <th>132888</th>\n",
              "      <td>NaN</td>\n",
              "      <td>NaN</td>\n",
              "      <td>0.389</td>\n",
              "      <td>29.868</td>\n",
              "      <td>0.25</td>\n",
              "      <td>4740.0</td>\n",
              "      <td>4510.0</td>\n",
              "      <td>5060.0</td>\n",
              "      <td>6.0</td>\n",
              "      <td>4.0</td>\n",
              "    </tr>\n",
              "    <tr>\n",
              "      <th>132889</th>\n",
              "      <td>NaN</td>\n",
              "      <td>NaN</td>\n",
              "      <td>0.383</td>\n",
              "      <td>29.869</td>\n",
              "      <td>0.42</td>\n",
              "      <td>4700.0</td>\n",
              "      <td>4420.0</td>\n",
              "      <td>5050.0</td>\n",
              "      <td>6.0</td>\n",
              "      <td>4.0</td>\n",
              "    </tr>\n",
              "  </tbody>\n",
              "</table>\n",
              "<p>132890 rows × 10 columns</p>\n",
              "</div>\n",
              "      <button class=\"colab-df-convert\" onclick=\"convertToInteractive('df-cc8118b3-67ae-42d3-9980-323e7022f388')\"\n",
              "              title=\"Convert this dataframe to an interactive table.\"\n",
              "              style=\"display:none;\">\n",
              "        \n",
              "  <svg xmlns=\"http://www.w3.org/2000/svg\" height=\"24px\"viewBox=\"0 0 24 24\"\n",
              "       width=\"24px\">\n",
              "    <path d=\"M0 0h24v24H0V0z\" fill=\"none\"/>\n",
              "    <path d=\"M18.56 5.44l.94 2.06.94-2.06 2.06-.94-2.06-.94-.94-2.06-.94 2.06-2.06.94zm-11 1L8.5 8.5l.94-2.06 2.06-.94-2.06-.94L8.5 2.5l-.94 2.06-2.06.94zm10 10l.94 2.06.94-2.06 2.06-.94-2.06-.94-.94-2.06-.94 2.06-2.06.94z\"/><path d=\"M17.41 7.96l-1.37-1.37c-.4-.4-.92-.59-1.43-.59-.52 0-1.04.2-1.43.59L10.3 9.45l-7.72 7.72c-.78.78-.78 2.05 0 2.83L4 21.41c.39.39.9.59 1.41.59.51 0 1.02-.2 1.41-.59l7.78-7.78 2.81-2.81c.8-.78.8-2.07 0-2.86zM5.41 20L4 18.59l7.72-7.72 1.47 1.35L5.41 20z\"/>\n",
              "  </svg>\n",
              "      </button>\n",
              "      \n",
              "  <style>\n",
              "    .colab-df-container {\n",
              "      display:flex;\n",
              "      flex-wrap:wrap;\n",
              "      gap: 12px;\n",
              "    }\n",
              "\n",
              "    .colab-df-convert {\n",
              "      background-color: #E8F0FE;\n",
              "      border: none;\n",
              "      border-radius: 50%;\n",
              "      cursor: pointer;\n",
              "      display: none;\n",
              "      fill: #1967D2;\n",
              "      height: 32px;\n",
              "      padding: 0 0 0 0;\n",
              "      width: 32px;\n",
              "    }\n",
              "\n",
              "    .colab-df-convert:hover {\n",
              "      background-color: #E2EBFA;\n",
              "      box-shadow: 0px 1px 2px rgba(60, 64, 67, 0.3), 0px 1px 3px 1px rgba(60, 64, 67, 0.15);\n",
              "      fill: #174EA6;\n",
              "    }\n",
              "\n",
              "    [theme=dark] .colab-df-convert {\n",
              "      background-color: #3B4455;\n",
              "      fill: #D2E3FC;\n",
              "    }\n",
              "\n",
              "    [theme=dark] .colab-df-convert:hover {\n",
              "      background-color: #434B5C;\n",
              "      box-shadow: 0px 1px 3px 1px rgba(0, 0, 0, 0.15);\n",
              "      filter: drop-shadow(0px 1px 2px rgba(0, 0, 0, 0.3));\n",
              "      fill: #FFFFFF;\n",
              "    }\n",
              "  </style>\n",
              "\n",
              "      <script>\n",
              "        const buttonEl =\n",
              "          document.querySelector('#df-cc8118b3-67ae-42d3-9980-323e7022f388 button.colab-df-convert');\n",
              "        buttonEl.style.display =\n",
              "          google.colab.kernel.accessAllowed ? 'block' : 'none';\n",
              "\n",
              "        async function convertToInteractive(key) {\n",
              "          const element = document.querySelector('#df-cc8118b3-67ae-42d3-9980-323e7022f388');\n",
              "          const dataTable =\n",
              "            await google.colab.kernel.invokeFunction('convertToInteractive',\n",
              "                                                     [key], {});\n",
              "          if (!dataTable) return;\n",
              "\n",
              "          const docLinkHtml = 'Like what you see? Visit the ' +\n",
              "            '<a target=\"_blank\" href=https://colab.research.google.com/notebooks/data_table.ipynb>data table notebook</a>'\n",
              "            + ' to learn more about interactive tables.';\n",
              "          element.innerHTML = '';\n",
              "          dataTable['output_type'] = 'display_data';\n",
              "          await google.colab.output.renderOutput(dataTable, element);\n",
              "          const docLink = document.createElement('div');\n",
              "          docLink.innerHTML = docLinkHtml;\n",
              "          element.appendChild(docLink);\n",
              "        }\n",
              "      </script>\n",
              "    </div>\n",
              "  </div>\n",
              "  "
            ]
          },
          "metadata": {},
          "execution_count": 232
        }
      ],
      "source": [
        "df_select"
      ]
    },
    {
      "cell_type": "code",
      "execution_count": 233,
      "metadata": {
        "colab": {
          "base_uri": "https://localhost:8080/"
        },
        "id": "KYGB2RkdrBiB",
        "outputId": "cd00cb27-24ae-4e5d-b360-c2f850881eaf"
      },
      "outputs": [
        {
          "output_type": "execute_result",
          "data": {
            "text/plain": [
              "Glacier Activity        94618\n",
              "Snow Line Elevation    104042\n",
              "Latitude                    0\n",
              "Longitude                   0\n",
              "Glacier Area             4516\n",
              "Mean Elevation          51291\n",
              "Minimum Elevation       15728\n",
              "Maximum Elevation       17422\n",
              "Primary Class            1484\n",
              "Glacier Form             1077\n",
              "dtype: int64"
            ]
          },
          "metadata": {},
          "execution_count": 233
        }
      ],
      "source": [
        "df_select.isna().sum()"
      ]
    },
    {
      "cell_type": "code",
      "execution_count": 234,
      "metadata": {
        "id": "DCswX51YQbbk"
      },
      "outputs": [],
      "source": [
        "df_select_noNan = df_select.dropna()"
      ]
    },
    {
      "cell_type": "code",
      "execution_count": null,
      "metadata": {
        "colab": {
          "base_uri": "https://localhost:8080/"
        },
        "id": "aNm-SRQvQt-W",
        "outputId": "6d10d239-0514-448a-ecfa-d344c8796372"
      },
      "outputs": [
        {
          "data": {
            "text/plain": [
              "(4988, 10)"
            ]
          },
          "execution_count": 26,
          "metadata": {},
          "output_type": "execute_result"
        }
      ],
      "source": [
        "df_select_noNan.shape"
      ]
    },
    {
      "cell_type": "markdown",
      "metadata": {
        "id": "KFslVb-tXgNh"
      },
      "source": [
        "Select the predictors"
      ]
    },
    {
      "cell_type": "code",
      "execution_count": 235,
      "metadata": {
        "id": "iUW1stTQQGb2"
      },
      "outputs": [],
      "source": [
        "X = df_select_noNan[[\"Snow Line Elevation\", \"Latitude\", \"Longitude\", \"Glacier Area\", \"Mean Elevation\",\"Minimum Elevation\", \"Maximum Elevation\", \"Primary Class\", \"Glacier Form\" ]]"
      ]
    },
    {
      "cell_type": "markdown",
      "metadata": {
        "id": "GcdJ7Rx4Dq60"
      },
      "source": [
        "The categorical variable are already set into number from 0 to 8"
      ]
    },
    {
      "cell_type": "markdown",
      "metadata": {
        "id": "gl-GS_dAXjdj"
      },
      "source": [
        "Select the varible to predict"
      ]
    },
    {
      "cell_type": "code",
      "execution_count": 236,
      "metadata": {
        "id": "8XBUnr5oQK6H"
      },
      "outputs": [],
      "source": [
        "y = df_select_noNan[[\"Glacier Activity\"]]"
      ]
    },
    {
      "cell_type": "markdown",
      "source": [
        "Here I just export it as a csv file "
      ],
      "metadata": {
        "id": "6846Ir3s9qqJ"
      }
    },
    {
      "cell_type": "code",
      "source": [
        "y.to_csv('glacier activity.csv', index=False)"
      ],
      "metadata": {
        "id": "Y8btxjw8Cdtd"
      },
      "execution_count": null,
      "outputs": []
    },
    {
      "cell_type": "code",
      "source": [
        "y.dtypes"
      ],
      "metadata": {
        "colab": {
          "base_uri": "https://localhost:8080/"
        },
        "id": "xJXGEbCXDmDX",
        "outputId": "b7ede9d1-d224-44e5-d7c6-39b60204124f"
      },
      "execution_count": null,
      "outputs": [
        {
          "output_type": "execute_result",
          "data": {
            "text/plain": [
              "Glacier Activity    float64\n",
              "dtype: object"
            ]
          },
          "metadata": {},
          "execution_count": 24
        }
      ]
    },
    {
      "cell_type": "markdown",
      "metadata": {
        "id": "FaR0GCt4Xl2s"
      },
      "source": [
        "Prepare the train/validation/test set"
      ]
    },
    {
      "cell_type": "code",
      "execution_count": 237,
      "metadata": {
        "id": "_nCAPpUCQN81"
      },
      "outputs": [],
      "source": [
        "from sklearn.model_selection import train_test_split\n",
        "X_train, X_valid_test, y_train, y_valid_test = train_test_split(X, y, test_size=0.3,random_state=42)\n",
        "X_valid, X_test, y_valid, y_test = train_test_split(X_valid_test, y_valid_test, test_size=0.5,random_state=42)"
      ]
    },
    {
      "cell_type": "markdown",
      "source": [
        "### Logistic Regression"
      ],
      "metadata": {
        "id": "TRYHvssNIzPx"
      }
    },
    {
      "cell_type": "markdown",
      "source": [
        "We begin with a logistic regression, as a simple baseline model"
      ],
      "metadata": {
        "id": "jSuK7uZ89yu3"
      }
    },
    {
      "cell_type": "code",
      "source": [
        "from sklearn.linear_model import LogisticRegression\n",
        "Lr = LogisticRegression()\n",
        "Lr = Lr.fit(X_train, y_train)\n",
        "y_pred_valid_lr = Lr.predict(X_valid)\n",
        "y_pred_test_lr = Lr.predict(X_test)"
      ],
      "metadata": {
        "colab": {
          "base_uri": "https://localhost:8080/"
        },
        "id": "hag_EeyRJWmt",
        "outputId": "770dde0b-65e1-45aa-f7ce-09dfd2ebaea7"
      },
      "execution_count": 238,
      "outputs": [
        {
          "output_type": "stream",
          "name": "stderr",
          "text": [
            "/usr/local/lib/python3.8/dist-packages/sklearn/utils/validation.py:993: DataConversionWarning: A column-vector y was passed when a 1d array was expected. Please change the shape of y to (n_samples, ), for example using ravel().\n",
            "  y = column_or_1d(y, warn=True)\n",
            "/usr/local/lib/python3.8/dist-packages/sklearn/linear_model/_logistic.py:814: ConvergenceWarning: lbfgs failed to converge (status=1):\n",
            "STOP: TOTAL NO. of ITERATIONS REACHED LIMIT.\n",
            "\n",
            "Increase the number of iterations (max_iter) or scale the data as shown in:\n",
            "    https://scikit-learn.org/stable/modules/preprocessing.html\n",
            "Please also refer to the documentation for alternative solver options:\n",
            "    https://scikit-learn.org/stable/modules/linear_model.html#logistic-regression\n",
            "  n_iter_i = _check_optimize_result(\n"
          ]
        }
      ]
    },
    {
      "cell_type": "markdown",
      "source": [
        "Evaluate performance of model"
      ],
      "metadata": {
        "id": "AD4vJs-yJ6Jq"
      }
    },
    {
      "cell_type": "code",
      "source": [
        "from sklearn.metrics import accuracy_score"
      ],
      "metadata": {
        "id": "JCB41Q23l2-Z"
      },
      "execution_count": 239,
      "outputs": []
    },
    {
      "cell_type": "code",
      "source": [
        "print(f'Accuracy over validation set: {(accuracy_score(y_true=y_valid, y_pred=y_pred_valid_lr)):.2%}')"
      ],
      "metadata": {
        "colab": {
          "base_uri": "https://localhost:8080/"
        },
        "id": "BS3G_BA-Jzfy",
        "outputId": "47d7eae0-12d1-4fdf-fe36-19f52ea67130"
      },
      "execution_count": 240,
      "outputs": [
        {
          "output_type": "stream",
          "name": "stdout",
          "text": [
            "Accuracy over validation set: 63.10%\n"
          ]
        }
      ]
    },
    {
      "cell_type": "code",
      "source": [
        "y_pred_test_lr = Lr.predict(X_test)"
      ],
      "metadata": {
        "id": "TcaFBar_KCrP"
      },
      "execution_count": 241,
      "outputs": []
    },
    {
      "cell_type": "code",
      "source": [
        "print(f'Accuracy over test set: {(accuracy_score(y_true=y_test, y_pred=y_pred_test_lr)):.2%}')"
      ],
      "metadata": {
        "colab": {
          "base_uri": "https://localhost:8080/"
        },
        "id": "vycSNVPxKElU",
        "outputId": "b41a3034-5541-4b7a-c17e-0891f819004c"
      },
      "execution_count": 242,
      "outputs": [
        {
          "output_type": "stream",
          "name": "stdout",
          "text": [
            "Accuracy over test set: 63.68%\n"
          ]
        }
      ]
    },
    {
      "cell_type": "code",
      "source": [
        "y_pred_train_lr = Lr.predict(X_train)"
      ],
      "metadata": {
        "id": "7GwwDn8CKLap"
      },
      "execution_count": 243,
      "outputs": []
    },
    {
      "cell_type": "code",
      "source": [
        "print(f'Accuracy over train set: {(accuracy_score(y_true=y_train, y_pred=y_pred_train_lr)):.2%}')"
      ],
      "metadata": {
        "colab": {
          "base_uri": "https://localhost:8080/"
        },
        "id": "-3H0uhhKKRJ7",
        "outputId": "983a1d8a-fb3b-448c-9c9e-1d53efa87583"
      },
      "execution_count": 244,
      "outputs": [
        {
          "output_type": "stream",
          "name": "stdout",
          "text": [
            "Accuracy over train set: 64.19%\n"
          ]
        }
      ]
    },
    {
      "cell_type": "code",
      "source": [
        "acc_train_lr=accuracy_score(y_true=y_train, y_pred=y_pred_train_lr)\n",
        "acc_valid_lr=accuracy_score(y_true=y_valid, y_pred=y_pred_valid_lr)\n",
        "acc_test_lr=accuracy_score(y_true=y_test, y_pred=y_pred_test_lr)"
      ],
      "metadata": {
        "id": "o_MLf9tw4k0I"
      },
      "execution_count": 245,
      "outputs": []
    },
    {
      "cell_type": "markdown",
      "source": [
        "Store the results"
      ],
      "metadata": {
        "id": "tVszMG_965Hh"
      }
    },
    {
      "cell_type": "code",
      "source": [
        "accuracy_Lr = [acc_train_lr, acc_valid_lr, acc_test_lr]\n",
        "accuracy_Lr = pd.DataFrame(accuracy_Lr, columns=['Lr'])\n",
        "accuracy_Lr"
      ],
      "metadata": {
        "id": "s5dR4au464aN",
        "colab": {
          "base_uri": "https://localhost:8080/",
          "height": 143
        },
        "outputId": "c128bfe3-4c10-476d-d50d-1d4347374f46"
      },
      "execution_count": 246,
      "outputs": [
        {
          "output_type": "execute_result",
          "data": {
            "text/plain": [
              "         Lr\n",
              "0  0.641936\n",
              "1  0.631016\n",
              "2  0.636849"
            ],
            "text/html": [
              "\n",
              "  <div id=\"df-458b9f27-d8d4-4d67-a65c-bf6db6fc5608\">\n",
              "    <div class=\"colab-df-container\">\n",
              "      <div>\n",
              "<style scoped>\n",
              "    .dataframe tbody tr th:only-of-type {\n",
              "        vertical-align: middle;\n",
              "    }\n",
              "\n",
              "    .dataframe tbody tr th {\n",
              "        vertical-align: top;\n",
              "    }\n",
              "\n",
              "    .dataframe thead th {\n",
              "        text-align: right;\n",
              "    }\n",
              "</style>\n",
              "<table border=\"1\" class=\"dataframe\">\n",
              "  <thead>\n",
              "    <tr style=\"text-align: right;\">\n",
              "      <th></th>\n",
              "      <th>Lr</th>\n",
              "    </tr>\n",
              "  </thead>\n",
              "  <tbody>\n",
              "    <tr>\n",
              "      <th>0</th>\n",
              "      <td>0.641936</td>\n",
              "    </tr>\n",
              "    <tr>\n",
              "      <th>1</th>\n",
              "      <td>0.631016</td>\n",
              "    </tr>\n",
              "    <tr>\n",
              "      <th>2</th>\n",
              "      <td>0.636849</td>\n",
              "    </tr>\n",
              "  </tbody>\n",
              "</table>\n",
              "</div>\n",
              "      <button class=\"colab-df-convert\" onclick=\"convertToInteractive('df-458b9f27-d8d4-4d67-a65c-bf6db6fc5608')\"\n",
              "              title=\"Convert this dataframe to an interactive table.\"\n",
              "              style=\"display:none;\">\n",
              "        \n",
              "  <svg xmlns=\"http://www.w3.org/2000/svg\" height=\"24px\"viewBox=\"0 0 24 24\"\n",
              "       width=\"24px\">\n",
              "    <path d=\"M0 0h24v24H0V0z\" fill=\"none\"/>\n",
              "    <path d=\"M18.56 5.44l.94 2.06.94-2.06 2.06-.94-2.06-.94-.94-2.06-.94 2.06-2.06.94zm-11 1L8.5 8.5l.94-2.06 2.06-.94-2.06-.94L8.5 2.5l-.94 2.06-2.06.94zm10 10l.94 2.06.94-2.06 2.06-.94-2.06-.94-.94-2.06-.94 2.06-2.06.94z\"/><path d=\"M17.41 7.96l-1.37-1.37c-.4-.4-.92-.59-1.43-.59-.52 0-1.04.2-1.43.59L10.3 9.45l-7.72 7.72c-.78.78-.78 2.05 0 2.83L4 21.41c.39.39.9.59 1.41.59.51 0 1.02-.2 1.41-.59l7.78-7.78 2.81-2.81c.8-.78.8-2.07 0-2.86zM5.41 20L4 18.59l7.72-7.72 1.47 1.35L5.41 20z\"/>\n",
              "  </svg>\n",
              "      </button>\n",
              "      \n",
              "  <style>\n",
              "    .colab-df-container {\n",
              "      display:flex;\n",
              "      flex-wrap:wrap;\n",
              "      gap: 12px;\n",
              "    }\n",
              "\n",
              "    .colab-df-convert {\n",
              "      background-color: #E8F0FE;\n",
              "      border: none;\n",
              "      border-radius: 50%;\n",
              "      cursor: pointer;\n",
              "      display: none;\n",
              "      fill: #1967D2;\n",
              "      height: 32px;\n",
              "      padding: 0 0 0 0;\n",
              "      width: 32px;\n",
              "    }\n",
              "\n",
              "    .colab-df-convert:hover {\n",
              "      background-color: #E2EBFA;\n",
              "      box-shadow: 0px 1px 2px rgba(60, 64, 67, 0.3), 0px 1px 3px 1px rgba(60, 64, 67, 0.15);\n",
              "      fill: #174EA6;\n",
              "    }\n",
              "\n",
              "    [theme=dark] .colab-df-convert {\n",
              "      background-color: #3B4455;\n",
              "      fill: #D2E3FC;\n",
              "    }\n",
              "\n",
              "    [theme=dark] .colab-df-convert:hover {\n",
              "      background-color: #434B5C;\n",
              "      box-shadow: 0px 1px 3px 1px rgba(0, 0, 0, 0.15);\n",
              "      filter: drop-shadow(0px 1px 2px rgba(0, 0, 0, 0.3));\n",
              "      fill: #FFFFFF;\n",
              "    }\n",
              "  </style>\n",
              "\n",
              "      <script>\n",
              "        const buttonEl =\n",
              "          document.querySelector('#df-458b9f27-d8d4-4d67-a65c-bf6db6fc5608 button.colab-df-convert');\n",
              "        buttonEl.style.display =\n",
              "          google.colab.kernel.accessAllowed ? 'block' : 'none';\n",
              "\n",
              "        async function convertToInteractive(key) {\n",
              "          const element = document.querySelector('#df-458b9f27-d8d4-4d67-a65c-bf6db6fc5608');\n",
              "          const dataTable =\n",
              "            await google.colab.kernel.invokeFunction('convertToInteractive',\n",
              "                                                     [key], {});\n",
              "          if (!dataTable) return;\n",
              "\n",
              "          const docLinkHtml = 'Like what you see? Visit the ' +\n",
              "            '<a target=\"_blank\" href=https://colab.research.google.com/notebooks/data_table.ipynb>data table notebook</a>'\n",
              "            + ' to learn more about interactive tables.';\n",
              "          element.innerHTML = '';\n",
              "          dataTable['output_type'] = 'display_data';\n",
              "          await google.colab.output.renderOutput(dataTable, element);\n",
              "          const docLink = document.createElement('div');\n",
              "          docLink.innerHTML = docLinkHtml;\n",
              "          element.appendChild(docLink);\n",
              "        }\n",
              "      </script>\n",
              "    </div>\n",
              "  </div>\n",
              "  "
            ]
          },
          "metadata": {},
          "execution_count": 246
        }
      ]
    },
    {
      "cell_type": "markdown",
      "source": [
        "Give not very good reslult, but don't seem to overfit the data"
      ],
      "metadata": {
        "id": "MGH8M3wMKV5P"
      }
    },
    {
      "cell_type": "markdown",
      "source": [
        "Feature importances"
      ],
      "metadata": {
        "id": "bDR5mSOMVM7q"
      }
    },
    {
      "cell_type": "code",
      "source": [
        "coefs = pd.DataFrame(\n",
        "   Lr.coef_[0],\n",
        "   columns=['Coefficients'], index=X_train.columns\n",
        ")"
      ],
      "metadata": {
        "id": "0xDhHg64alfk"
      },
      "execution_count": 247,
      "outputs": []
    },
    {
      "cell_type": "code",
      "source": [
        "fig, ax = plt.subplots()\n",
        "coefs.plot.bar( ax=ax)\n",
        "ax.set_title(\"Feature importances Logistic Regression\")\n",
        "ax.set_ylabel(\"Coefficient\")\n",
        "fig.tight_layout()"
      ],
      "metadata": {
        "colab": {
          "base_uri": "https://localhost:8080/",
          "height": 297
        },
        "id": "soazBMaDatuZ",
        "outputId": "4455a628-5d5f-417a-dba7-7d71c000ea46"
      },
      "execution_count": 248,
      "outputs": [
        {
          "output_type": "display_data",
          "data": {
            "text/plain": [
              "<Figure size 432x288 with 1 Axes>"
            ],
            "image/png": "[encoded data removed]"
          },
          "metadata": {
            "needs_background": "light"
          }
        }
      ]
    },
    {
      "cell_type": "markdown",
      "source": [
        "Let's try to do better"
      ],
      "metadata": {
        "id": "3B2NLGn1KbzN"
      }
    },
    {
      "cell_type": "markdown",
      "source": [
        "### Decision Tree Classifier"
      ],
      "metadata": {
        "id": "7hIVvMckHK3s"
      }
    },
    {
      "cell_type": "code",
      "source": [
        "from sklearn.tree import DecisionTreeClassifier\n",
        "from sklearn.model_selection import GridSearchCV\n",
        "from sklearn.metrics import accuracy_score"
      ],
      "metadata": {
        "id": "2HJ5drAOHQXy"
      },
      "execution_count": 249,
      "outputs": []
    },
    {
      "cell_type": "markdown",
      "source": [
        "First by doing a simple decision tree"
      ],
      "metadata": {
        "id": "xYK-yjPNB2oR"
      }
    },
    {
      "cell_type": "code",
      "source": [
        "DTC = DecisionTreeClassifier()\n",
        "DTC.fit(X_train,y_train)\n",
        "y_pred_valid = DTC.predict(X_valid)\n",
        "print(f'Accuracy over validation set: {(accuracy_score(y_true=y_valid, y_pred=y_pred_valid)):.2%}')"
      ],
      "metadata": {
        "colab": {
          "base_uri": "https://localhost:8080/"
        },
        "id": "230bwqABHTj3",
        "outputId": "3c034f02-4a9c-46f5-f74e-95610747d2dc"
      },
      "execution_count": 250,
      "outputs": [
        {
          "output_type": "stream",
          "name": "stdout",
          "text": [
            "Accuracy over validation set: 76.07%\n"
          ]
        }
      ]
    },
    {
      "cell_type": "code",
      "source": [
        "y_pred_train = DTC.predict(X_train)\n",
        "print(f'Accuracy over validation set: {(accuracy_score(y_true=y_train, y_pred=y_pred_train)):.2%}')"
      ],
      "metadata": {
        "colab": {
          "base_uri": "https://localhost:8080/"
        },
        "id": "-PeBKndz5pOh",
        "outputId": "d317dd9d-6a37-46ff-cd23-cd3564cf7a18"
      },
      "execution_count": 251,
      "outputs": [
        {
          "output_type": "stream",
          "name": "stdout",
          "text": [
            "Accuracy over validation set: 100.00%\n"
          ]
        }
      ]
    },
    {
      "cell_type": "markdown",
      "source": [
        "Let's try to do better with tuning the hyperparameters with GridSearch"
      ],
      "metadata": {
        "id": "D4QLDP8LMpNE"
      }
    },
    {
      "cell_type": "code",
      "source": [
        "param_grid = {\n",
        "    'max_depth': [20,60,80, 100],\n",
        "    'max_features': [1,2, 3,4,6,8],\n",
        "    'min_samples_leaf': [2,3, 4, 5],\n",
        "    'min_samples_split': [2,4,8, 12],\n",
        "}"
      ],
      "metadata": {
        "id": "CO-Er6LSMx7c"
      },
      "execution_count": 252,
      "outputs": []
    },
    {
      "cell_type": "code",
      "source": [
        "gsc_tree = GridSearchCV(DTC,param_grid,cv=3,verbose=1)\n",
        "gsc_tree.fit(X_train,y_train)"
      ],
      "metadata": {
        "colab": {
          "base_uri": "https://localhost:8080/"
        },
        "id": "FadNdaZBIDvn",
        "outputId": "1c6d0cc8-8b28-4781-fb7b-8811339c6002"
      },
      "execution_count": 253,
      "outputs": [
        {
          "output_type": "stream",
          "name": "stdout",
          "text": [
            "Fitting 3 folds for each of 384 candidates, totalling 1152 fits\n"
          ]
        },
        {
          "output_type": "stream",
          "name": "stderr",
          "text": [
            "/usr/local/lib/python3.8/dist-packages/sklearn/model_selection/_split.py:676: UserWarning: The least populated class in y has only 2 members, which is less than n_splits=3.\n",
            "  warnings.warn(\n"
          ]
        },
        {
          "output_type": "execute_result",
          "data": {
            "text/plain": [
              "GridSearchCV(cv=3, estimator=DecisionTreeClassifier(),\n",
              "             param_grid={'max_depth': [20, 60, 80, 100],\n",
              "                         'max_features': [1, 2, 3, 4, 6, 8],\n",
              "                         'min_samples_leaf': [2, 3, 4, 5],\n",
              "                         'min_samples_split': [2, 4, 8, 12]},\n",
              "             verbose=1)"
            ]
          },
          "metadata": {},
          "execution_count": 253
        }
      ]
    },
    {
      "cell_type": "code",
      "source": [
        "best_tree=gsc_tree.best_estimator_\n",
        "print(gsc_tree.best_estimator_)"
      ],
      "metadata": {
        "colab": {
          "base_uri": "https://localhost:8080/"
        },
        "id": "QX2OUmHCNnG3",
        "outputId": "0e378466-0f0a-4eac-d2f4-a38afbb43c7c"
      },
      "execution_count": 254,
      "outputs": [
        {
          "output_type": "stream",
          "name": "stdout",
          "text": [
            "DecisionTreeClassifier(max_depth=20, max_features=8, min_samples_leaf=4,\n",
            "                       min_samples_split=12)\n"
          ]
        }
      ]
    },
    {
      "cell_type": "markdown",
      "source": [
        "Implemented the Decision Tree with the best parameters"
      ],
      "metadata": {
        "id": "yjykJIwhivjk"
      }
    },
    {
      "cell_type": "code",
      "source": [
        "DTC_2 = DecisionTreeClassifier(\n",
        " max_depth= 80,\n",
        " max_features= 8,\n",
        " min_samples_leaf= 4,\n",
        " min_samples_split= 12)\n",
        "DTC_2.fit(X_train,y_train)"
      ],
      "metadata": {
        "colab": {
          "base_uri": "https://localhost:8080/"
        },
        "id": "032dgiWiVsaZ",
        "outputId": "78e9b475-8b98-4774-b20c-c1f206ad9e87"
      },
      "execution_count": 255,
      "outputs": [
        {
          "output_type": "execute_result",
          "data": {
            "text/plain": [
              "DecisionTreeClassifier(max_depth=80, max_features=8, min_samples_leaf=4,\n",
              "                       min_samples_split=12)"
            ]
          },
          "metadata": {},
          "execution_count": 255
        }
      ]
    },
    {
      "cell_type": "code",
      "source": [
        "y_pred_valid_2 = DTC_2.predict(X_valid)\n",
        "print(f'Accuracy over validation set: {(accuracy_score(y_true=y_valid, y_pred=y_pred_valid_2)):.2%}')"
      ],
      "metadata": {
        "colab": {
          "base_uri": "https://localhost:8080/"
        },
        "id": "n1coZluTIRtp",
        "outputId": "37b589e6-71b8-4f15-ecdb-9cb5fe883984"
      },
      "execution_count": 256,
      "outputs": [
        {
          "output_type": "stream",
          "name": "stdout",
          "text": [
            "Accuracy over validation set: 77.14%\n"
          ]
        }
      ]
    },
    {
      "cell_type": "code",
      "source": [
        "y_pred_test = DTC_2.predict(X_test)\n",
        "print(f'Accuracy over test set: {(accuracy_score(y_true=y_test, y_pred=y_pred_test)):.2%}')"
      ],
      "metadata": {
        "colab": {
          "base_uri": "https://localhost:8080/"
        },
        "id": "bxw0QZ9SHxyg",
        "outputId": "a4b9f6b7-672f-49e3-d3a0-9a75e40fef34"
      },
      "execution_count": 257,
      "outputs": [
        {
          "output_type": "stream",
          "name": "stdout",
          "text": [
            "Accuracy over test set: 78.50%\n"
          ]
        }
      ]
    },
    {
      "cell_type": "code",
      "source": [
        "y_pred_train = DTC_2.predict(X_train)\n",
        "print(f'Accuracy over train set: {(accuracy_score(y_true=y_train, y_pred=y_pred_train)):.2%}')"
      ],
      "metadata": {
        "colab": {
          "base_uri": "https://localhost:8080/"
        },
        "id": "WBRZWTKBI3xx",
        "outputId": "cd6b30b0-8825-4d3c-c7c7-9380daba478a"
      },
      "execution_count": 258,
      "outputs": [
        {
          "output_type": "stream",
          "name": "stdout",
          "text": [
            "Accuracy over train set: 89.63%\n"
          ]
        }
      ]
    },
    {
      "cell_type": "markdown",
      "source": [
        "As we obtain a large better result with the train set, we can imagine the it's overfitting the data"
      ],
      "metadata": {
        "id": "8LfE5dRnI4Pc"
      }
    },
    {
      "cell_type": "markdown",
      "source": [
        "Feature importance"
      ],
      "metadata": {
        "id": "oqAQsq1MWMJb"
      }
    },
    {
      "cell_type": "code",
      "source": [
        "tree_importances = DTC_2.feature_importances_\n",
        "tree_importance = pd.Series(tree_importances, index=X_train.columns)\n",
        "tree_importance"
      ],
      "metadata": {
        "colab": {
          "base_uri": "https://localhost:8080/"
        },
        "id": "qrew_AEMWNpa",
        "outputId": "0ad211cf-2a67-4663-b354-76df6a3a35d1"
      },
      "execution_count": 260,
      "outputs": [
        {
          "output_type": "execute_result",
          "data": {
            "text/plain": [
              "Snow Line Elevation    0.045116\n",
              "Latitude               0.281163\n",
              "Longitude              0.482982\n",
              "Glacier Area           0.034659\n",
              "Mean Elevation         0.030162\n",
              "Minimum Elevation      0.045132\n",
              "Maximum Elevation      0.042354\n",
              "Primary Class          0.023006\n",
              "Glacier Form           0.015427\n",
              "dtype: float64"
            ]
          },
          "metadata": {},
          "execution_count": 260
        }
      ]
    },
    {
      "cell_type": "code",
      "source": [
        "fig, ax = plt.subplots()\n",
        "tree_importance.plot.bar( ax=ax)\n",
        "ax.set_title(\"Feature importances using MDI\")\n",
        "ax.set_ylabel(\"Mean decrease in impurity\")\n",
        "fig.tight_layout()"
      ],
      "metadata": {
        "colab": {
          "base_uri": "https://localhost:8080/",
          "height": 297
        },
        "id": "gYJBwvAkYppW",
        "outputId": "9b363e9c-41f6-47d0-ca38-29c1610c0bcc"
      },
      "execution_count": 261,
      "outputs": [
        {
          "output_type": "display_data",
          "data": {
            "text/plain": [
              "<Figure size 432x288 with 1 Axes>"
            ],
            "image/png": "[encoded data removed]"
          },
          "metadata": {
            "needs_background": "light"
          }
        }
      ]
    },
    {
      "cell_type": "markdown",
      "source": [
        "Let's try to obtain better and less overfitting, with a Random Forest"
      ],
      "metadata": {
        "id": "tKJzYZnLMVGm"
      }
    },
    {
      "cell_type": "markdown",
      "metadata": {
        "id": "dJ9OtNxDaLeu"
      },
      "source": [
        "## Random Forest Classifier --> ensemble learning"
      ]
    },
    {
      "cell_type": "code",
      "execution_count": 262,
      "metadata": {
        "id": "Meu7yQqFQ1M8"
      },
      "outputs": [],
      "source": [
        "from sklearn.ensemble import RandomForestClassifier"
      ]
    },
    {
      "cell_type": "markdown",
      "source": [
        "Try with the default parameters"
      ],
      "metadata": {
        "id": "GHJZ8UW1NUrd"
      }
    },
    {
      "cell_type": "code",
      "source": [
        "RFC = RandomForestClassifier()\n",
        "RFC.fit(X_train, y_train)\n",
        "y_pred_valid_RFC=RFC.predict(X_valid)"
      ],
      "metadata": {
        "colab": {
          "base_uri": "https://localhost:8080/"
        },
        "id": "rVqbUaZwNXB2",
        "outputId": "9949866c-db4e-4e8d-bfc5-405e870acbc5"
      },
      "execution_count": 263,
      "outputs": [
        {
          "output_type": "stream",
          "name": "stderr",
          "text": [
            "<ipython-input-263-bd3e038c6c6a>:2: DataConversionWarning: A column-vector y was passed when a 1d array was expected. Please change the shape of y to (n_samples,), for example using ravel().\n",
            "  RFC.fit(X_train, y_train)\n"
          ]
        }
      ]
    },
    {
      "cell_type": "code",
      "source": [
        "print(f'Accuracy over validation set: {(accuracy_score(y_true=y_valid, y_pred=y_pred_valid_RFC)):.2%}')"
      ],
      "metadata": {
        "colab": {
          "base_uri": "https://localhost:8080/"
        },
        "id": "AvieE4uCNj_c",
        "outputId": "ca56bb51-0eba-4514-9206-090571fe164d"
      },
      "execution_count": 264,
      "outputs": [
        {
          "output_type": "stream",
          "name": "stdout",
          "text": [
            "Accuracy over validation set: 81.42%\n"
          ]
        }
      ]
    },
    {
      "cell_type": "markdown",
      "source": [
        "We already obtain a better prediction"
      ],
      "metadata": {
        "id": "RXrnMVNtNtkD"
      }
    },
    {
      "cell_type": "code",
      "source": [
        "y_pred_test_RFC=RFC.predict(X_test)\n",
        "print(f'Accuracy over test set: {(accuracy_score(y_true=y_test, y_pred=y_pred_test_RFC)):.2%}')"
      ],
      "metadata": {
        "colab": {
          "base_uri": "https://localhost:8080/"
        },
        "id": "Lvt6cjAPN6qz",
        "outputId": "e7bcba8f-9b25-47f5-9e8f-6d410ac9bdb3"
      },
      "execution_count": 265,
      "outputs": [
        {
          "output_type": "stream",
          "name": "stdout",
          "text": [
            "Accuracy over test set: 80.91%\n"
          ]
        }
      ]
    },
    {
      "cell_type": "code",
      "source": [
        "y_pred_train_RFC=RFC.predict(X_train)\n",
        "print(f'Accuracy over training set: {(accuracy_score(y_true=y_train, y_pred=y_pred_train_RFC)):.2%}')"
      ],
      "metadata": {
        "colab": {
          "base_uri": "https://localhost:8080/"
        },
        "id": "rACufvxhOGPW",
        "outputId": "2c3d94ad-e0b4-4c8d-d3d9-c8360cb913f7"
      },
      "execution_count": 266,
      "outputs": [
        {
          "output_type": "stream",
          "name": "stdout",
          "text": [
            "Accuracy over training set: 100.00%\n"
          ]
        }
      ]
    },
    {
      "cell_type": "markdown",
      "source": [
        "Store those result"
      ],
      "metadata": {
        "id": "mGrLnxdh6ALz"
      }
    },
    {
      "cell_type": "code",
      "source": [
        "acc_train_rf=accuracy_score(y_true=y_train, y_pred=y_pred_train_RFC)\n",
        "acc_valid_rf=accuracy_score(y_true=y_valid, y_pred=y_pred_valid_RFC)\n",
        "acc_test_rf=accuracy_score(y_true=y_test, y_pred=y_pred_test_RFC)"
      ],
      "metadata": {
        "id": "BQSRYzmU6B8_"
      },
      "execution_count": 267,
      "outputs": []
    },
    {
      "cell_type": "code",
      "source": [
        "accuracy_rf = [acc_train_rf, acc_valid_rf, acc_test_rf]\n",
        "accuracy_rf = pd.DataFrame(accuracy_rf, columns=['RFC'])\n",
        "accuracy_rf"
      ],
      "metadata": {
        "colab": {
          "base_uri": "https://localhost:8080/",
          "height": 143
        },
        "id": "uEbSJCCDOihA",
        "outputId": "fbfd85ac-4ae5-4e05-fcd4-d836f48cac99"
      },
      "execution_count": 268,
      "outputs": [
        {
          "output_type": "execute_result",
          "data": {
            "text/plain": [
              "        RFC\n",
              "0  1.000000\n",
              "1  0.814171\n",
              "2  0.809079"
            ],
            "text/html": [
              "\n",
              "  <div id=\"df-4bd4b6bd-91d2-4d8d-86e9-0311568d1aba\">\n",
              "    <div class=\"colab-df-container\">\n",
              "      <div>\n",
              "<style scoped>\n",
              "    .dataframe tbody tr th:only-of-type {\n",
              "        vertical-align: middle;\n",
              "    }\n",
              "\n",
              "    .dataframe tbody tr th {\n",
              "        vertical-align: top;\n",
              "    }\n",
              "\n",
              "    .dataframe thead th {\n",
              "        text-align: right;\n",
              "    }\n",
              "</style>\n",
              "<table border=\"1\" class=\"dataframe\">\n",
              "  <thead>\n",
              "    <tr style=\"text-align: right;\">\n",
              "      <th></th>\n",
              "      <th>RFC</th>\n",
              "    </tr>\n",
              "  </thead>\n",
              "  <tbody>\n",
              "    <tr>\n",
              "      <th>0</th>\n",
              "      <td>1.000000</td>\n",
              "    </tr>\n",
              "    <tr>\n",
              "      <th>1</th>\n",
              "      <td>0.814171</td>\n",
              "    </tr>\n",
              "    <tr>\n",
              "      <th>2</th>\n",
              "      <td>0.809079</td>\n",
              "    </tr>\n",
              "  </tbody>\n",
              "</table>\n",
              "</div>\n",
              "      <button class=\"colab-df-convert\" onclick=\"convertToInteractive('df-4bd4b6bd-91d2-4d8d-86e9-0311568d1aba')\"\n",
              "              title=\"Convert this dataframe to an interactive table.\"\n",
              "              style=\"display:none;\">\n",
              "        \n",
              "  <svg xmlns=\"http://www.w3.org/2000/svg\" height=\"24px\"viewBox=\"0 0 24 24\"\n",
              "       width=\"24px\">\n",
              "    <path d=\"M0 0h24v24H0V0z\" fill=\"none\"/>\n",
              "    <path d=\"M18.56 5.44l.94 2.06.94-2.06 2.06-.94-2.06-.94-.94-2.06-.94 2.06-2.06.94zm-11 1L8.5 8.5l.94-2.06 2.06-.94-2.06-.94L8.5 2.5l-.94 2.06-2.06.94zm10 10l.94 2.06.94-2.06 2.06-.94-2.06-.94-.94-2.06-.94 2.06-2.06.94z\"/><path d=\"M17.41 7.96l-1.37-1.37c-.4-.4-.92-.59-1.43-.59-.52 0-1.04.2-1.43.59L10.3 9.45l-7.72 7.72c-.78.78-.78 2.05 0 2.83L4 21.41c.39.39.9.59 1.41.59.51 0 1.02-.2 1.41-.59l7.78-7.78 2.81-2.81c.8-.78.8-2.07 0-2.86zM5.41 20L4 18.59l7.72-7.72 1.47 1.35L5.41 20z\"/>\n",
              "  </svg>\n",
              "      </button>\n",
              "      \n",
              "  <style>\n",
              "    .colab-df-container {\n",
              "      display:flex;\n",
              "      flex-wrap:wrap;\n",
              "      gap: 12px;\n",
              "    }\n",
              "\n",
              "    .colab-df-convert {\n",
              "      background-color: #E8F0FE;\n",
              "      border: none;\n",
              "      border-radius: 50%;\n",
              "      cursor: pointer;\n",
              "      display: none;\n",
              "      fill: #1967D2;\n",
              "      height: 32px;\n",
              "      padding: 0 0 0 0;\n",
              "      width: 32px;\n",
              "    }\n",
              "\n",
              "    .colab-df-convert:hover {\n",
              "      background-color: #E2EBFA;\n",
              "      box-shadow: 0px 1px 2px rgba(60, 64, 67, 0.3), 0px 1px 3px 1px rgba(60, 64, 67, 0.15);\n",
              "      fill: #174EA6;\n",
              "    }\n",
              "\n",
              "    [theme=dark] .colab-df-convert {\n",
              "      background-color: #3B4455;\n",
              "      fill: #D2E3FC;\n",
              "    }\n",
              "\n",
              "    [theme=dark] .colab-df-convert:hover {\n",
              "      background-color: #434B5C;\n",
              "      box-shadow: 0px 1px 3px 1px rgba(0, 0, 0, 0.15);\n",
              "      filter: drop-shadow(0px 1px 2px rgba(0, 0, 0, 0.3));\n",
              "      fill: #FFFFFF;\n",
              "    }\n",
              "  </style>\n",
              "\n",
              "      <script>\n",
              "        const buttonEl =\n",
              "          document.querySelector('#df-4bd4b6bd-91d2-4d8d-86e9-0311568d1aba button.colab-df-convert');\n",
              "        buttonEl.style.display =\n",
              "          google.colab.kernel.accessAllowed ? 'block' : 'none';\n",
              "\n",
              "        async function convertToInteractive(key) {\n",
              "          const element = document.querySelector('#df-4bd4b6bd-91d2-4d8d-86e9-0311568d1aba');\n",
              "          const dataTable =\n",
              "            await google.colab.kernel.invokeFunction('convertToInteractive',\n",
              "                                                     [key], {});\n",
              "          if (!dataTable) return;\n",
              "\n",
              "          const docLinkHtml = 'Like what you see? Visit the ' +\n",
              "            '<a target=\"_blank\" href=https://colab.research.google.com/notebooks/data_table.ipynb>data table notebook</a>'\n",
              "            + ' to learn more about interactive tables.';\n",
              "          element.innerHTML = '';\n",
              "          dataTable['output_type'] = 'display_data';\n",
              "          await google.colab.output.renderOutput(dataTable, element);\n",
              "          const docLink = document.createElement('div');\n",
              "          docLink.innerHTML = docLinkHtml;\n",
              "          element.appendChild(docLink);\n",
              "        }\n",
              "      </script>\n",
              "    </div>\n",
              "  </div>\n",
              "  "
            ]
          },
          "metadata": {},
          "execution_count": 268
        }
      ]
    },
    {
      "cell_type": "code",
      "execution_count": 269,
      "metadata": {
        "id": "lEGn53OgrpRN"
      },
      "outputs": [],
      "source": [
        "from sklearn.metrics import confusion_matrix\n",
        "cm_test = confusion_matrix(y_test, y_pred_test_RFC)\n",
        "cm_train = confusion_matrix(y_train ,y_pred_train_RFC)\n",
        "cm_valid = confusion_matrix(y_valid ,y_pred_valid_RFC)"
      ]
    },
    {
      "cell_type": "code",
      "source": [
        "sns.heatmap(cm_test, annot=True)"
      ],
      "metadata": {
        "colab": {
          "base_uri": "https://localhost:8080/",
          "height": 283
        },
        "id": "mguxd1UcP-JR",
        "outputId": "5856bf46-89eb-4fcc-c21e-819e4203bec5"
      },
      "execution_count": 185,
      "outputs": [
        {
          "output_type": "execute_result",
          "data": {
            "text/plain": [
              "<matplotlib.axes._subplots.AxesSubplot at 0x7fe8313af790>"
            ]
          },
          "metadata": {},
          "execution_count": 185
        },
        {
          "output_type": "display_data",
          "data": {
            "text/plain": [
              "<Figure size 432x288 with 2 Axes>"
            ],
            "image/png": "[encoded data removed]"
          },
          "metadata": {
            "needs_background": "light"
          }
        }
      ]
    },
    {
      "cell_type": "code",
      "source": [
        "sns.heatmap(cm_train, annot=True)"
      ],
      "metadata": {
        "colab": {
          "base_uri": "https://localhost:8080/",
          "height": 283
        },
        "id": "-0uJCVmmQDUy",
        "outputId": "deb64b74-e993-4906-dddd-140987a61d46"
      },
      "execution_count": 186,
      "outputs": [
        {
          "output_type": "execute_result",
          "data": {
            "text/plain": [
              "<matplotlib.axes._subplots.AxesSubplot at 0x7fe831422f10>"
            ]
          },
          "metadata": {},
          "execution_count": 186
        },
        {
          "output_type": "display_data",
          "data": {
            "text/plain": [
              "<Figure size 432x288 with 2 Axes>"
            ],
            "image/png": "[encoded data removed]"
          },
          "metadata": {
            "needs_background": "light"
          }
        }
      ]
    },
    {
      "cell_type": "code",
      "source": [
        "sns.heatmap(cm_valid, annot=True)"
      ],
      "metadata": {
        "colab": {
          "base_uri": "https://localhost:8080/",
          "height": 283
        },
        "id": "Mzjl61v1mJ09",
        "outputId": "9ca48f1e-88b3-4943-e533-2fe82d320166"
      },
      "execution_count": 188,
      "outputs": [
        {
          "output_type": "execute_result",
          "data": {
            "text/plain": [
              "<matplotlib.axes._subplots.AxesSubplot at 0x7fe83140b4c0>"
            ]
          },
          "metadata": {},
          "execution_count": 188
        },
        {
          "output_type": "display_data",
          "data": {
            "text/plain": [
              "<Figure size 432x288 with 2 Axes>"
            ],
            "image/png": "[encoded data removed]"
          },
          "metadata": {
            "needs_background": "light"
          }
        }
      ]
    },
    {
      "cell_type": "markdown",
      "source": [
        "Tuning the hyperparameters"
      ],
      "metadata": {
        "id": "2lmt8qk-dEY_"
      }
    },
    {
      "cell_type": "code",
      "execution_count": 270,
      "metadata": {
        "id": "iCRJZN4KXvgu"
      },
      "outputs": [],
      "source": [
        "RFC_2 = RandomForestClassifier()"
      ]
    },
    {
      "cell_type": "code",
      "execution_count": 118,
      "metadata": {
        "id": "ubYjrbaLCzLZ"
      },
      "outputs": [],
      "source": [
        "param_grid = {\n",
        "    'bootstrap': [True, False],\n",
        "    'max_depth': [20,60,80, 100],\n",
        "    'max_features': [1,2, 3,4,8],\n",
        "    'min_samples_leaf': [2,3, 4, 5],\n",
        "    'min_samples_split': [2,4,8, 12],\n",
        "    'n_estimators': [100, 200, 300]\n",
        "}"
      ]
    },
    {
      "cell_type": "code",
      "execution_count": 119,
      "metadata": {
        "id": "ulbw_Y-oXa25"
      },
      "outputs": [],
      "source": [
        "grid_search = GridSearchCV(estimator = RFC_2, param_grid = param_grid, \n",
        "                          cv = 3, n_jobs = -1, verbose = 2)"
      ]
    },
    {
      "cell_type": "code",
      "execution_count": 120,
      "metadata": {
        "colab": {
          "base_uri": "https://localhost:8080/"
        },
        "id": "GHYuxDRmcsNE",
        "outputId": "3e55d6a7-9a76-4935-9190-51e229340618"
      },
      "outputs": [
        {
          "output_type": "stream",
          "name": "stdout",
          "text": [
            "Fitting 3 folds for each of 1920 candidates, totalling 5760 fits\n"
          ]
        },
        {
          "output_type": "stream",
          "name": "stderr",
          "text": [
            "/usr/local/lib/python3.8/dist-packages/sklearn/model_selection/_split.py:676: UserWarning: The least populated class in y has only 2 members, which is less than n_splits=3.\n",
            "  warnings.warn(\n",
            "/usr/local/lib/python3.8/dist-packages/sklearn/model_selection/_search.py:926: DataConversionWarning: A column-vector y was passed when a 1d array was expected. Please change the shape of y to (n_samples,), for example using ravel().\n",
            "  self.best_estimator_.fit(X, y, **fit_params)\n"
          ]
        },
        {
          "output_type": "execute_result",
          "data": {
            "text/plain": [
              "GridSearchCV(cv=3, estimator=RandomForestClassifier(), n_jobs=-1,\n",
              "             param_grid={'bootstrap': [True, False],\n",
              "                         'max_depth': [20, 60, 80, 100],\n",
              "                         'max_features': [1, 2, 3, 4, 8],\n",
              "                         'min_samples_leaf': [2, 3, 4, 5],\n",
              "                         'min_samples_split': [2, 4, 8, 12],\n",
              "                         'n_estimators': [100, 200, 300]},\n",
              "             verbose=2)"
            ]
          },
          "metadata": {},
          "execution_count": 120
        }
      ],
      "source": [
        "grid_search.fit(X_train, y_train)"
      ]
    },
    {
      "cell_type": "code",
      "source": [
        "best_param=grid_search.best_params_\n",
        "best_param"
      ],
      "metadata": {
        "id": "qFrPeNanjwWc"
      },
      "execution_count": null,
      "outputs": []
    },
    {
      "cell_type": "markdown",
      "source": [
        "The best parameters changes when I run again the model. The parameters that gave me the best result are written in the cell below, to initiate the RFC_2"
      ],
      "metadata": {
        "id": "lTs1O5xOj_Ke"
      }
    },
    {
      "cell_type": "code",
      "source": [
        "RFC_2 = RandomForestClassifier(bootstrap=True,\n",
        " max_depth= 80,\n",
        " max_features= 3,\n",
        " min_samples_leaf= 3,\n",
        " min_samples_split= 8,\n",
        " n_estimators= 200)"
      ],
      "metadata": {
        "id": "PhIvjgmZinad"
      },
      "execution_count": 271,
      "outputs": []
    },
    {
      "cell_type": "code",
      "source": [
        "RFC_2.fit(X_train,y_train)"
      ],
      "metadata": {
        "colab": {
          "base_uri": "https://localhost:8080/"
        },
        "id": "ChzmSFXajRMr",
        "outputId": "6a2ba8df-97c7-4732-f5f8-b086a4b78466"
      },
      "execution_count": 272,
      "outputs": [
        {
          "output_type": "stream",
          "name": "stderr",
          "text": [
            "<ipython-input-272-52f6cd023c9c>:1: DataConversionWarning: A column-vector y was passed when a 1d array was expected. Please change the shape of y to (n_samples,), for example using ravel().\n",
            "  RFC_2.fit(X_train,y_train)\n"
          ]
        },
        {
          "output_type": "execute_result",
          "data": {
            "text/plain": [
              "RandomForestClassifier(max_depth=80, max_features=3, min_samples_leaf=3,\n",
              "                       min_samples_split=8, n_estimators=200)"
            ]
          },
          "metadata": {},
          "execution_count": 272
        }
      ]
    },
    {
      "cell_type": "code",
      "execution_count": 273,
      "metadata": {
        "id": "1xfBI4thhSys"
      },
      "outputs": [],
      "source": [
        "y_pred_valid_RFC_2 = RFC_2.predict(X_valid)"
      ]
    },
    {
      "cell_type": "code",
      "source": [
        "print(f'Accuracy over validation set: {(accuracy_score(y_true=y_valid, y_pred=y_pred_valid_RFC_2)):.2%}')"
      ],
      "metadata": {
        "colab": {
          "base_uri": "https://localhost:8080/"
        },
        "id": "3OMY2wF5j70-",
        "outputId": "b33ee1de-37be-48b4-fd11-133e24217d9f"
      },
      "execution_count": 274,
      "outputs": [
        {
          "output_type": "stream",
          "name": "stdout",
          "text": [
            "Accuracy over validation set: 82.62%\n"
          ]
        }
      ]
    },
    {
      "cell_type": "code",
      "source": [
        "y_pred_test_RFC_2 = RFC_2.predict(X_test)"
      ],
      "metadata": {
        "id": "4-KIg6u6j_vK"
      },
      "execution_count": 275,
      "outputs": []
    },
    {
      "cell_type": "code",
      "source": [
        "print(f'Accuracy over test set: {(accuracy_score(y_true=y_test, y_pred=y_pred_test_RFC_2)):.2%}')"
      ],
      "metadata": {
        "colab": {
          "base_uri": "https://localhost:8080/"
        },
        "id": "GhshO3dckFIh",
        "outputId": "0b8df53d-92a6-4fcc-b9a4-3cc6aa6fa85a"
      },
      "execution_count": 276,
      "outputs": [
        {
          "output_type": "stream",
          "name": "stdout",
          "text": [
            "Accuracy over test set: 81.31%\n"
          ]
        }
      ]
    },
    {
      "cell_type": "code",
      "source": [
        "y_pred_train_RFC_2 = RFC_2.predict(X_train)"
      ],
      "metadata": {
        "id": "8nm-ZMWPkRxu"
      },
      "execution_count": 277,
      "outputs": []
    },
    {
      "cell_type": "code",
      "source": [
        "print(f'Accuracy over training set: {(accuracy_score(y_true=y_train, y_pred=y_pred_train_RFC_2)):.2%} \\n' \n",
        "f'Accuracy over test set: {(accuracy_score(y_true=y_test, y_pred=y_pred_test_RFC_2)):.2%} \\n'\n",
        "f'Accuracy over validation set: {(accuracy_score(y_true=y_valid, y_pred=y_pred_valid_RFC_2)):.2%}')"
      ],
      "metadata": {
        "colab": {
          "base_uri": "https://localhost:8080/"
        },
        "id": "Yk0aLh2qjue1",
        "outputId": "91d87adb-514d-45dd-dcae-e99b842e71df"
      },
      "execution_count": 278,
      "outputs": [
        {
          "output_type": "stream",
          "name": "stdout",
          "text": [
            "Accuracy over training set: 93.18% \n",
            "Accuracy over test set: 81.31% \n",
            "Accuracy over validation set: 82.62%\n"
          ]
        }
      ]
    },
    {
      "cell_type": "markdown",
      "source": [
        "Other evaluation metrics"
      ],
      "metadata": {
        "id": "8LVtcvF7pSJb"
      }
    },
    {
      "cell_type": "code",
      "source": [
        "from sklearn.metrics import classification_report\n",
        "print(classification_report(y_test, y_pred_test_RFC_2))"
      ],
      "metadata": {
        "colab": {
          "base_uri": "https://localhost:8080/"
        },
        "id": "9yzwHF-TBwp8",
        "outputId": "685e4fda-1def-44fc-901c-b6e3e30e4644"
      },
      "execution_count": 279,
      "outputs": [
        {
          "output_type": "stream",
          "name": "stdout",
          "text": [
            "              precision    recall  f1-score   support\n",
            "\n",
            "         1.0       0.90      0.69      0.78       108\n",
            "         2.0       0.83      0.90      0.86       387\n",
            "         3.0       0.76      0.79      0.78       184\n",
            "         4.0       0.75      0.66      0.70        64\n",
            "         5.0       0.00      0.00      0.00         2\n",
            "         6.0       0.00      0.00      0.00         3\n",
            "         7.0       0.00      0.00      0.00         1\n",
            "         8.0       0.00      0.00      0.00         0\n",
            "\n",
            "    accuracy                           0.81       749\n",
            "   macro avg       0.41      0.38      0.39       749\n",
            "weighted avg       0.81      0.81      0.81       749\n",
            "\n"
          ]
        },
        {
          "output_type": "stream",
          "name": "stderr",
          "text": [
            "/usr/local/lib/python3.8/dist-packages/sklearn/metrics/_classification.py:1318: UndefinedMetricWarning: Precision and F-score are ill-defined and being set to 0.0 in labels with no predicted samples. Use `zero_division` parameter to control this behavior.\n",
            "  _warn_prf(average, modifier, msg_start, len(result))\n",
            "/usr/local/lib/python3.8/dist-packages/sklearn/metrics/_classification.py:1318: UndefinedMetricWarning: Recall and F-score are ill-defined and being set to 0.0 in labels with no true samples. Use `zero_division` parameter to control this behavior.\n",
            "  _warn_prf(average, modifier, msg_start, len(result))\n",
            "/usr/local/lib/python3.8/dist-packages/sklearn/metrics/_classification.py:1318: UndefinedMetricWarning: Precision and F-score are ill-defined and being set to 0.0 in labels with no predicted samples. Use `zero_division` parameter to control this behavior.\n",
            "  _warn_prf(average, modifier, msg_start, len(result))\n",
            "/usr/local/lib/python3.8/dist-packages/sklearn/metrics/_classification.py:1318: UndefinedMetricWarning: Recall and F-score are ill-defined and being set to 0.0 in labels with no true samples. Use `zero_division` parameter to control this behavior.\n",
            "  _warn_prf(average, modifier, msg_start, len(result))\n",
            "/usr/local/lib/python3.8/dist-packages/sklearn/metrics/_classification.py:1318: UndefinedMetricWarning: Precision and F-score are ill-defined and being set to 0.0 in labels with no predicted samples. Use `zero_division` parameter to control this behavior.\n",
            "  _warn_prf(average, modifier, msg_start, len(result))\n",
            "/usr/local/lib/python3.8/dist-packages/sklearn/metrics/_classification.py:1318: UndefinedMetricWarning: Recall and F-score are ill-defined and being set to 0.0 in labels with no true samples. Use `zero_division` parameter to control this behavior.\n",
            "  _warn_prf(average, modifier, msg_start, len(result))\n"
          ]
        }
      ]
    },
    {
      "cell_type": "markdown",
      "source": [
        "Store the results"
      ],
      "metadata": {
        "id": "2EPIqnrB7SAJ"
      }
    },
    {
      "cell_type": "code",
      "source": [
        "acc_train_rf2=accuracy_score(y_true=y_train, y_pred=y_pred_train_RFC_2)\n",
        "acc_valid_rf2=accuracy_score(y_true=y_valid, y_pred=y_pred_valid_RFC_2)\n",
        "acc_test_rf2=accuracy_score(y_true=y_test, y_pred=y_pred_test_RFC_2)"
      ],
      "metadata": {
        "id": "mw3ISvFO7DK6"
      },
      "execution_count": 280,
      "outputs": []
    },
    {
      "cell_type": "code",
      "source": [
        "accuracy_rf2 = [acc_train_rf2, acc_valid_rf2, acc_test_rf2]\n",
        "# Create the pandas DataFrame with column name is provided explicitly\n",
        "accuracy_rf2 = pd.DataFrame(accuracy_rf2, columns=['RFC2'])\n",
        "# print dataframe.\n",
        "accuracy_rf2"
      ],
      "metadata": {
        "colab": {
          "base_uri": "https://localhost:8080/",
          "height": 143
        },
        "id": "hkhBFJ_37T-Z",
        "outputId": "685fe8d7-5897-4d17-c4ba-6acd681afa42"
      },
      "execution_count": 281,
      "outputs": [
        {
          "output_type": "execute_result",
          "data": {
            "text/plain": [
              "       RFC2\n",
              "0  0.931825\n",
              "1  0.826203\n",
              "2  0.813084"
            ],
            "text/html": [
              "\n",
              "  <div id=\"df-114f5aaa-4a9c-453b-8c2f-35f4ba2eb049\">\n",
              "    <div class=\"colab-df-container\">\n",
              "      <div>\n",
              "<style scoped>\n",
              "    .dataframe tbody tr th:only-of-type {\n",
              "        vertical-align: middle;\n",
              "    }\n",
              "\n",
              "    .dataframe tbody tr th {\n",
              "        vertical-align: top;\n",
              "    }\n",
              "\n",
              "    .dataframe thead th {\n",
              "        text-align: right;\n",
              "    }\n",
              "</style>\n",
              "<table border=\"1\" class=\"dataframe\">\n",
              "  <thead>\n",
              "    <tr style=\"text-align: right;\">\n",
              "      <th></th>\n",
              "      <th>RFC2</th>\n",
              "    </tr>\n",
              "  </thead>\n",
              "  <tbody>\n",
              "    <tr>\n",
              "      <th>0</th>\n",
              "      <td>0.931825</td>\n",
              "    </tr>\n",
              "    <tr>\n",
              "      <th>1</th>\n",
              "      <td>0.826203</td>\n",
              "    </tr>\n",
              "    <tr>\n",
              "      <th>2</th>\n",
              "      <td>0.813084</td>\n",
              "    </tr>\n",
              "  </tbody>\n",
              "</table>\n",
              "</div>\n",
              "      <button class=\"colab-df-convert\" onclick=\"convertToInteractive('df-114f5aaa-4a9c-453b-8c2f-35f4ba2eb049')\"\n",
              "              title=\"Convert this dataframe to an interactive table.\"\n",
              "              style=\"display:none;\">\n",
              "        \n",
              "  <svg xmlns=\"http://www.w3.org/2000/svg\" height=\"24px\"viewBox=\"0 0 24 24\"\n",
              "       width=\"24px\">\n",
              "    <path d=\"M0 0h24v24H0V0z\" fill=\"none\"/>\n",
              "    <path d=\"M18.56 5.44l.94 2.06.94-2.06 2.06-.94-2.06-.94-.94-2.06-.94 2.06-2.06.94zm-11 1L8.5 8.5l.94-2.06 2.06-.94-2.06-.94L8.5 2.5l-.94 2.06-2.06.94zm10 10l.94 2.06.94-2.06 2.06-.94-2.06-.94-.94-2.06-.94 2.06-2.06.94z\"/><path d=\"M17.41 7.96l-1.37-1.37c-.4-.4-.92-.59-1.43-.59-.52 0-1.04.2-1.43.59L10.3 9.45l-7.72 7.72c-.78.78-.78 2.05 0 2.83L4 21.41c.39.39.9.59 1.41.59.51 0 1.02-.2 1.41-.59l7.78-7.78 2.81-2.81c.8-.78.8-2.07 0-2.86zM5.41 20L4 18.59l7.72-7.72 1.47 1.35L5.41 20z\"/>\n",
              "  </svg>\n",
              "      </button>\n",
              "      \n",
              "  <style>\n",
              "    .colab-df-container {\n",
              "      display:flex;\n",
              "      flex-wrap:wrap;\n",
              "      gap: 12px;\n",
              "    }\n",
              "\n",
              "    .colab-df-convert {\n",
              "      background-color: #E8F0FE;\n",
              "      border: none;\n",
              "      border-radius: 50%;\n",
              "      cursor: pointer;\n",
              "      display: none;\n",
              "      fill: #1967D2;\n",
              "      height: 32px;\n",
              "      padding: 0 0 0 0;\n",
              "      width: 32px;\n",
              "    }\n",
              "\n",
              "    .colab-df-convert:hover {\n",
              "      background-color: #E2EBFA;\n",
              "      box-shadow: 0px 1px 2px rgba(60, 64, 67, 0.3), 0px 1px 3px 1px rgba(60, 64, 67, 0.15);\n",
              "      fill: #174EA6;\n",
              "    }\n",
              "\n",
              "    [theme=dark] .colab-df-convert {\n",
              "      background-color: #3B4455;\n",
              "      fill: #D2E3FC;\n",
              "    }\n",
              "\n",
              "    [theme=dark] .colab-df-convert:hover {\n",
              "      background-color: #434B5C;\n",
              "      box-shadow: 0px 1px 3px 1px rgba(0, 0, 0, 0.15);\n",
              "      filter: drop-shadow(0px 1px 2px rgba(0, 0, 0, 0.3));\n",
              "      fill: #FFFFFF;\n",
              "    }\n",
              "  </style>\n",
              "\n",
              "      <script>\n",
              "        const buttonEl =\n",
              "          document.querySelector('#df-114f5aaa-4a9c-453b-8c2f-35f4ba2eb049 button.colab-df-convert');\n",
              "        buttonEl.style.display =\n",
              "          google.colab.kernel.accessAllowed ? 'block' : 'none';\n",
              "\n",
              "        async function convertToInteractive(key) {\n",
              "          const element = document.querySelector('#df-114f5aaa-4a9c-453b-8c2f-35f4ba2eb049');\n",
              "          const dataTable =\n",
              "            await google.colab.kernel.invokeFunction('convertToInteractive',\n",
              "                                                     [key], {});\n",
              "          if (!dataTable) return;\n",
              "\n",
              "          const docLinkHtml = 'Like what you see? Visit the ' +\n",
              "            '<a target=\"_blank\" href=https://colab.research.google.com/notebooks/data_table.ipynb>data table notebook</a>'\n",
              "            + ' to learn more about interactive tables.';\n",
              "          element.innerHTML = '';\n",
              "          dataTable['output_type'] = 'display_data';\n",
              "          await google.colab.output.renderOutput(dataTable, element);\n",
              "          const docLink = document.createElement('div');\n",
              "          docLink.innerHTML = docLinkHtml;\n",
              "          element.appendChild(docLink);\n",
              "        }\n",
              "      </script>\n",
              "    </div>\n",
              "  </div>\n",
              "  "
            ]
          },
          "metadata": {},
          "execution_count": 281
        }
      ]
    },
    {
      "cell_type": "markdown",
      "source": [
        "Join all the result"
      ],
      "metadata": {
        "id": "qork8-MM7gyj"
      }
    },
    {
      "cell_type": "code",
      "source": [
        "accuracy = pd.concat([accuracy_Lr, accuracy_rf2], axis=1)\n",
        "accuracy"
      ],
      "metadata": {
        "colab": {
          "base_uri": "https://localhost:8080/",
          "height": 143
        },
        "id": "uSNQiOw17iUH",
        "outputId": "6a5d3363-3951-4d7c-9045-b2733a944c12"
      },
      "execution_count": 282,
      "outputs": [
        {
          "output_type": "execute_result",
          "data": {
            "text/plain": [
              "         Lr      RFC2\n",
              "0  0.641936  0.931825\n",
              "1  0.631016  0.826203\n",
              "2  0.636849  0.813084"
            ],
            "text/html": [
              "\n",
              "  <div id=\"df-a1081d7a-fed3-4e0d-b9f9-08638394b921\">\n",
              "    <div class=\"colab-df-container\">\n",
              "      <div>\n",
              "<style scoped>\n",
              "    .dataframe tbody tr th:only-of-type {\n",
              "        vertical-align: middle;\n",
              "    }\n",
              "\n",
              "    .dataframe tbody tr th {\n",
              "        vertical-align: top;\n",
              "    }\n",
              "\n",
              "    .dataframe thead th {\n",
              "        text-align: right;\n",
              "    }\n",
              "</style>\n",
              "<table border=\"1\" class=\"dataframe\">\n",
              "  <thead>\n",
              "    <tr style=\"text-align: right;\">\n",
              "      <th></th>\n",
              "      <th>Lr</th>\n",
              "      <th>RFC2</th>\n",
              "    </tr>\n",
              "  </thead>\n",
              "  <tbody>\n",
              "    <tr>\n",
              "      <th>0</th>\n",
              "      <td>0.641936</td>\n",
              "      <td>0.931825</td>\n",
              "    </tr>\n",
              "    <tr>\n",
              "      <th>1</th>\n",
              "      <td>0.631016</td>\n",
              "      <td>0.826203</td>\n",
              "    </tr>\n",
              "    <tr>\n",
              "      <th>2</th>\n",
              "      <td>0.636849</td>\n",
              "      <td>0.813084</td>\n",
              "    </tr>\n",
              "  </tbody>\n",
              "</table>\n",
              "</div>\n",
              "      <button class=\"colab-df-convert\" onclick=\"convertToInteractive('df-a1081d7a-fed3-4e0d-b9f9-08638394b921')\"\n",
              "              title=\"Convert this dataframe to an interactive table.\"\n",
              "              style=\"display:none;\">\n",
              "        \n",
              "  <svg xmlns=\"http://www.w3.org/2000/svg\" height=\"24px\"viewBox=\"0 0 24 24\"\n",
              "       width=\"24px\">\n",
              "    <path d=\"M0 0h24v24H0V0z\" fill=\"none\"/>\n",
              "    <path d=\"M18.56 5.44l.94 2.06.94-2.06 2.06-.94-2.06-.94-.94-2.06-.94 2.06-2.06.94zm-11 1L8.5 8.5l.94-2.06 2.06-.94-2.06-.94L8.5 2.5l-.94 2.06-2.06.94zm10 10l.94 2.06.94-2.06 2.06-.94-2.06-.94-.94-2.06-.94 2.06-2.06.94z\"/><path d=\"M17.41 7.96l-1.37-1.37c-.4-.4-.92-.59-1.43-.59-.52 0-1.04.2-1.43.59L10.3 9.45l-7.72 7.72c-.78.78-.78 2.05 0 2.83L4 21.41c.39.39.9.59 1.41.59.51 0 1.02-.2 1.41-.59l7.78-7.78 2.81-2.81c.8-.78.8-2.07 0-2.86zM5.41 20L4 18.59l7.72-7.72 1.47 1.35L5.41 20z\"/>\n",
              "  </svg>\n",
              "      </button>\n",
              "      \n",
              "  <style>\n",
              "    .colab-df-container {\n",
              "      display:flex;\n",
              "      flex-wrap:wrap;\n",
              "      gap: 12px;\n",
              "    }\n",
              "\n",
              "    .colab-df-convert {\n",
              "      background-color: #E8F0FE;\n",
              "      border: none;\n",
              "      border-radius: 50%;\n",
              "      cursor: pointer;\n",
              "      display: none;\n",
              "      fill: #1967D2;\n",
              "      height: 32px;\n",
              "      padding: 0 0 0 0;\n",
              "      width: 32px;\n",
              "    }\n",
              "\n",
              "    .colab-df-convert:hover {\n",
              "      background-color: #E2EBFA;\n",
              "      box-shadow: 0px 1px 2px rgba(60, 64, 67, 0.3), 0px 1px 3px 1px rgba(60, 64, 67, 0.15);\n",
              "      fill: #174EA6;\n",
              "    }\n",
              "\n",
              "    [theme=dark] .colab-df-convert {\n",
              "      background-color: #3B4455;\n",
              "      fill: #D2E3FC;\n",
              "    }\n",
              "\n",
              "    [theme=dark] .colab-df-convert:hover {\n",
              "      background-color: #434B5C;\n",
              "      box-shadow: 0px 1px 3px 1px rgba(0, 0, 0, 0.15);\n",
              "      filter: drop-shadow(0px 1px 2px rgba(0, 0, 0, 0.3));\n",
              "      fill: #FFFFFF;\n",
              "    }\n",
              "  </style>\n",
              "\n",
              "      <script>\n",
              "        const buttonEl =\n",
              "          document.querySelector('#df-a1081d7a-fed3-4e0d-b9f9-08638394b921 button.colab-df-convert');\n",
              "        buttonEl.style.display =\n",
              "          google.colab.kernel.accessAllowed ? 'block' : 'none';\n",
              "\n",
              "        async function convertToInteractive(key) {\n",
              "          const element = document.querySelector('#df-a1081d7a-fed3-4e0d-b9f9-08638394b921');\n",
              "          const dataTable =\n",
              "            await google.colab.kernel.invokeFunction('convertToInteractive',\n",
              "                                                     [key], {});\n",
              "          if (!dataTable) return;\n",
              "\n",
              "          const docLinkHtml = 'Like what you see? Visit the ' +\n",
              "            '<a target=\"_blank\" href=https://colab.research.google.com/notebooks/data_table.ipynb>data table notebook</a>'\n",
              "            + ' to learn more about interactive tables.';\n",
              "          element.innerHTML = '';\n",
              "          dataTable['output_type'] = 'display_data';\n",
              "          await google.colab.output.renderOutput(dataTable, element);\n",
              "          const docLink = document.createElement('div');\n",
              "          docLink.innerHTML = docLinkHtml;\n",
              "          element.appendChild(docLink);\n",
              "        }\n",
              "      </script>\n",
              "    </div>\n",
              "  </div>\n",
              "  "
            ]
          },
          "metadata": {},
          "execution_count": 282
        }
      ]
    },
    {
      "cell_type": "code",
      "source": [
        "accuracy_new = accuracy.rename(index={0: 'Train', 1:'Valid', 2:'Test'})\n",
        "accuracy_new"
      ],
      "metadata": {
        "colab": {
          "base_uri": "https://localhost:8080/",
          "height": 143
        },
        "id": "fsnupANP8ZB2",
        "outputId": "bbe3e79e-742e-4145-ca7d-0c024bac02a3"
      },
      "execution_count": 283,
      "outputs": [
        {
          "output_type": "execute_result",
          "data": {
            "text/plain": [
              "             Lr      RFC2\n",
              "Train  0.641936  0.931825\n",
              "Valid  0.631016  0.826203\n",
              "Test   0.636849  0.813084"
            ],
            "text/html": [
              "\n",
              "  <div id=\"df-cace6f52-a8a5-451a-b187-678c11d5d7d5\">\n",
              "    <div class=\"colab-df-container\">\n",
              "      <div>\n",
              "<style scoped>\n",
              "    .dataframe tbody tr th:only-of-type {\n",
              "        vertical-align: middle;\n",
              "    }\n",
              "\n",
              "    .dataframe tbody tr th {\n",
              "        vertical-align: top;\n",
              "    }\n",
              "\n",
              "    .dataframe thead th {\n",
              "        text-align: right;\n",
              "    }\n",
              "</style>\n",
              "<table border=\"1\" class=\"dataframe\">\n",
              "  <thead>\n",
              "    <tr style=\"text-align: right;\">\n",
              "      <th></th>\n",
              "      <th>Lr</th>\n",
              "      <th>RFC2</th>\n",
              "    </tr>\n",
              "  </thead>\n",
              "  <tbody>\n",
              "    <tr>\n",
              "      <th>Train</th>\n",
              "      <td>0.641936</td>\n",
              "      <td>0.931825</td>\n",
              "    </tr>\n",
              "    <tr>\n",
              "      <th>Valid</th>\n",
              "      <td>0.631016</td>\n",
              "      <td>0.826203</td>\n",
              "    </tr>\n",
              "    <tr>\n",
              "      <th>Test</th>\n",
              "      <td>0.636849</td>\n",
              "      <td>0.813084</td>\n",
              "    </tr>\n",
              "  </tbody>\n",
              "</table>\n",
              "</div>\n",
              "      <button class=\"colab-df-convert\" onclick=\"convertToInteractive('df-cace6f52-a8a5-451a-b187-678c11d5d7d5')\"\n",
              "              title=\"Convert this dataframe to an interactive table.\"\n",
              "              style=\"display:none;\">\n",
              "        \n",
              "  <svg xmlns=\"http://www.w3.org/2000/svg\" height=\"24px\"viewBox=\"0 0 24 24\"\n",
              "       width=\"24px\">\n",
              "    <path d=\"M0 0h24v24H0V0z\" fill=\"none\"/>\n",
              "    <path d=\"M18.56 5.44l.94 2.06.94-2.06 2.06-.94-2.06-.94-.94-2.06-.94 2.06-2.06.94zm-11 1L8.5 8.5l.94-2.06 2.06-.94-2.06-.94L8.5 2.5l-.94 2.06-2.06.94zm10 10l.94 2.06.94-2.06 2.06-.94-2.06-.94-.94-2.06-.94 2.06-2.06.94z\"/><path d=\"M17.41 7.96l-1.37-1.37c-.4-.4-.92-.59-1.43-.59-.52 0-1.04.2-1.43.59L10.3 9.45l-7.72 7.72c-.78.78-.78 2.05 0 2.83L4 21.41c.39.39.9.59 1.41.59.51 0 1.02-.2 1.41-.59l7.78-7.78 2.81-2.81c.8-.78.8-2.07 0-2.86zM5.41 20L4 18.59l7.72-7.72 1.47 1.35L5.41 20z\"/>\n",
              "  </svg>\n",
              "      </button>\n",
              "      \n",
              "  <style>\n",
              "    .colab-df-container {\n",
              "      display:flex;\n",
              "      flex-wrap:wrap;\n",
              "      gap: 12px;\n",
              "    }\n",
              "\n",
              "    .colab-df-convert {\n",
              "      background-color: #E8F0FE;\n",
              "      border: none;\n",
              "      border-radius: 50%;\n",
              "      cursor: pointer;\n",
              "      display: none;\n",
              "      fill: #1967D2;\n",
              "      height: 32px;\n",
              "      padding: 0 0 0 0;\n",
              "      width: 32px;\n",
              "    }\n",
              "\n",
              "    .colab-df-convert:hover {\n",
              "      background-color: #E2EBFA;\n",
              "      box-shadow: 0px 1px 2px rgba(60, 64, 67, 0.3), 0px 1px 3px 1px rgba(60, 64, 67, 0.15);\n",
              "      fill: #174EA6;\n",
              "    }\n",
              "\n",
              "    [theme=dark] .colab-df-convert {\n",
              "      background-color: #3B4455;\n",
              "      fill: #D2E3FC;\n",
              "    }\n",
              "\n",
              "    [theme=dark] .colab-df-convert:hover {\n",
              "      background-color: #434B5C;\n",
              "      box-shadow: 0px 1px 3px 1px rgba(0, 0, 0, 0.15);\n",
              "      filter: drop-shadow(0px 1px 2px rgba(0, 0, 0, 0.3));\n",
              "      fill: #FFFFFF;\n",
              "    }\n",
              "  </style>\n",
              "\n",
              "      <script>\n",
              "        const buttonEl =\n",
              "          document.querySelector('#df-cace6f52-a8a5-451a-b187-678c11d5d7d5 button.colab-df-convert');\n",
              "        buttonEl.style.display =\n",
              "          google.colab.kernel.accessAllowed ? 'block' : 'none';\n",
              "\n",
              "        async function convertToInteractive(key) {\n",
              "          const element = document.querySelector('#df-cace6f52-a8a5-451a-b187-678c11d5d7d5');\n",
              "          const dataTable =\n",
              "            await google.colab.kernel.invokeFunction('convertToInteractive',\n",
              "                                                     [key], {});\n",
              "          if (!dataTable) return;\n",
              "\n",
              "          const docLinkHtml = 'Like what you see? Visit the ' +\n",
              "            '<a target=\"_blank\" href=https://colab.research.google.com/notebooks/data_table.ipynb>data table notebook</a>'\n",
              "            + ' to learn more about interactive tables.';\n",
              "          element.innerHTML = '';\n",
              "          dataTable['output_type'] = 'display_data';\n",
              "          await google.colab.output.renderOutput(dataTable, element);\n",
              "          const docLink = document.createElement('div');\n",
              "          docLink.innerHTML = docLinkHtml;\n",
              "          element.appendChild(docLink);\n",
              "        }\n",
              "      </script>\n",
              "    </div>\n",
              "  </div>\n",
              "  "
            ]
          },
          "metadata": {},
          "execution_count": 283
        }
      ]
    },
    {
      "cell_type": "markdown",
      "metadata": {
        "id": "eW5D-lE-hiFQ"
      },
      "source": [
        "The result with the tuning of the hyperparameters are not so much better. "
      ]
    },
    {
      "cell_type": "markdown",
      "source": [
        "Feature importance\n"
      ],
      "metadata": {
        "id": "1EIetb2pdScT"
      }
    },
    {
      "cell_type": "code",
      "source": [
        "importances = RFC_2.feature_importances_\n",
        "std = np.std([tree.feature_importances_ for tree in RFC_2.estimators_], axis=0)"
      ],
      "metadata": {
        "id": "P4jgS4kadVuI"
      },
      "execution_count": 284,
      "outputs": []
    },
    {
      "cell_type": "code",
      "source": [
        "forest_importances = pd.Series(importances, index=X_train.columns)\n",
        "fig, ax = plt.subplots()\n",
        "forest_importances.plot.bar(yerr=std, ax=ax)\n",
        "ax.set_title(\"Feature importances using MDI\")\n",
        "ax.set_ylabel(\"Mean decrease in impurity\")\n",
        "fig.tight_layout()"
      ],
      "metadata": {
        "id": "3OytKJhrdhBh",
        "colab": {
          "base_uri": "https://localhost:8080/",
          "height": 297
        },
        "outputId": "7a7b1b37-214a-4c4c-cbe5-0478a34f21d6"
      },
      "execution_count": 285,
      "outputs": [
        {
          "output_type": "display_data",
          "data": {
            "text/plain": [
              "<Figure size 432x288 with 1 Axes>"
            ],
            "image/png": "[encoded data removed]"
          },
          "metadata": {
            "needs_background": "light"
          }
        }
      ]
    },
    {
      "cell_type": "markdown",
      "source": [
        "Plot with the feature importance for the decision tree + the random forest"
      ],
      "metadata": {
        "id": "drQCX7dOkj9S"
      }
    },
    {
      "cell_type": "code",
      "source": [
        "importance = pd.concat([tree_importance, forest_importances], axis=1)\n",
        "importance"
      ],
      "metadata": {
        "colab": {
          "base_uri": "https://localhost:8080/",
          "height": 331
        },
        "id": "LnFQPdrqZKn3",
        "outputId": "481a1efe-1a1b-43e9-85bc-b54cd630f157"
      },
      "execution_count": 286,
      "outputs": [
        {
          "output_type": "execute_result",
          "data": {
            "text/plain": [
              "                            0         1\n",
              "Snow Line Elevation  0.045116  0.097753\n",
              "Latitude             0.281163  0.173635\n",
              "Longitude            0.482982  0.283258\n",
              "Glacier Area         0.034659  0.080795\n",
              "Mean Elevation       0.030162  0.112853\n",
              "Minimum Elevation    0.045132  0.080320\n",
              "Maximum Elevation    0.042354  0.119863\n",
              "Primary Class        0.023006  0.028706\n",
              "Glacier Form         0.015427  0.022817"
            ],
            "text/html": [
              "\n",
              "  <div id=\"df-50859950-9fe2-456b-baed-a86a05d48072\">\n",
              "    <div class=\"colab-df-container\">\n",
              "      <div>\n",
              "<style scoped>\n",
              "    .dataframe tbody tr th:only-of-type {\n",
              "        vertical-align: middle;\n",
              "    }\n",
              "\n",
              "    .dataframe tbody tr th {\n",
              "        vertical-align: top;\n",
              "    }\n",
              "\n",
              "    .dataframe thead th {\n",
              "        text-align: right;\n",
              "    }\n",
              "</style>\n",
              "<table border=\"1\" class=\"dataframe\">\n",
              "  <thead>\n",
              "    <tr style=\"text-align: right;\">\n",
              "      <th></th>\n",
              "      <th>0</th>\n",
              "      <th>1</th>\n",
              "    </tr>\n",
              "  </thead>\n",
              "  <tbody>\n",
              "    <tr>\n",
              "      <th>Snow Line Elevation</th>\n",
              "      <td>0.045116</td>\n",
              "      <td>0.097753</td>\n",
              "    </tr>\n",
              "    <tr>\n",
              "      <th>Latitude</th>\n",
              "      <td>0.281163</td>\n",
              "      <td>0.173635</td>\n",
              "    </tr>\n",
              "    <tr>\n",
              "      <th>Longitude</th>\n",
              "      <td>0.482982</td>\n",
              "      <td>0.283258</td>\n",
              "    </tr>\n",
              "    <tr>\n",
              "      <th>Glacier Area</th>\n",
              "      <td>0.034659</td>\n",
              "      <td>0.080795</td>\n",
              "    </tr>\n",
              "    <tr>\n",
              "      <th>Mean Elevation</th>\n",
              "      <td>0.030162</td>\n",
              "      <td>0.112853</td>\n",
              "    </tr>\n",
              "    <tr>\n",
              "      <th>Minimum Elevation</th>\n",
              "      <td>0.045132</td>\n",
              "      <td>0.080320</td>\n",
              "    </tr>\n",
              "    <tr>\n",
              "      <th>Maximum Elevation</th>\n",
              "      <td>0.042354</td>\n",
              "      <td>0.119863</td>\n",
              "    </tr>\n",
              "    <tr>\n",
              "      <th>Primary Class</th>\n",
              "      <td>0.023006</td>\n",
              "      <td>0.028706</td>\n",
              "    </tr>\n",
              "    <tr>\n",
              "      <th>Glacier Form</th>\n",
              "      <td>0.015427</td>\n",
              "      <td>0.022817</td>\n",
              "    </tr>\n",
              "  </tbody>\n",
              "</table>\n",
              "</div>\n",
              "      <button class=\"colab-df-convert\" onclick=\"convertToInteractive('df-50859950-9fe2-456b-baed-a86a05d48072')\"\n",
              "              title=\"Convert this dataframe to an interactive table.\"\n",
              "              style=\"display:none;\">\n",
              "        \n",
              "  <svg xmlns=\"http://www.w3.org/2000/svg\" height=\"24px\"viewBox=\"0 0 24 24\"\n",
              "       width=\"24px\">\n",
              "    <path d=\"M0 0h24v24H0V0z\" fill=\"none\"/>\n",
              "    <path d=\"M18.56 5.44l.94 2.06.94-2.06 2.06-.94-2.06-.94-.94-2.06-.94 2.06-2.06.94zm-11 1L8.5 8.5l.94-2.06 2.06-.94-2.06-.94L8.5 2.5l-.94 2.06-2.06.94zm10 10l.94 2.06.94-2.06 2.06-.94-2.06-.94-.94-2.06-.94 2.06-2.06.94z\"/><path d=\"M17.41 7.96l-1.37-1.37c-.4-.4-.92-.59-1.43-.59-.52 0-1.04.2-1.43.59L10.3 9.45l-7.72 7.72c-.78.78-.78 2.05 0 2.83L4 21.41c.39.39.9.59 1.41.59.51 0 1.02-.2 1.41-.59l7.78-7.78 2.81-2.81c.8-.78.8-2.07 0-2.86zM5.41 20L4 18.59l7.72-7.72 1.47 1.35L5.41 20z\"/>\n",
              "  </svg>\n",
              "      </button>\n",
              "      \n",
              "  <style>\n",
              "    .colab-df-container {\n",
              "      display:flex;\n",
              "      flex-wrap:wrap;\n",
              "      gap: 12px;\n",
              "    }\n",
              "\n",
              "    .colab-df-convert {\n",
              "      background-color: #E8F0FE;\n",
              "      border: none;\n",
              "      border-radius: 50%;\n",
              "      cursor: pointer;\n",
              "      display: none;\n",
              "      fill: #1967D2;\n",
              "      height: 32px;\n",
              "      padding: 0 0 0 0;\n",
              "      width: 32px;\n",
              "    }\n",
              "\n",
              "    .colab-df-convert:hover {\n",
              "      background-color: #E2EBFA;\n",
              "      box-shadow: 0px 1px 2px rgba(60, 64, 67, 0.3), 0px 1px 3px 1px rgba(60, 64, 67, 0.15);\n",
              "      fill: #174EA6;\n",
              "    }\n",
              "\n",
              "    [theme=dark] .colab-df-convert {\n",
              "      background-color: #3B4455;\n",
              "      fill: #D2E3FC;\n",
              "    }\n",
              "\n",
              "    [theme=dark] .colab-df-convert:hover {\n",
              "      background-color: #434B5C;\n",
              "      box-shadow: 0px 1px 3px 1px rgba(0, 0, 0, 0.15);\n",
              "      filter: drop-shadow(0px 1px 2px rgba(0, 0, 0, 0.3));\n",
              "      fill: #FFFFFF;\n",
              "    }\n",
              "  </style>\n",
              "\n",
              "      <script>\n",
              "        const buttonEl =\n",
              "          document.querySelector('#df-50859950-9fe2-456b-baed-a86a05d48072 button.colab-df-convert');\n",
              "        buttonEl.style.display =\n",
              "          google.colab.kernel.accessAllowed ? 'block' : 'none';\n",
              "\n",
              "        async function convertToInteractive(key) {\n",
              "          const element = document.querySelector('#df-50859950-9fe2-456b-baed-a86a05d48072');\n",
              "          const dataTable =\n",
              "            await google.colab.kernel.invokeFunction('convertToInteractive',\n",
              "                                                     [key], {});\n",
              "          if (!dataTable) return;\n",
              "\n",
              "          const docLinkHtml = 'Like what you see? Visit the ' +\n",
              "            '<a target=\"_blank\" href=https://colab.research.google.com/notebooks/data_table.ipynb>data table notebook</a>'\n",
              "            + ' to learn more about interactive tables.';\n",
              "          element.innerHTML = '';\n",
              "          dataTable['output_type'] = 'display_data';\n",
              "          await google.colab.output.renderOutput(dataTable, element);\n",
              "          const docLink = document.createElement('div');\n",
              "          docLink.innerHTML = docLinkHtml;\n",
              "          element.appendChild(docLink);\n",
              "        }\n",
              "      </script>\n",
              "    </div>\n",
              "  </div>\n",
              "  "
            ]
          },
          "metadata": {},
          "execution_count": 286
        }
      ]
    },
    {
      "cell_type": "code",
      "source": [
        "labels = list(importance.index.values)"
      ],
      "metadata": {
        "id": "Dbik3Eund9hn"
      },
      "execution_count": 287,
      "outputs": []
    },
    {
      "cell_type": "code",
      "source": [
        "x = np.arange(len(labels))  # the label locations\n",
        "width = 0.35  # the width of the bars\n",
        "\n",
        "fig, ax = plt.subplots()\n",
        "rects1 = ax.bar(x - width/2, importance[0], width, label='Decision Tree')\n",
        "rects2 = ax.bar(x + width/2, importance[1], width, label='Random Forest')\n",
        "\n",
        "# Add some text for labels, title and custom x-axis tick labels, etc.\n",
        "#ax.set_ylabel('Scores')\n",
        "#ax.set_title('Scores by group and gender')\n",
        "#ax.set_xticks(x, labels)\n",
        "#ax.legend()\n",
        "\n",
        "plt.xticks(x, labels)\n",
        "plt.xticks(rotation = 90)\n",
        "plt.xlabel(\"Predictors\")\n",
        "plt.ylabel(\"Mean decrease in impurity\")\n",
        "plt.legend()\n",
        "\n",
        "fig.tight_layout()\n",
        "\n",
        "plt.show()"
      ],
      "metadata": {
        "colab": {
          "base_uri": "https://localhost:8080/",
          "height": 298
        },
        "id": "qJeZwbzuXiSW",
        "outputId": "a647f9b2-0dcb-410f-b1de-bde4e6d9dcbe"
      },
      "execution_count": 288,
      "outputs": [
        {
          "output_type": "display_data",
          "data": {
            "text/plain": [
              "<Figure size 432x288 with 1 Axes>"
            ],
            "image/png": "[encoded data removed]"
          },
          "metadata": {
            "needs_background": "light"
          }
        }
      ]
    },
    {
      "cell_type": "markdown",
      "source": [
        "Confusion Matrix"
      ],
      "metadata": {
        "id": "z6gp06R3kqX8"
      }
    },
    {
      "cell_type": "code",
      "execution_count": 289,
      "metadata": {
        "id": "0sCKQf0upr8W"
      },
      "outputs": [],
      "source": [
        "from sklearn.metrics import confusion_matrix\n",
        "cm = confusion_matrix(y_test, y_pred_test_RFC_2)"
      ]
    },
    {
      "cell_type": "code",
      "execution_count": 290,
      "metadata": {
        "colab": {
          "base_uri": "https://localhost:8080/",
          "height": 283
        },
        "id": "2sqN5mfaqVts",
        "outputId": "8502e701-fefb-4037-818e-42e57fbd9c85"
      },
      "outputs": [
        {
          "output_type": "execute_result",
          "data": {
            "text/plain": [
              "<matplotlib.axes._subplots.AxesSubplot at 0x7fe82dca2dc0>"
            ]
          },
          "metadata": {},
          "execution_count": 290
        },
        {
          "output_type": "display_data",
          "data": {
            "text/plain": [
              "<Figure size 432x288 with 2 Axes>"
            ],
            "image/png": "[encoded data removed]"
          },
          "metadata": {
            "needs_background": "light"
          }
        }
      ],
      "source": [
        "sns.heatmap(cm, annot=True)"
      ]
    },
    {
      "cell_type": "code",
      "source": [
        "cm_valid = confusion_matrix(y_valid, y_pred_valid_RFC_2)\n",
        "sns.heatmap(cm_valid, annot=True)"
      ],
      "metadata": {
        "colab": {
          "base_uri": "https://localhost:8080/",
          "height": 283
        },
        "id": "-CfCSvFglB6X",
        "outputId": "aa47b7c0-e05d-43b7-cd5a-c46c581d1aa1"
      },
      "execution_count": 291,
      "outputs": [
        {
          "output_type": "execute_result",
          "data": {
            "text/plain": [
              "<matplotlib.axes._subplots.AxesSubplot at 0x7fe82db1e100>"
            ]
          },
          "metadata": {},
          "execution_count": 291
        },
        {
          "output_type": "display_data",
          "data": {
            "text/plain": [
              "<Figure size 432x288 with 2 Axes>"
            ],
            "image/png": "[encoded data removed]"
          },
          "metadata": {
            "needs_background": "light"
          }
        }
      ]
    },
    {
      "cell_type": "code",
      "source": [
        "cm_train = confusion_matrix(y_train, y_pred_train_RFC_2)\n",
        "sns.heatmap(cm_train, annot=True)"
      ],
      "metadata": {
        "colab": {
          "base_uri": "https://localhost:8080/",
          "height": 283
        },
        "id": "ZK4k8slnlM1y",
        "outputId": "cc4d7728-d5c2-49fd-bf58-666df41ee82d"
      },
      "execution_count": 292,
      "outputs": [
        {
          "output_type": "execute_result",
          "data": {
            "text/plain": [
              "<matplotlib.axes._subplots.AxesSubplot at 0x7fe82dc794f0>"
            ]
          },
          "metadata": {},
          "execution_count": 292
        },
        {
          "output_type": "display_data",
          "data": {
            "text/plain": [
              "<Figure size 432x288 with 2 Axes>"
            ],
            "image/png": "[encoded data removed]"
          },
          "metadata": {
            "needs_background": "light"
          }
        }
      ]
    }
  ],
  "metadata": {
    "colab": {
      "provenance": [],
      "authorship_tag": "ABX9TyMUjPLS6WBxcToaFqt4/DJ6",
      "include_colab_link": true
    },
    "kernelspec": {
      "display_name": "Python 3",
      "name": "python3"
    },
    "language_info": {
      "name": "python"
    }
  },
  "nbformat": 4,
  "nbformat_minor": 0
}