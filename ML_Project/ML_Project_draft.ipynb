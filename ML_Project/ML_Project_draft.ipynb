{
  "nbformat": 4,
  "nbformat_minor": 0,
  "metadata": {
    "colab": {
      "provenance": [],
      "authorship_tag": "ABX9TyNBY9E8ahTu/6JnYeK2d2uR",
      "include_colab_link": true
    },
    "kernelspec": {
      "name": "python3",
      "display_name": "Python 3"
    },
    "language_info": {
      "name": "python"
    }
  },
  "cells": [
    {
      "cell_type": "markdown",
      "metadata": {
        "id": "view-in-github",
        "colab_type": "text"
      },
      "source": [
        "<a href=\"https://colab.research.google.com/github/MargauxHofmann/2022_ML_EES/blob/main/ML_Project/ML_Project_draft.ipynb\" target=\"_parent\"><img src=\"https://colab.research.google.com/assets/colab-badge.svg\" alt=\"Open In Colab\"/></a>"
      ]
    },
    {
      "cell_type": "markdown",
      "source": [
        "# Machine Learning Project - World Glacier Monitoring"
      ],
      "metadata": {
        "id": "qFyN1uonDWtk"
      }
    },
    {
      "cell_type": "markdown",
      "source": [
        "Import librairy"
      ],
      "metadata": {
        "id": "-zN92W8xDmnV"
      }
    },
    {
      "cell_type": "code",
      "execution_count": 2,
      "metadata": {
        "id": "SxG6H4arSwEv"
      },
      "outputs": [],
      "source": [
        "import csv\n",
        "import pandas as pd\n",
        "import io\n",
        "import numpy as np\n",
        "import matplotlib.pyplot as plt\n",
        "import seaborn as sns"
      ]
    },
    {
      "cell_type": "code",
      "source": [],
      "metadata": {
        "id": "mQeQIigWxQU4"
      },
      "execution_count": null,
      "outputs": []
    },
    {
      "cell_type": "markdown",
      "source": [
        "Download the file into Google Colab"
      ],
      "metadata": {
        "id": "-r2Nd9vFDveJ"
      }
    },
    {
      "cell_type": "code",
      "source": [
        "from google.colab import files\n",
        "uploaded = files.upload()"
      ],
      "metadata": {
        "colab": {
          "base_uri": "https://localhost:8080/",
          "height": 74
        },
        "id": "7fMiDXlxCkBR",
        "outputId": "776bbfff-a963-4f81-bd25-7879ae1c1f6b"
      },
      "execution_count": 3,
      "outputs": [
        {
          "output_type": "display_data",
          "data": {
            "text/plain": [
              "<IPython.core.display.HTML object>"
            ],
            "text/html": [
              "\n",
              "     <input type=\"file\" id=\"files-e722215c-11b3-419c-aa1c-2979c73e75da\" name=\"files[]\" multiple disabled\n",
              "        style=\"border:none\" />\n",
              "     <output id=\"result-e722215c-11b3-419c-aa1c-2979c73e75da\">\n",
              "      Upload widget is only available when the cell has been executed in the\n",
              "      current browser session. Please rerun this cell to enable.\n",
              "      </output>\n",
              "      <script>// Copyright 2017 Google LLC\n",
              "//\n",
              "// Licensed under the Apache License, Version 2.0 (the \"License\");\n",
              "// you may not use this file except in compliance with the License.\n",
              "// You may obtain a copy of the License at\n",
              "//\n",
              "//      http://www.apache.org/licenses/LICENSE-2.0\n",
              "//\n",
              "// Unless required by applicable law or agreed to in writing, software\n",
              "// distributed under the License is distributed on an \"AS IS\" BASIS,\n",
              "// WITHOUT WARRANTIES OR CONDITIONS OF ANY KIND, either express or implied.\n",
              "// See the License for the specific language governing permissions and\n",
              "// limitations under the License.\n",
              "\n",
              "/**\n",
              " * @fileoverview Helpers for google.colab Python module.\n",
              " */\n",
              "(function(scope) {\n",
              "function span(text, styleAttributes = {}) {\n",
              "  const element = document.createElement('span');\n",
              "  element.textContent = text;\n",
              "  for (const key of Object.keys(styleAttributes)) {\n",
              "    element.style[key] = styleAttributes[key];\n",
              "  }\n",
              "  return element;\n",
              "}\n",
              "\n",
              "// Max number of bytes which will be uploaded at a time.\n",
              "const MAX_PAYLOAD_SIZE = 100 * 1024;\n",
              "\n",
              "function _uploadFiles(inputId, outputId) {\n",
              "  const steps = uploadFilesStep(inputId, outputId);\n",
              "  const outputElement = document.getElementById(outputId);\n",
              "  // Cache steps on the outputElement to make it available for the next call\n",
              "  // to uploadFilesContinue from Python.\n",
              "  outputElement.steps = steps;\n",
              "\n",
              "  return _uploadFilesContinue(outputId);\n",
              "}\n",
              "\n",
              "// This is roughly an async generator (not supported in the browser yet),\n",
              "// where there are multiple asynchronous steps and the Python side is going\n",
              "// to poll for completion of each step.\n",
              "// This uses a Promise to block the python side on completion of each step,\n",
              "// then passes the result of the previous step as the input to the next step.\n",
              "function _uploadFilesContinue(outputId) {\n",
              "  const outputElement = document.getElementById(outputId);\n",
              "  const steps = outputElement.steps;\n",
              "\n",
              "  const next = steps.next(outputElement.lastPromiseValue);\n",
              "  return Promise.resolve(next.value.promise).then((value) => {\n",
              "    // Cache the last promise value to make it available to the next\n",
              "    // step of the generator.\n",
              "    outputElement.lastPromiseValue = value;\n",
              "    return next.value.response;\n",
              "  });\n",
              "}\n",
              "\n",
              "/**\n",
              " * Generator function which is called between each async step of the upload\n",
              " * process.\n",
              " * @param {string} inputId Element ID of the input file picker element.\n",
              " * @param {string} outputId Element ID of the output display.\n",
              " * @return {!Iterable<!Object>} Iterable of next steps.\n",
              " */\n",
              "function* uploadFilesStep(inputId, outputId) {\n",
              "  const inputElement = document.getElementById(inputId);\n",
              "  inputElement.disabled = false;\n",
              "\n",
              "  const outputElement = document.getElementById(outputId);\n",
              "  outputElement.innerHTML = '';\n",
              "\n",
              "  const pickedPromise = new Promise((resolve) => {\n",
              "    inputElement.addEventListener('change', (e) => {\n",
              "      resolve(e.target.files);\n",
              "    });\n",
              "  });\n",
              "\n",
              "  const cancel = document.createElement('button');\n",
              "  inputElement.parentElement.appendChild(cancel);\n",
              "  cancel.textContent = 'Cancel upload';\n",
              "  const cancelPromise = new Promise((resolve) => {\n",
              "    cancel.onclick = () => {\n",
              "      resolve(null);\n",
              "    };\n",
              "  });\n",
              "\n",
              "  // Wait for the user to pick the files.\n",
              "  const files = yield {\n",
              "    promise: Promise.race([pickedPromise, cancelPromise]),\n",
              "    response: {\n",
              "      action: 'starting',\n",
              "    }\n",
              "  };\n",
              "\n",
              "  cancel.remove();\n",
              "\n",
              "  // Disable the input element since further picks are not allowed.\n",
              "  inputElement.disabled = true;\n",
              "\n",
              "  if (!files) {\n",
              "    return {\n",
              "      response: {\n",
              "        action: 'complete',\n",
              "      }\n",
              "    };\n",
              "  }\n",
              "\n",
              "  for (const file of files) {\n",
              "    const li = document.createElement('li');\n",
              "    li.append(span(file.name, {fontWeight: 'bold'}));\n",
              "    li.append(span(\n",
              "        `(${file.type || 'n/a'}) - ${file.size} bytes, ` +\n",
              "        `last modified: ${\n",
              "            file.lastModifiedDate ? file.lastModifiedDate.toLocaleDateString() :\n",
              "                                    'n/a'} - `));\n",
              "    const percent = span('0% done');\n",
              "    li.appendChild(percent);\n",
              "\n",
              "    outputElement.appendChild(li);\n",
              "\n",
              "    const fileDataPromise = new Promise((resolve) => {\n",
              "      const reader = new FileReader();\n",
              "      reader.onload = (e) => {\n",
              "        resolve(e.target.result);\n",
              "      };\n",
              "      reader.readAsArrayBuffer(file);\n",
              "    });\n",
              "    // Wait for the data to be ready.\n",
              "    let fileData = yield {\n",
              "      promise: fileDataPromise,\n",
              "      response: {\n",
              "        action: 'continue',\n",
              "      }\n",
              "    };\n",
              "\n",
              "    // Use a chunked sending to avoid message size limits. See b/62115660.\n",
              "    let position = 0;\n",
              "    do {\n",
              "      const length = Math.min(fileData.byteLength - position, MAX_PAYLOAD_SIZE);\n",
              "      const chunk = new Uint8Array(fileData, position, length);\n",
              "      position += length;\n",
              "\n",
              "      const base64 = btoa(String.fromCharCode.apply(null, chunk));\n",
              "      yield {\n",
              "        response: {\n",
              "          action: 'append',\n",
              "          file: file.name,\n",
              "          data: base64,\n",
              "        },\n",
              "      };\n",
              "\n",
              "      let percentDone = fileData.byteLength === 0 ?\n",
              "          100 :\n",
              "          Math.round((position / fileData.byteLength) * 100);\n",
              "      percent.textContent = `${percentDone}% done`;\n",
              "\n",
              "    } while (position < fileData.byteLength);\n",
              "  }\n",
              "\n",
              "  // All done.\n",
              "  yield {\n",
              "    response: {\n",
              "      action: 'complete',\n",
              "    }\n",
              "  };\n",
              "}\n",
              "\n",
              "scope.google = scope.google || {};\n",
              "scope.google.colab = scope.google.colab || {};\n",
              "scope.google.colab._files = {\n",
              "  _uploadFiles,\n",
              "  _uploadFilesContinue,\n",
              "};\n",
              "})(self);\n",
              "</script> "
            ]
          },
          "metadata": {}
        },
        {
          "output_type": "stream",
          "name": "stdout",
          "text": [
            "Saving database.csv to database.csv\n"
          ]
        }
      ]
    },
    {
      "cell_type": "code",
      "source": [
        "df = pd.read_csv(\"database.csv\")\n",
        "df"
      ],
      "metadata": {
        "colab": {
          "base_uri": "https://localhost:8080/",
          "height": 592
        },
        "id": "jzHk9UCJDVjp",
        "outputId": "efff1829-b831-48ef-9fdd-11a0851ffa06"
      },
      "execution_count": 4,
      "outputs": [
        {
          "output_type": "stream",
          "name": "stderr",
          "text": [
            "/usr/local/lib/python3.8/dist-packages/IPython/core/interactiveshell.py:3326: DtypeWarning: Columns (5) have mixed types.Specify dtype option on import or set low_memory=False.\n",
            "  exec(code_obj, self.user_global_ns, self.user_ns)\n"
          ]
        },
        {
          "output_type": "execute_result",
          "data": {
            "text/plain": [
              "          Glacier ID Political Unit Continent Basin Code Location Code  \\\n",
              "0       AF5Q112B0001    AFGHANISTAN      ASIA       Q112            B0   \n",
              "1       AF5Q112B0002    AFGHANISTAN      ASIA       Q112            B0   \n",
              "2       AF5Q112B0003    AFGHANISTAN      ASIA       Q112            B0   \n",
              "3       AF5Q112B0004    AFGHANISTAN      ASIA       Q112            B0   \n",
              "4       AF5Q112B0005    AFGHANISTAN      ASIA       Q112            B0   \n",
              "...              ...            ...       ...        ...           ...   \n",
              "132885  ZR3B410A1002          ZAIRE    AFRICA       B410            A1   \n",
              "132886  ZR3B410A1003          ZAIRE    AFRICA       B410            A1   \n",
              "132887  ZR3B410A2002          ZAIRE    AFRICA       B410            A2   \n",
              "132888  ZR3B410A3001          ZAIRE    AFRICA       B410            A3   \n",
              "132889  ZR3B410A4009          ZAIRE    AFRICA       B410            A4   \n",
              "\n",
              "       Glacier Code     Glacier Name  Latitude  Longitude  Primary Class  ...  \\\n",
              "0                 1              NaN    34.672     68.874            9.0  ...   \n",
              "1                 2              NaN    34.676     68.855            9.0  ...   \n",
              "2                 3              NaN    34.689     68.854            9.0  ...   \n",
              "3                 4              NaN    34.707     68.857            9.0  ...   \n",
              "4                 5              NaN    34.719     68.852            9.0  ...   \n",
              "...             ...              ...       ...        ...            ...  ...   \n",
              "132885            2        KRAEPELIN     0.438     29.899            6.0  ...   \n",
              "132886            3  NORTH-KRAEPELIN     0.440     29.898            6.0  ...   \n",
              "132887            2           ALBERT     0.389     29.871            6.0  ...   \n",
              "132888            1        ALEXANDRA     0.389     29.868            6.0  ...   \n",
              "132889            9     WEST STANLEY     0.383     29.869            6.0  ...   \n",
              "\n",
              "        Maximum Length  Maximum Length Exposed  Maximum Length Ablation  \\\n",
              "0                  1.9                     NaN                      NaN   \n",
              "1                  0.8                     NaN                      NaN   \n",
              "2                  1.5                     NaN                      NaN   \n",
              "3                  1.5                     NaN                      NaN   \n",
              "4                  2.0                     NaN                      NaN   \n",
              "...                ...                     ...                      ...   \n",
              "132885             0.1                     NaN                      NaN   \n",
              "132886             0.1                     NaN                      NaN   \n",
              "132887             0.1                     NaN                      NaN   \n",
              "132888             0.8                     NaN                      NaN   \n",
              "132889             0.7                     NaN                      NaN   \n",
              "\n",
              "        Mean Depth  Depth Accuracy  Accumulation Orientation  \\\n",
              "0              NaN             NaN                        NE   \n",
              "1              NaN             NaN                        NW   \n",
              "2              NaN             NaN                        NW   \n",
              "3              NaN             NaN                        NE   \n",
              "4              NaN             NaN                       NaN   \n",
              "...            ...             ...                       ...   \n",
              "132885         NaN             NaN                       NaN   \n",
              "132886         NaN             NaN                        NW   \n",
              "132887         NaN             NaN                       NaN   \n",
              "132888         NaN             NaN                         W   \n",
              "132889         NaN             NaN                         W   \n",
              "\n",
              "        Ablation Orientation  Topographic Map Year  Topographic Map Scale  \\\n",
              "0                         NE                1959.0               100000.0   \n",
              "1                         NW                1959.0               100000.0   \n",
              "2                         NW                1959.0               100000.0   \n",
              "3                         NE                1959.0               100000.0   \n",
              "4                        NaN                1959.0               100000.0   \n",
              "...                      ...                   ...                    ...   \n",
              "132885                   NaN                1968.0                25000.0   \n",
              "132886                    NW                1968.0                25000.0   \n",
              "132887                   NaN                1968.0                25000.0   \n",
              "132888                    SW                1968.0                25000.0   \n",
              "132889                     W                1968.0                25000.0   \n",
              "\n",
              "        Photograph Year  \n",
              "0                   NaN  \n",
              "1                   NaN  \n",
              "2                   NaN  \n",
              "3                   NaN  \n",
              "4                   NaN  \n",
              "...                 ...  \n",
              "132885              NaN  \n",
              "132886              NaN  \n",
              "132887              NaN  \n",
              "132888              NaN  \n",
              "132889              NaN  \n",
              "\n",
              "[132890 rows x 39 columns]"
            ],
            "text/html": [
              "\n",
              "  <div id=\"df-dbb6a435-cf08-47eb-b10a-de84a7554a33\">\n",
              "    <div class=\"colab-df-container\">\n",
              "      <div>\n",
              "<style scoped>\n",
              "    .dataframe tbody tr th:only-of-type {\n",
              "        vertical-align: middle;\n",
              "    }\n",
              "\n",
              "    .dataframe tbody tr th {\n",
              "        vertical-align: top;\n",
              "    }\n",
              "\n",
              "    .dataframe thead th {\n",
              "        text-align: right;\n",
              "    }\n",
              "</style>\n",
              "<table border=\"1\" class=\"dataframe\">\n",
              "  <thead>\n",
              "    <tr style=\"text-align: right;\">\n",
              "      <th></th>\n",
              "      <th>Glacier ID</th>\n",
              "      <th>Political Unit</th>\n",
              "      <th>Continent</th>\n",
              "      <th>Basin Code</th>\n",
              "      <th>Location Code</th>\n",
              "      <th>Glacier Code</th>\n",
              "      <th>Glacier Name</th>\n",
              "      <th>Latitude</th>\n",
              "      <th>Longitude</th>\n",
              "      <th>Primary Class</th>\n",
              "      <th>...</th>\n",
              "      <th>Maximum Length</th>\n",
              "      <th>Maximum Length Exposed</th>\n",
              "      <th>Maximum Length Ablation</th>\n",
              "      <th>Mean Depth</th>\n",
              "      <th>Depth Accuracy</th>\n",
              "      <th>Accumulation Orientation</th>\n",
              "      <th>Ablation Orientation</th>\n",
              "      <th>Topographic Map Year</th>\n",
              "      <th>Topographic Map Scale</th>\n",
              "      <th>Photograph Year</th>\n",
              "    </tr>\n",
              "  </thead>\n",
              "  <tbody>\n",
              "    <tr>\n",
              "      <th>0</th>\n",
              "      <td>AF5Q112B0001</td>\n",
              "      <td>AFGHANISTAN</td>\n",
              "      <td>ASIA</td>\n",
              "      <td>Q112</td>\n",
              "      <td>B0</td>\n",
              "      <td>1</td>\n",
              "      <td>NaN</td>\n",
              "      <td>34.672</td>\n",
              "      <td>68.874</td>\n",
              "      <td>9.0</td>\n",
              "      <td>...</td>\n",
              "      <td>1.9</td>\n",
              "      <td>NaN</td>\n",
              "      <td>NaN</td>\n",
              "      <td>NaN</td>\n",
              "      <td>NaN</td>\n",
              "      <td>NE</td>\n",
              "      <td>NE</td>\n",
              "      <td>1959.0</td>\n",
              "      <td>100000.0</td>\n",
              "      <td>NaN</td>\n",
              "    </tr>\n",
              "    <tr>\n",
              "      <th>1</th>\n",
              "      <td>AF5Q112B0002</td>\n",
              "      <td>AFGHANISTAN</td>\n",
              "      <td>ASIA</td>\n",
              "      <td>Q112</td>\n",
              "      <td>B0</td>\n",
              "      <td>2</td>\n",
              "      <td>NaN</td>\n",
              "      <td>34.676</td>\n",
              "      <td>68.855</td>\n",
              "      <td>9.0</td>\n",
              "      <td>...</td>\n",
              "      <td>0.8</td>\n",
              "      <td>NaN</td>\n",
              "      <td>NaN</td>\n",
              "      <td>NaN</td>\n",
              "      <td>NaN</td>\n",
              "      <td>NW</td>\n",
              "      <td>NW</td>\n",
              "      <td>1959.0</td>\n",
              "      <td>100000.0</td>\n",
              "      <td>NaN</td>\n",
              "    </tr>\n",
              "    <tr>\n",
              "      <th>2</th>\n",
              "      <td>AF5Q112B0003</td>\n",
              "      <td>AFGHANISTAN</td>\n",
              "      <td>ASIA</td>\n",
              "      <td>Q112</td>\n",
              "      <td>B0</td>\n",
              "      <td>3</td>\n",
              "      <td>NaN</td>\n",
              "      <td>34.689</td>\n",
              "      <td>68.854</td>\n",
              "      <td>9.0</td>\n",
              "      <td>...</td>\n",
              "      <td>1.5</td>\n",
              "      <td>NaN</td>\n",
              "      <td>NaN</td>\n",
              "      <td>NaN</td>\n",
              "      <td>NaN</td>\n",
              "      <td>NW</td>\n",
              "      <td>NW</td>\n",
              "      <td>1959.0</td>\n",
              "      <td>100000.0</td>\n",
              "      <td>NaN</td>\n",
              "    </tr>\n",
              "    <tr>\n",
              "      <th>3</th>\n",
              "      <td>AF5Q112B0004</td>\n",
              "      <td>AFGHANISTAN</td>\n",
              "      <td>ASIA</td>\n",
              "      <td>Q112</td>\n",
              "      <td>B0</td>\n",
              "      <td>4</td>\n",
              "      <td>NaN</td>\n",
              "      <td>34.707</td>\n",
              "      <td>68.857</td>\n",
              "      <td>9.0</td>\n",
              "      <td>...</td>\n",
              "      <td>1.5</td>\n",
              "      <td>NaN</td>\n",
              "      <td>NaN</td>\n",
              "      <td>NaN</td>\n",
              "      <td>NaN</td>\n",
              "      <td>NE</td>\n",
              "      <td>NE</td>\n",
              "      <td>1959.0</td>\n",
              "      <td>100000.0</td>\n",
              "      <td>NaN</td>\n",
              "    </tr>\n",
              "    <tr>\n",
              "      <th>4</th>\n",
              "      <td>AF5Q112B0005</td>\n",
              "      <td>AFGHANISTAN</td>\n",
              "      <td>ASIA</td>\n",
              "      <td>Q112</td>\n",
              "      <td>B0</td>\n",
              "      <td>5</td>\n",
              "      <td>NaN</td>\n",
              "      <td>34.719</td>\n",
              "      <td>68.852</td>\n",
              "      <td>9.0</td>\n",
              "      <td>...</td>\n",
              "      <td>2.0</td>\n",
              "      <td>NaN</td>\n",
              "      <td>NaN</td>\n",
              "      <td>NaN</td>\n",
              "      <td>NaN</td>\n",
              "      <td>NaN</td>\n",
              "      <td>NaN</td>\n",
              "      <td>1959.0</td>\n",
              "      <td>100000.0</td>\n",
              "      <td>NaN</td>\n",
              "    </tr>\n",
              "    <tr>\n",
              "      <th>...</th>\n",
              "      <td>...</td>\n",
              "      <td>...</td>\n",
              "      <td>...</td>\n",
              "      <td>...</td>\n",
              "      <td>...</td>\n",
              "      <td>...</td>\n",
              "      <td>...</td>\n",
              "      <td>...</td>\n",
              "      <td>...</td>\n",
              "      <td>...</td>\n",
              "      <td>...</td>\n",
              "      <td>...</td>\n",
              "      <td>...</td>\n",
              "      <td>...</td>\n",
              "      <td>...</td>\n",
              "      <td>...</td>\n",
              "      <td>...</td>\n",
              "      <td>...</td>\n",
              "      <td>...</td>\n",
              "      <td>...</td>\n",
              "      <td>...</td>\n",
              "    </tr>\n",
              "    <tr>\n",
              "      <th>132885</th>\n",
              "      <td>ZR3B410A1002</td>\n",
              "      <td>ZAIRE</td>\n",
              "      <td>AFRICA</td>\n",
              "      <td>B410</td>\n",
              "      <td>A1</td>\n",
              "      <td>2</td>\n",
              "      <td>KRAEPELIN</td>\n",
              "      <td>0.438</td>\n",
              "      <td>29.899</td>\n",
              "      <td>6.0</td>\n",
              "      <td>...</td>\n",
              "      <td>0.1</td>\n",
              "      <td>NaN</td>\n",
              "      <td>NaN</td>\n",
              "      <td>NaN</td>\n",
              "      <td>NaN</td>\n",
              "      <td>NaN</td>\n",
              "      <td>NaN</td>\n",
              "      <td>1968.0</td>\n",
              "      <td>25000.0</td>\n",
              "      <td>NaN</td>\n",
              "    </tr>\n",
              "    <tr>\n",
              "      <th>132886</th>\n",
              "      <td>ZR3B410A1003</td>\n",
              "      <td>ZAIRE</td>\n",
              "      <td>AFRICA</td>\n",
              "      <td>B410</td>\n",
              "      <td>A1</td>\n",
              "      <td>3</td>\n",
              "      <td>NORTH-KRAEPELIN</td>\n",
              "      <td>0.440</td>\n",
              "      <td>29.898</td>\n",
              "      <td>6.0</td>\n",
              "      <td>...</td>\n",
              "      <td>0.1</td>\n",
              "      <td>NaN</td>\n",
              "      <td>NaN</td>\n",
              "      <td>NaN</td>\n",
              "      <td>NaN</td>\n",
              "      <td>NW</td>\n",
              "      <td>NW</td>\n",
              "      <td>1968.0</td>\n",
              "      <td>25000.0</td>\n",
              "      <td>NaN</td>\n",
              "    </tr>\n",
              "    <tr>\n",
              "      <th>132887</th>\n",
              "      <td>ZR3B410A2002</td>\n",
              "      <td>ZAIRE</td>\n",
              "      <td>AFRICA</td>\n",
              "      <td>B410</td>\n",
              "      <td>A2</td>\n",
              "      <td>2</td>\n",
              "      <td>ALBERT</td>\n",
              "      <td>0.389</td>\n",
              "      <td>29.871</td>\n",
              "      <td>6.0</td>\n",
              "      <td>...</td>\n",
              "      <td>0.1</td>\n",
              "      <td>NaN</td>\n",
              "      <td>NaN</td>\n",
              "      <td>NaN</td>\n",
              "      <td>NaN</td>\n",
              "      <td>NaN</td>\n",
              "      <td>NaN</td>\n",
              "      <td>1968.0</td>\n",
              "      <td>25000.0</td>\n",
              "      <td>NaN</td>\n",
              "    </tr>\n",
              "    <tr>\n",
              "      <th>132888</th>\n",
              "      <td>ZR3B410A3001</td>\n",
              "      <td>ZAIRE</td>\n",
              "      <td>AFRICA</td>\n",
              "      <td>B410</td>\n",
              "      <td>A3</td>\n",
              "      <td>1</td>\n",
              "      <td>ALEXANDRA</td>\n",
              "      <td>0.389</td>\n",
              "      <td>29.868</td>\n",
              "      <td>6.0</td>\n",
              "      <td>...</td>\n",
              "      <td>0.8</td>\n",
              "      <td>NaN</td>\n",
              "      <td>NaN</td>\n",
              "      <td>NaN</td>\n",
              "      <td>NaN</td>\n",
              "      <td>W</td>\n",
              "      <td>SW</td>\n",
              "      <td>1968.0</td>\n",
              "      <td>25000.0</td>\n",
              "      <td>NaN</td>\n",
              "    </tr>\n",
              "    <tr>\n",
              "      <th>132889</th>\n",
              "      <td>ZR3B410A4009</td>\n",
              "      <td>ZAIRE</td>\n",
              "      <td>AFRICA</td>\n",
              "      <td>B410</td>\n",
              "      <td>A4</td>\n",
              "      <td>9</td>\n",
              "      <td>WEST STANLEY</td>\n",
              "      <td>0.383</td>\n",
              "      <td>29.869</td>\n",
              "      <td>6.0</td>\n",
              "      <td>...</td>\n",
              "      <td>0.7</td>\n",
              "      <td>NaN</td>\n",
              "      <td>NaN</td>\n",
              "      <td>NaN</td>\n",
              "      <td>NaN</td>\n",
              "      <td>W</td>\n",
              "      <td>W</td>\n",
              "      <td>1968.0</td>\n",
              "      <td>25000.0</td>\n",
              "      <td>NaN</td>\n",
              "    </tr>\n",
              "  </tbody>\n",
              "</table>\n",
              "<p>132890 rows × 39 columns</p>\n",
              "</div>\n",
              "      <button class=\"colab-df-convert\" onclick=\"convertToInteractive('df-dbb6a435-cf08-47eb-b10a-de84a7554a33')\"\n",
              "              title=\"Convert this dataframe to an interactive table.\"\n",
              "              style=\"display:none;\">\n",
              "        \n",
              "  <svg xmlns=\"http://www.w3.org/2000/svg\" height=\"24px\"viewBox=\"0 0 24 24\"\n",
              "       width=\"24px\">\n",
              "    <path d=\"M0 0h24v24H0V0z\" fill=\"none\"/>\n",
              "    <path d=\"M18.56 5.44l.94 2.06.94-2.06 2.06-.94-2.06-.94-.94-2.06-.94 2.06-2.06.94zm-11 1L8.5 8.5l.94-2.06 2.06-.94-2.06-.94L8.5 2.5l-.94 2.06-2.06.94zm10 10l.94 2.06.94-2.06 2.06-.94-2.06-.94-.94-2.06-.94 2.06-2.06.94z\"/><path d=\"M17.41 7.96l-1.37-1.37c-.4-.4-.92-.59-1.43-.59-.52 0-1.04.2-1.43.59L10.3 9.45l-7.72 7.72c-.78.78-.78 2.05 0 2.83L4 21.41c.39.39.9.59 1.41.59.51 0 1.02-.2 1.41-.59l7.78-7.78 2.81-2.81c.8-.78.8-2.07 0-2.86zM5.41 20L4 18.59l7.72-7.72 1.47 1.35L5.41 20z\"/>\n",
              "  </svg>\n",
              "      </button>\n",
              "      \n",
              "  <style>\n",
              "    .colab-df-container {\n",
              "      display:flex;\n",
              "      flex-wrap:wrap;\n",
              "      gap: 12px;\n",
              "    }\n",
              "\n",
              "    .colab-df-convert {\n",
              "      background-color: #E8F0FE;\n",
              "      border: none;\n",
              "      border-radius: 50%;\n",
              "      cursor: pointer;\n",
              "      display: none;\n",
              "      fill: #1967D2;\n",
              "      height: 32px;\n",
              "      padding: 0 0 0 0;\n",
              "      width: 32px;\n",
              "    }\n",
              "\n",
              "    .colab-df-convert:hover {\n",
              "      background-color: #E2EBFA;\n",
              "      box-shadow: 0px 1px 2px rgba(60, 64, 67, 0.3), 0px 1px 3px 1px rgba(60, 64, 67, 0.15);\n",
              "      fill: #174EA6;\n",
              "    }\n",
              "\n",
              "    [theme=dark] .colab-df-convert {\n",
              "      background-color: #3B4455;\n",
              "      fill: #D2E3FC;\n",
              "    }\n",
              "\n",
              "    [theme=dark] .colab-df-convert:hover {\n",
              "      background-color: #434B5C;\n",
              "      box-shadow: 0px 1px 3px 1px rgba(0, 0, 0, 0.15);\n",
              "      filter: drop-shadow(0px 1px 2px rgba(0, 0, 0, 0.3));\n",
              "      fill: #FFFFFF;\n",
              "    }\n",
              "  </style>\n",
              "\n",
              "      <script>\n",
              "        const buttonEl =\n",
              "          document.querySelector('#df-dbb6a435-cf08-47eb-b10a-de84a7554a33 button.colab-df-convert');\n",
              "        buttonEl.style.display =\n",
              "          google.colab.kernel.accessAllowed ? 'block' : 'none';\n",
              "\n",
              "        async function convertToInteractive(key) {\n",
              "          const element = document.querySelector('#df-dbb6a435-cf08-47eb-b10a-de84a7554a33');\n",
              "          const dataTable =\n",
              "            await google.colab.kernel.invokeFunction('convertToInteractive',\n",
              "                                                     [key], {});\n",
              "          if (!dataTable) return;\n",
              "\n",
              "          const docLinkHtml = 'Like what you see? Visit the ' +\n",
              "            '<a target=\"_blank\" href=https://colab.research.google.com/notebooks/data_table.ipynb>data table notebook</a>'\n",
              "            + ' to learn more about interactive tables.';\n",
              "          element.innerHTML = '';\n",
              "          dataTable['output_type'] = 'display_data';\n",
              "          await google.colab.output.renderOutput(dataTable, element);\n",
              "          const docLink = document.createElement('div');\n",
              "          docLink.innerHTML = docLinkHtml;\n",
              "          element.appendChild(docLink);\n",
              "        }\n",
              "      </script>\n",
              "    </div>\n",
              "  </div>\n",
              "  "
            ]
          },
          "metadata": {},
          "execution_count": 4
        }
      ]
    },
    {
      "cell_type": "markdown",
      "source": [
        "Go through the data"
      ],
      "metadata": {
        "id": "0k7bjlQ6EMr9"
      }
    },
    {
      "cell_type": "code",
      "source": [
        "df.describe()"
      ],
      "metadata": {
        "colab": {
          "base_uri": "https://localhost:8080/",
          "height": 428
        },
        "id": "alDdV3m8EMMv",
        "outputId": "03a4adde-7060-40a7-f641-b17f49302dbb"
      },
      "execution_count": null,
      "outputs": [
        {
          "output_type": "execute_result",
          "data": {
            "text/plain": [
              "            Latitude      Longitude  Primary Class  Glacier Source  \\\n",
              "count  132890.000000  132890.000000  131406.000000   132746.000000   \n",
              "mean       36.322101      31.902296       5.716231        0.864712   \n",
              "std        27.821062      83.860643       1.768668        0.494326   \n",
              "min       -71.657200    -179.918000       0.000000        0.000000   \n",
              "25%        30.616000     -50.375000       6.000000        1.000000   \n",
              "50%        38.580000      75.484500       6.000000        1.000000   \n",
              "75%        49.223000      85.265750       7.000000        1.000000   \n",
              "max        89.300000     179.680000       9.000000        3.000000   \n",
              "\n",
              "        Basin Count   Glacier Form  Glacier Activity  Activity Start  \\\n",
              "count  15558.000000  131813.000000     132775.000000     4202.000000   \n",
              "mean       1.031752       3.738918          0.620448     1967.112327   \n",
              "std        0.327473       2.255064          1.072336       11.348193   \n",
              "min        1.000000       0.000000          0.000000     1901.000000   \n",
              "25%        1.000000       3.000000          0.000000     1963.000000   \n",
              "50%        1.000000       4.000000          0.000000     1967.000000   \n",
              "75%        1.000000       5.000000          1.000000     1975.000000   \n",
              "max        7.000000       9.000000          8.000000     1996.000000   \n",
              "\n",
              "       Activity End  Minimum Elevation  ...    Mean Width   Mean Length  \\\n",
              "count    143.000000      117162.000000  ...  69966.000000  55258.000000   \n",
              "mean    1986.930070        3502.362063  ...      0.563436      1.392470   \n",
              "std        6.999648        1735.317842  ...      0.643816      2.087975   \n",
              "min     1958.000000           0.000000  ...      0.000000      0.020000   \n",
              "25%     1986.000000        1800.000000  ...      0.300000      0.500000   \n",
              "50%     1986.000000        3840.000000  ...      0.400000      0.800000   \n",
              "75%     1988.000000        5020.000000  ...      0.700000      1.510000   \n",
              "max     2002.000000        8047.000000  ...     29.800000     76.640000   \n",
              "\n",
              "       Maximum Length  Maximum Length Exposed  Maximum Length Ablation  \\\n",
              "count   102593.000000            84621.000000             17051.000000   \n",
              "mean         1.417326                1.328634                 1.621133   \n",
              "std          2.560785                1.984061                 3.286073   \n",
              "min          0.060000                0.000000                 0.000000   \n",
              "25%          0.500000                0.500000                 0.200000   \n",
              "50%          0.800000                0.800000                 0.600000   \n",
              "75%          1.500000                1.500000                 2.000000   \n",
              "max        145.000000              125.000000                64.500000   \n",
              "\n",
              "         Mean Depth  Depth Accuracy  Topographic Map Year  \\\n",
              "count  70071.000000    78685.000000          83697.000000   \n",
              "mean      28.415085        2.262960           1970.529565   \n",
              "std       46.480501        0.999009             10.276403   \n",
              "min        0.000000        1.000000           1901.000000   \n",
              "25%       12.000000        1.000000           1966.000000   \n",
              "50%       20.000000        2.000000           1972.000000   \n",
              "75%       36.000000        3.000000           1978.000000   \n",
              "max     7060.000000        5.000000           1998.000000   \n",
              "\n",
              "       Topographic Map Scale  Photograph Year  \n",
              "count           74586.000000     82464.000000  \n",
              "mean            96838.461508      1974.795899  \n",
              "std             69675.200534        14.107653  \n",
              "min               750.000000      1900.000000  \n",
              "25%             50000.000000      1968.000000  \n",
              "50%             90000.000000      1971.000000  \n",
              "75%            100000.000000      1980.000000  \n",
              "max           1000000.000000      2003.000000  \n",
              "\n",
              "[8 rows x 30 columns]"
            ],
            "text/html": [
              "\n",
              "  <div id=\"df-37748894-0647-428b-933b-1feb777a9f6e\">\n",
              "    <div class=\"colab-df-container\">\n",
              "      <div>\n",
              "<style scoped>\n",
              "    .dataframe tbody tr th:only-of-type {\n",
              "        vertical-align: middle;\n",
              "    }\n",
              "\n",
              "    .dataframe tbody tr th {\n",
              "        vertical-align: top;\n",
              "    }\n",
              "\n",
              "    .dataframe thead th {\n",
              "        text-align: right;\n",
              "    }\n",
              "</style>\n",
              "<table border=\"1\" class=\"dataframe\">\n",
              "  <thead>\n",
              "    <tr style=\"text-align: right;\">\n",
              "      <th></th>\n",
              "      <th>Latitude</th>\n",
              "      <th>Longitude</th>\n",
              "      <th>Primary Class</th>\n",
              "      <th>Glacier Source</th>\n",
              "      <th>Basin Count</th>\n",
              "      <th>Glacier Form</th>\n",
              "      <th>Glacier Activity</th>\n",
              "      <th>Activity Start</th>\n",
              "      <th>Activity End</th>\n",
              "      <th>Minimum Elevation</th>\n",
              "      <th>...</th>\n",
              "      <th>Mean Width</th>\n",
              "      <th>Mean Length</th>\n",
              "      <th>Maximum Length</th>\n",
              "      <th>Maximum Length Exposed</th>\n",
              "      <th>Maximum Length Ablation</th>\n",
              "      <th>Mean Depth</th>\n",
              "      <th>Depth Accuracy</th>\n",
              "      <th>Topographic Map Year</th>\n",
              "      <th>Topographic Map Scale</th>\n",
              "      <th>Photograph Year</th>\n",
              "    </tr>\n",
              "  </thead>\n",
              "  <tbody>\n",
              "    <tr>\n",
              "      <th>count</th>\n",
              "      <td>132890.000000</td>\n",
              "      <td>132890.000000</td>\n",
              "      <td>131406.000000</td>\n",
              "      <td>132746.000000</td>\n",
              "      <td>15558.000000</td>\n",
              "      <td>131813.000000</td>\n",
              "      <td>132775.000000</td>\n",
              "      <td>4202.000000</td>\n",
              "      <td>143.000000</td>\n",
              "      <td>117162.000000</td>\n",
              "      <td>...</td>\n",
              "      <td>69966.000000</td>\n",
              "      <td>55258.000000</td>\n",
              "      <td>102593.000000</td>\n",
              "      <td>84621.000000</td>\n",
              "      <td>17051.000000</td>\n",
              "      <td>70071.000000</td>\n",
              "      <td>78685.000000</td>\n",
              "      <td>83697.000000</td>\n",
              "      <td>74586.000000</td>\n",
              "      <td>82464.000000</td>\n",
              "    </tr>\n",
              "    <tr>\n",
              "      <th>mean</th>\n",
              "      <td>36.322101</td>\n",
              "      <td>31.902296</td>\n",
              "      <td>5.716231</td>\n",
              "      <td>0.864712</td>\n",
              "      <td>1.031752</td>\n",
              "      <td>3.738918</td>\n",
              "      <td>0.620448</td>\n",
              "      <td>1967.112327</td>\n",
              "      <td>1986.930070</td>\n",
              "      <td>3502.362063</td>\n",
              "      <td>...</td>\n",
              "      <td>0.563436</td>\n",
              "      <td>1.392470</td>\n",
              "      <td>1.417326</td>\n",
              "      <td>1.328634</td>\n",
              "      <td>1.621133</td>\n",
              "      <td>28.415085</td>\n",
              "      <td>2.262960</td>\n",
              "      <td>1970.529565</td>\n",
              "      <td>96838.461508</td>\n",
              "      <td>1974.795899</td>\n",
              "    </tr>\n",
              "    <tr>\n",
              "      <th>std</th>\n",
              "      <td>27.821062</td>\n",
              "      <td>83.860643</td>\n",
              "      <td>1.768668</td>\n",
              "      <td>0.494326</td>\n",
              "      <td>0.327473</td>\n",
              "      <td>2.255064</td>\n",
              "      <td>1.072336</td>\n",
              "      <td>11.348193</td>\n",
              "      <td>6.999648</td>\n",
              "      <td>1735.317842</td>\n",
              "      <td>...</td>\n",
              "      <td>0.643816</td>\n",
              "      <td>2.087975</td>\n",
              "      <td>2.560785</td>\n",
              "      <td>1.984061</td>\n",
              "      <td>3.286073</td>\n",
              "      <td>46.480501</td>\n",
              "      <td>0.999009</td>\n",
              "      <td>10.276403</td>\n",
              "      <td>69675.200534</td>\n",
              "      <td>14.107653</td>\n",
              "    </tr>\n",
              "    <tr>\n",
              "      <th>min</th>\n",
              "      <td>-71.657200</td>\n",
              "      <td>-179.918000</td>\n",
              "      <td>0.000000</td>\n",
              "      <td>0.000000</td>\n",
              "      <td>1.000000</td>\n",
              "      <td>0.000000</td>\n",
              "      <td>0.000000</td>\n",
              "      <td>1901.000000</td>\n",
              "      <td>1958.000000</td>\n",
              "      <td>0.000000</td>\n",
              "      <td>...</td>\n",
              "      <td>0.000000</td>\n",
              "      <td>0.020000</td>\n",
              "      <td>0.060000</td>\n",
              "      <td>0.000000</td>\n",
              "      <td>0.000000</td>\n",
              "      <td>0.000000</td>\n",
              "      <td>1.000000</td>\n",
              "      <td>1901.000000</td>\n",
              "      <td>750.000000</td>\n",
              "      <td>1900.000000</td>\n",
              "    </tr>\n",
              "    <tr>\n",
              "      <th>25%</th>\n",
              "      <td>30.616000</td>\n",
              "      <td>-50.375000</td>\n",
              "      <td>6.000000</td>\n",
              "      <td>1.000000</td>\n",
              "      <td>1.000000</td>\n",
              "      <td>3.000000</td>\n",
              "      <td>0.000000</td>\n",
              "      <td>1963.000000</td>\n",
              "      <td>1986.000000</td>\n",
              "      <td>1800.000000</td>\n",
              "      <td>...</td>\n",
              "      <td>0.300000</td>\n",
              "      <td>0.500000</td>\n",
              "      <td>0.500000</td>\n",
              "      <td>0.500000</td>\n",
              "      <td>0.200000</td>\n",
              "      <td>12.000000</td>\n",
              "      <td>1.000000</td>\n",
              "      <td>1966.000000</td>\n",
              "      <td>50000.000000</td>\n",
              "      <td>1968.000000</td>\n",
              "    </tr>\n",
              "    <tr>\n",
              "      <th>50%</th>\n",
              "      <td>38.580000</td>\n",
              "      <td>75.484500</td>\n",
              "      <td>6.000000</td>\n",
              "      <td>1.000000</td>\n",
              "      <td>1.000000</td>\n",
              "      <td>4.000000</td>\n",
              "      <td>0.000000</td>\n",
              "      <td>1967.000000</td>\n",
              "      <td>1986.000000</td>\n",
              "      <td>3840.000000</td>\n",
              "      <td>...</td>\n",
              "      <td>0.400000</td>\n",
              "      <td>0.800000</td>\n",
              "      <td>0.800000</td>\n",
              "      <td>0.800000</td>\n",
              "      <td>0.600000</td>\n",
              "      <td>20.000000</td>\n",
              "      <td>2.000000</td>\n",
              "      <td>1972.000000</td>\n",
              "      <td>90000.000000</td>\n",
              "      <td>1971.000000</td>\n",
              "    </tr>\n",
              "    <tr>\n",
              "      <th>75%</th>\n",
              "      <td>49.223000</td>\n",
              "      <td>85.265750</td>\n",
              "      <td>7.000000</td>\n",
              "      <td>1.000000</td>\n",
              "      <td>1.000000</td>\n",
              "      <td>5.000000</td>\n",
              "      <td>1.000000</td>\n",
              "      <td>1975.000000</td>\n",
              "      <td>1988.000000</td>\n",
              "      <td>5020.000000</td>\n",
              "      <td>...</td>\n",
              "      <td>0.700000</td>\n",
              "      <td>1.510000</td>\n",
              "      <td>1.500000</td>\n",
              "      <td>1.500000</td>\n",
              "      <td>2.000000</td>\n",
              "      <td>36.000000</td>\n",
              "      <td>3.000000</td>\n",
              "      <td>1978.000000</td>\n",
              "      <td>100000.000000</td>\n",
              "      <td>1980.000000</td>\n",
              "    </tr>\n",
              "    <tr>\n",
              "      <th>max</th>\n",
              "      <td>89.300000</td>\n",
              "      <td>179.680000</td>\n",
              "      <td>9.000000</td>\n",
              "      <td>3.000000</td>\n",
              "      <td>7.000000</td>\n",
              "      <td>9.000000</td>\n",
              "      <td>8.000000</td>\n",
              "      <td>1996.000000</td>\n",
              "      <td>2002.000000</td>\n",
              "      <td>8047.000000</td>\n",
              "      <td>...</td>\n",
              "      <td>29.800000</td>\n",
              "      <td>76.640000</td>\n",
              "      <td>145.000000</td>\n",
              "      <td>125.000000</td>\n",
              "      <td>64.500000</td>\n",
              "      <td>7060.000000</td>\n",
              "      <td>5.000000</td>\n",
              "      <td>1998.000000</td>\n",
              "      <td>1000000.000000</td>\n",
              "      <td>2003.000000</td>\n",
              "    </tr>\n",
              "  </tbody>\n",
              "</table>\n",
              "<p>8 rows × 30 columns</p>\n",
              "</div>\n",
              "      <button class=\"colab-df-convert\" onclick=\"convertToInteractive('df-37748894-0647-428b-933b-1feb777a9f6e')\"\n",
              "              title=\"Convert this dataframe to an interactive table.\"\n",
              "              style=\"display:none;\">\n",
              "        \n",
              "  <svg xmlns=\"http://www.w3.org/2000/svg\" height=\"24px\"viewBox=\"0 0 24 24\"\n",
              "       width=\"24px\">\n",
              "    <path d=\"M0 0h24v24H0V0z\" fill=\"none\"/>\n",
              "    <path d=\"M18.56 5.44l.94 2.06.94-2.06 2.06-.94-2.06-.94-.94-2.06-.94 2.06-2.06.94zm-11 1L8.5 8.5l.94-2.06 2.06-.94-2.06-.94L8.5 2.5l-.94 2.06-2.06.94zm10 10l.94 2.06.94-2.06 2.06-.94-2.06-.94-.94-2.06-.94 2.06-2.06.94z\"/><path d=\"M17.41 7.96l-1.37-1.37c-.4-.4-.92-.59-1.43-.59-.52 0-1.04.2-1.43.59L10.3 9.45l-7.72 7.72c-.78.78-.78 2.05 0 2.83L4 21.41c.39.39.9.59 1.41.59.51 0 1.02-.2 1.41-.59l7.78-7.78 2.81-2.81c.8-.78.8-2.07 0-2.86zM5.41 20L4 18.59l7.72-7.72 1.47 1.35L5.41 20z\"/>\n",
              "  </svg>\n",
              "      </button>\n",
              "      \n",
              "  <style>\n",
              "    .colab-df-container {\n",
              "      display:flex;\n",
              "      flex-wrap:wrap;\n",
              "      gap: 12px;\n",
              "    }\n",
              "\n",
              "    .colab-df-convert {\n",
              "      background-color: #E8F0FE;\n",
              "      border: none;\n",
              "      border-radius: 50%;\n",
              "      cursor: pointer;\n",
              "      display: none;\n",
              "      fill: #1967D2;\n",
              "      height: 32px;\n",
              "      padding: 0 0 0 0;\n",
              "      width: 32px;\n",
              "    }\n",
              "\n",
              "    .colab-df-convert:hover {\n",
              "      background-color: #E2EBFA;\n",
              "      box-shadow: 0px 1px 2px rgba(60, 64, 67, 0.3), 0px 1px 3px 1px rgba(60, 64, 67, 0.15);\n",
              "      fill: #174EA6;\n",
              "    }\n",
              "\n",
              "    [theme=dark] .colab-df-convert {\n",
              "      background-color: #3B4455;\n",
              "      fill: #D2E3FC;\n",
              "    }\n",
              "\n",
              "    [theme=dark] .colab-df-convert:hover {\n",
              "      background-color: #434B5C;\n",
              "      box-shadow: 0px 1px 3px 1px rgba(0, 0, 0, 0.15);\n",
              "      filter: drop-shadow(0px 1px 2px rgba(0, 0, 0, 0.3));\n",
              "      fill: #FFFFFF;\n",
              "    }\n",
              "  </style>\n",
              "\n",
              "      <script>\n",
              "        const buttonEl =\n",
              "          document.querySelector('#df-37748894-0647-428b-933b-1feb777a9f6e button.colab-df-convert');\n",
              "        buttonEl.style.display =\n",
              "          google.colab.kernel.accessAllowed ? 'block' : 'none';\n",
              "\n",
              "        async function convertToInteractive(key) {\n",
              "          const element = document.querySelector('#df-37748894-0647-428b-933b-1feb777a9f6e');\n",
              "          const dataTable =\n",
              "            await google.colab.kernel.invokeFunction('convertToInteractive',\n",
              "                                                     [key], {});\n",
              "          if (!dataTable) return;\n",
              "\n",
              "          const docLinkHtml = 'Like what you see? Visit the ' +\n",
              "            '<a target=\"_blank\" href=https://colab.research.google.com/notebooks/data_table.ipynb>data table notebook</a>'\n",
              "            + ' to learn more about interactive tables.';\n",
              "          element.innerHTML = '';\n",
              "          dataTable['output_type'] = 'display_data';\n",
              "          await google.colab.output.renderOutput(dataTable, element);\n",
              "          const docLink = document.createElement('div');\n",
              "          docLink.innerHTML = docLinkHtml;\n",
              "          element.appendChild(docLink);\n",
              "        }\n",
              "      </script>\n",
              "    </div>\n",
              "  </div>\n",
              "  "
            ]
          },
          "metadata": {},
          "execution_count": 4
        }
      ]
    },
    {
      "cell_type": "code",
      "source": [
        "df.shape"
      ],
      "metadata": {
        "colab": {
          "base_uri": "https://localhost:8080/"
        },
        "id": "y5UN1HP5EVe4",
        "outputId": "213484e0-f592-4d9a-ed9a-cb858203b14d"
      },
      "execution_count": null,
      "outputs": [
        {
          "output_type": "execute_result",
          "data": {
            "text/plain": [
              "(132890, 39)"
            ]
          },
          "metadata": {},
          "execution_count": 5
        }
      ]
    },
    {
      "cell_type": "code",
      "source": [
        "df.isna().sum()"
      ],
      "metadata": {
        "colab": {
          "base_uri": "https://localhost:8080/"
        },
        "id": "7awVXmspFCrY",
        "outputId": "12df9fe5-9549-4c92-d9ca-6ca2321a90c3"
      },
      "execution_count": null,
      "outputs": [
        {
          "output_type": "execute_result",
          "data": {
            "text/plain": [
              "Glacier ID                          0\n",
              "Political Unit                      0\n",
              "Continent                           0\n",
              "Basin Code                          0\n",
              "Location Code                       0\n",
              "Glacier Code                        0\n",
              "Glacier Name                    86139\n",
              "Latitude                            0\n",
              "Longitude                           0\n",
              "Primary Class                    1484\n",
              "Glacier Source                    144\n",
              "Basin Count                    117332\n",
              "Glacier Form                     1077\n",
              "Glacier Activity                  115\n",
              "Activity Start                 128688\n",
              "Activity End                   132747\n",
              "Minimum Elevation               15728\n",
              "Minimum Elevation Exposed       43193\n",
              "Mean Elevation                  51291\n",
              "Mean Elevation Accumulation    117417\n",
              "Mean Elevation Ablation        121837\n",
              "Maximum Elevation               17422\n",
              "Snow Line Elevation            104042\n",
              "Snow Line Accuracy             109566\n",
              "Glacier Area                     4516\n",
              "Area Accuracy                   48450\n",
              "Area Exposed                    42153\n",
              "Mean Width                      62924\n",
              "Mean Length                     77632\n",
              "Maximum Length                  30297\n",
              "Maximum Length Exposed          48269\n",
              "Maximum Length Ablation        115839\n",
              "Mean Depth                      62819\n",
              "Depth Accuracy                  54205\n",
              "Accumulation Orientation        18458\n",
              "Ablation Orientation            16356\n",
              "Topographic Map Year            49193\n",
              "Topographic Map Scale           58304\n",
              "Photograph Year                 50426\n",
              "dtype: int64"
            ]
          },
          "metadata": {},
          "execution_count": 4
        }
      ]
    },
    {
      "cell_type": "markdown",
      "source": [
        "Preparing dataset for the models. Selectionning all the columns of interest together, to select only the line without NaN"
      ],
      "metadata": {
        "id": "1eBSVsPtGsnk"
      }
    },
    {
      "cell_type": "code",
      "source": [
        "df_select = df[[\"Snow Line Elevation\", \"Latitude\", \"Longitude\", \"Glacier Area\", \"Accumulation Orientation\", \"Ablation Orientation\",\"Ablation Orientation\", \"Mean Length\", \"Mean Elevation\",\"Minimum Elevation\", \"Maximum Elevation\", \"Primary Class\", \"Glacier Form\" ]]"
      ],
      "metadata": {
        "id": "IJzzUKGGGsGX"
      },
      "execution_count": 5,
      "outputs": []
    },
    {
      "cell_type": "code",
      "source": [
        "df_select_noNan = df_select.dropna()"
      ],
      "metadata": {
        "id": "hRxDaZ-pIGcC"
      },
      "execution_count": 6,
      "outputs": []
    },
    {
      "cell_type": "code",
      "source": [
        "df_select_noNan.shape"
      ],
      "metadata": {
        "colab": {
          "base_uri": "https://localhost:8080/"
        },
        "id": "QjVYm9XyKChc",
        "outputId": "b7b512b5-7ae0-470b-cd0b-a07db80e588f"
      },
      "execution_count": 7,
      "outputs": [
        {
          "output_type": "execute_result",
          "data": {
            "text/plain": [
              "(5700, 13)"
            ]
          },
          "metadata": {},
          "execution_count": 7
        }
      ]
    },
    {
      "cell_type": "markdown",
      "source": [
        "Preparing training and tests set"
      ],
      "metadata": {
        "id": "wI421SZZKs_H"
      }
    },
    {
      "cell_type": "code",
      "source": [
        "X = df_select_noNan[[ \"Latitude\", \"Longitude\", \"Glacier Area\", \"Mean Length\", \"Mean Elevation\",\"Minimum Elevation\", \"Maximum Elevation\", \"Primary Class\", \"Glacier Form\" ]]"
      ],
      "metadata": {
        "id": "OQf9ijSmK34Q"
      },
      "execution_count": 8,
      "outputs": []
    },
    {
      "cell_type": "code",
      "source": [
        "y = df_select_noNan[['Snow Line Elevation']]"
      ],
      "metadata": {
        "id": "8fbeG7RaKqf1"
      },
      "execution_count": 9,
      "outputs": []
    },
    {
      "cell_type": "code",
      "source": [
        "from sklearn.model_selection import train_test_split\n",
        "X_train, X_test, y_train, y_test = train_test_split(X, y, test_size=0.2,random_state=42)"
      ],
      "metadata": {
        "id": "L7Sl_0RcLTCf"
      },
      "execution_count": 10,
      "outputs": []
    },
    {
      "cell_type": "code",
      "source": [
        "from sklearn.linear_model import LinearRegression\n",
        "Lr = LinearRegression()\n",
        "Lr.fit(X_train, y_train)\n",
        "y_pred = Lr.predict(X_test)\n",
        "y_pred_df = pd.DataFrame(y_pred)"
      ],
      "metadata": {
        "id": "wHCzU2n6LXLZ"
      },
      "execution_count": 11,
      "outputs": []
    },
    {
      "cell_type": "code",
      "source": [
        "from sklearn.metrics import explained_variance_score\n",
        "from sklearn.metrics import r2_score"
      ],
      "metadata": {
        "id": "XP81Wsh0MoqL"
      },
      "execution_count": 12,
      "outputs": []
    },
    {
      "cell_type": "code",
      "source": [
        "explained_variance = explained_variance_score(y_test, # We'll need our ground truth\n",
        "                   y_pred_df) # and our predictions\n",
        "print(explained_variance)               "
      ],
      "metadata": {
        "colab": {
          "base_uri": "https://localhost:8080/"
        },
        "id": "azWUOOSDMsNX",
        "outputId": "5a2b9e64-d375-4ba7-9cd9-0e7d8da36a45"
      },
      "execution_count": 13,
      "outputs": [
        {
          "output_type": "stream",
          "name": "stdout",
          "text": [
            "0.9803169303027423\n"
          ]
        }
      ]
    },
    {
      "cell_type": "markdown",
      "source": [
        "Features importance"
      ],
      "metadata": {
        "id": "tdORb7IscMjo"
      }
    },
    {
      "cell_type": "code",
      "source": [
        "importance = Lr.coef_\n",
        "print(importance)"
      ],
      "metadata": {
        "colab": {
          "base_uri": "https://localhost:8080/"
        },
        "id": "gCrLXg4vcPDt",
        "outputId": "1539b843-2eed-4ced-8cf4-8d2456b9b525"
      },
      "execution_count": 16,
      "outputs": [
        {
          "output_type": "stream",
          "name": "stdout",
          "text": [
            "[[-1.01278652  0.39320054 -0.86491754 10.78532302  0.42741698  0.43105156\n",
            "   0.10080036 -0.96070325 -8.09571723]]\n"
          ]
        }
      ]
    },
    {
      "cell_type": "markdown",
      "source": [
        "Trying with only the mean elevation as predictor "
      ],
      "metadata": {
        "id": "YZ1IcvJdb2pL"
      }
    },
    {
      "cell_type": "code",
      "source": [
        "X = df_select_noNan[[\"Mean Elevation\"]]"
      ],
      "metadata": {
        "id": "gWsW3Eixb2I2"
      },
      "execution_count": 18,
      "outputs": []
    },
    {
      "cell_type": "code",
      "source": [
        "X_train, X_test, y_train, y_test = train_test_split(X, y, test_size=0.2,random_state=42)"
      ],
      "metadata": {
        "id": "AOx812I4dYwR"
      },
      "execution_count": 19,
      "outputs": []
    },
    {
      "cell_type": "code",
      "source": [
        "Lr = LinearRegression()\n",
        "Lr.fit(X_train, y_train)\n",
        "y_pred = Lr.predict(X_test)\n",
        "y_pred_df = pd.DataFrame(y_pred)\n",
        "explained_variance = explained_variance_score(y_test, # We'll need our ground truth\n",
        "                   y_pred_df) # and our predictions\n",
        "print(explained_variance)  "
      ],
      "metadata": {
        "colab": {
          "base_uri": "https://localhost:8080/"
        },
        "id": "GdVxWScJddXa",
        "outputId": "c3d105a0-e449-4221-e108-7d22a121447d"
      },
      "execution_count": 20,
      "outputs": [
        {
          "output_type": "stream",
          "name": "stdout",
          "text": [
            "0.9788400077439836\n"
          ]
        }
      ]
    },
    {
      "cell_type": "markdown",
      "source": [
        "# Predicting Activity"
      ],
      "metadata": {
        "id": "2GAIMx-AOvJf"
      }
    },
    {
      "cell_type": "markdown",
      "source": [
        "Prepare the dataset"
      ],
      "metadata": {
        "id": "e7ooM9CTO1Iv"
      }
    },
    {
      "cell_type": "code",
      "source": [
        "df_select = df[[\"Glacier Activity\", \"Snow Line Elevation\",\"Latitude\", \"Longitude\", \"Glacier Area\", \"Mean Elevation\",\"Minimum Elevation\", \"Maximum Elevation\", \"Primary Class\", \"Glacier Form\" ]]"
      ],
      "metadata": {
        "id": "WCL2X3kCOy8b"
      },
      "execution_count": 21,
      "outputs": []
    },
    {
      "cell_type": "code",
      "source": [
        "df_select"
      ],
      "metadata": {
        "id": "rWE--55EQlXR"
      },
      "execution_count": null,
      "outputs": []
    },
    {
      "cell_type": "markdown",
      "source": [
        "Replace the 0 value (which means uncertained activity) by na values"
      ],
      "metadata": {
        "id": "PkB5yh48XXCO"
      }
    },
    {
      "cell_type": "code",
      "source": [
        "df_select['Glacier Activity'] = df['Glacier Activity'].replace(0, np.nan)"
      ],
      "metadata": {
        "colab": {
          "base_uri": "https://localhost:8080/"
        },
        "id": "jwwD0eP6qDg-",
        "outputId": "0be2b4ae-4221-46df-b478-0b7d024eddc1"
      },
      "execution_count": 22,
      "outputs": [
        {
          "output_type": "stream",
          "name": "stderr",
          "text": [
            "<ipython-input-22-b5e3fd7f1cd7>:1: SettingWithCopyWarning: \n",
            "A value is trying to be set on a copy of a slice from a DataFrame.\n",
            "Try using .loc[row_indexer,col_indexer] = value instead\n",
            "\n",
            "See the caveats in the documentation: https://pandas.pydata.org/pandas-docs/stable/user_guide/indexing.html#returning-a-view-versus-a-copy\n",
            "  df_select['Glacier Activity'] = df['Glacier Activity'].replace(0, np.nan)\n"
          ]
        }
      ]
    },
    {
      "cell_type": "markdown",
      "source": [
        "Check that it worked"
      ],
      "metadata": {
        "id": "a3-0AmgedwRO"
      }
    },
    {
      "cell_type": "code",
      "source": [
        "df_select"
      ],
      "metadata": {
        "colab": {
          "base_uri": "https://localhost:8080/",
          "height": 485
        },
        "id": "9sRkvFwwqK3N",
        "outputId": "87144dee-b141-4302-c26a-f0fa16ccd22d"
      },
      "execution_count": 23,
      "outputs": [
        {
          "output_type": "execute_result",
          "data": {
            "text/plain": [
              "        Glacier Activity  Snow Line Elevation  Latitude  Longitude  \\\n",
              "0                    NaN                  NaN    34.672     68.874   \n",
              "1                    NaN                  NaN    34.676     68.855   \n",
              "2                    NaN                  NaN    34.689     68.854   \n",
              "3                    NaN                  NaN    34.707     68.857   \n",
              "4                    NaN                  NaN    34.719     68.852   \n",
              "...                  ...                  ...       ...        ...   \n",
              "132885               NaN                  NaN     0.438     29.899   \n",
              "132886               NaN                  NaN     0.440     29.898   \n",
              "132887               NaN                  NaN     0.389     29.871   \n",
              "132888               NaN                  NaN     0.389     29.868   \n",
              "132889               NaN                  NaN     0.383     29.869   \n",
              "\n",
              "        Glacier Area  Mean Elevation  Minimum Elevation  Maximum Elevation  \\\n",
              "0               1.28          4110.0             3975.0             4250.0   \n",
              "1               0.31          4350.0             4250.0             4450.0   \n",
              "2               0.60          4100.0             4000.0             4200.0   \n",
              "3               0.56          4175.0             4000.0             4350.0   \n",
              "4               1.06          4050.0             3750.0             4350.0   \n",
              "...              ...             ...                ...                ...   \n",
              "132885          0.04             NaN             4630.0             4750.0   \n",
              "132886          0.02             NaN             4690.0             4750.0   \n",
              "132887          0.02          5030.0                NaN             5095.0   \n",
              "132888          0.25          4740.0             4510.0             5060.0   \n",
              "132889          0.42          4700.0             4420.0             5050.0   \n",
              "\n",
              "        Primary Class  Glacier Form  \n",
              "0                 9.0           3.0  \n",
              "1                 9.0           3.0  \n",
              "2                 9.0           3.0  \n",
              "3                 9.0           3.0  \n",
              "4                 9.0           2.0  \n",
              "...               ...           ...  \n",
              "132885            6.0           8.0  \n",
              "132886            6.0           4.0  \n",
              "132887            6.0           3.0  \n",
              "132888            6.0           4.0  \n",
              "132889            6.0           4.0  \n",
              "\n",
              "[132890 rows x 10 columns]"
            ],
            "text/html": [
              "\n",
              "  <div id=\"df-d404101e-da3d-4864-8fd4-d94415044020\">\n",
              "    <div class=\"colab-df-container\">\n",
              "      <div>\n",
              "<style scoped>\n",
              "    .dataframe tbody tr th:only-of-type {\n",
              "        vertical-align: middle;\n",
              "    }\n",
              "\n",
              "    .dataframe tbody tr th {\n",
              "        vertical-align: top;\n",
              "    }\n",
              "\n",
              "    .dataframe thead th {\n",
              "        text-align: right;\n",
              "    }\n",
              "</style>\n",
              "<table border=\"1\" class=\"dataframe\">\n",
              "  <thead>\n",
              "    <tr style=\"text-align: right;\">\n",
              "      <th></th>\n",
              "      <th>Glacier Activity</th>\n",
              "      <th>Snow Line Elevation</th>\n",
              "      <th>Latitude</th>\n",
              "      <th>Longitude</th>\n",
              "      <th>Glacier Area</th>\n",
              "      <th>Mean Elevation</th>\n",
              "      <th>Minimum Elevation</th>\n",
              "      <th>Maximum Elevation</th>\n",
              "      <th>Primary Class</th>\n",
              "      <th>Glacier Form</th>\n",
              "    </tr>\n",
              "  </thead>\n",
              "  <tbody>\n",
              "    <tr>\n",
              "      <th>0</th>\n",
              "      <td>NaN</td>\n",
              "      <td>NaN</td>\n",
              "      <td>34.672</td>\n",
              "      <td>68.874</td>\n",
              "      <td>1.28</td>\n",
              "      <td>4110.0</td>\n",
              "      <td>3975.0</td>\n",
              "      <td>4250.0</td>\n",
              "      <td>9.0</td>\n",
              "      <td>3.0</td>\n",
              "    </tr>\n",
              "    <tr>\n",
              "      <th>1</th>\n",
              "      <td>NaN</td>\n",
              "      <td>NaN</td>\n",
              "      <td>34.676</td>\n",
              "      <td>68.855</td>\n",
              "      <td>0.31</td>\n",
              "      <td>4350.0</td>\n",
              "      <td>4250.0</td>\n",
              "      <td>4450.0</td>\n",
              "      <td>9.0</td>\n",
              "      <td>3.0</td>\n",
              "    </tr>\n",
              "    <tr>\n",
              "      <th>2</th>\n",
              "      <td>NaN</td>\n",
              "      <td>NaN</td>\n",
              "      <td>34.689</td>\n",
              "      <td>68.854</td>\n",
              "      <td>0.60</td>\n",
              "      <td>4100.0</td>\n",
              "      <td>4000.0</td>\n",
              "      <td>4200.0</td>\n",
              "      <td>9.0</td>\n",
              "      <td>3.0</td>\n",
              "    </tr>\n",
              "    <tr>\n",
              "      <th>3</th>\n",
              "      <td>NaN</td>\n",
              "      <td>NaN</td>\n",
              "      <td>34.707</td>\n",
              "      <td>68.857</td>\n",
              "      <td>0.56</td>\n",
              "      <td>4175.0</td>\n",
              "      <td>4000.0</td>\n",
              "      <td>4350.0</td>\n",
              "      <td>9.0</td>\n",
              "      <td>3.0</td>\n",
              "    </tr>\n",
              "    <tr>\n",
              "      <th>4</th>\n",
              "      <td>NaN</td>\n",
              "      <td>NaN</td>\n",
              "      <td>34.719</td>\n",
              "      <td>68.852</td>\n",
              "      <td>1.06</td>\n",
              "      <td>4050.0</td>\n",
              "      <td>3750.0</td>\n",
              "      <td>4350.0</td>\n",
              "      <td>9.0</td>\n",
              "      <td>2.0</td>\n",
              "    </tr>\n",
              "    <tr>\n",
              "      <th>...</th>\n",
              "      <td>...</td>\n",
              "      <td>...</td>\n",
              "      <td>...</td>\n",
              "      <td>...</td>\n",
              "      <td>...</td>\n",
              "      <td>...</td>\n",
              "      <td>...</td>\n",
              "      <td>...</td>\n",
              "      <td>...</td>\n",
              "      <td>...</td>\n",
              "    </tr>\n",
              "    <tr>\n",
              "      <th>132885</th>\n",
              "      <td>NaN</td>\n",
              "      <td>NaN</td>\n",
              "      <td>0.438</td>\n",
              "      <td>29.899</td>\n",
              "      <td>0.04</td>\n",
              "      <td>NaN</td>\n",
              "      <td>4630.0</td>\n",
              "      <td>4750.0</td>\n",
              "      <td>6.0</td>\n",
              "      <td>8.0</td>\n",
              "    </tr>\n",
              "    <tr>\n",
              "      <th>132886</th>\n",
              "      <td>NaN</td>\n",
              "      <td>NaN</td>\n",
              "      <td>0.440</td>\n",
              "      <td>29.898</td>\n",
              "      <td>0.02</td>\n",
              "      <td>NaN</td>\n",
              "      <td>4690.0</td>\n",
              "      <td>4750.0</td>\n",
              "      <td>6.0</td>\n",
              "      <td>4.0</td>\n",
              "    </tr>\n",
              "    <tr>\n",
              "      <th>132887</th>\n",
              "      <td>NaN</td>\n",
              "      <td>NaN</td>\n",
              "      <td>0.389</td>\n",
              "      <td>29.871</td>\n",
              "      <td>0.02</td>\n",
              "      <td>5030.0</td>\n",
              "      <td>NaN</td>\n",
              "      <td>5095.0</td>\n",
              "      <td>6.0</td>\n",
              "      <td>3.0</td>\n",
              "    </tr>\n",
              "    <tr>\n",
              "      <th>132888</th>\n",
              "      <td>NaN</td>\n",
              "      <td>NaN</td>\n",
              "      <td>0.389</td>\n",
              "      <td>29.868</td>\n",
              "      <td>0.25</td>\n",
              "      <td>4740.0</td>\n",
              "      <td>4510.0</td>\n",
              "      <td>5060.0</td>\n",
              "      <td>6.0</td>\n",
              "      <td>4.0</td>\n",
              "    </tr>\n",
              "    <tr>\n",
              "      <th>132889</th>\n",
              "      <td>NaN</td>\n",
              "      <td>NaN</td>\n",
              "      <td>0.383</td>\n",
              "      <td>29.869</td>\n",
              "      <td>0.42</td>\n",
              "      <td>4700.0</td>\n",
              "      <td>4420.0</td>\n",
              "      <td>5050.0</td>\n",
              "      <td>6.0</td>\n",
              "      <td>4.0</td>\n",
              "    </tr>\n",
              "  </tbody>\n",
              "</table>\n",
              "<p>132890 rows × 10 columns</p>\n",
              "</div>\n",
              "      <button class=\"colab-df-convert\" onclick=\"convertToInteractive('df-d404101e-da3d-4864-8fd4-d94415044020')\"\n",
              "              title=\"Convert this dataframe to an interactive table.\"\n",
              "              style=\"display:none;\">\n",
              "        \n",
              "  <svg xmlns=\"http://www.w3.org/2000/svg\" height=\"24px\"viewBox=\"0 0 24 24\"\n",
              "       width=\"24px\">\n",
              "    <path d=\"M0 0h24v24H0V0z\" fill=\"none\"/>\n",
              "    <path d=\"M18.56 5.44l.94 2.06.94-2.06 2.06-.94-2.06-.94-.94-2.06-.94 2.06-2.06.94zm-11 1L8.5 8.5l.94-2.06 2.06-.94-2.06-.94L8.5 2.5l-.94 2.06-2.06.94zm10 10l.94 2.06.94-2.06 2.06-.94-2.06-.94-.94-2.06-.94 2.06-2.06.94z\"/><path d=\"M17.41 7.96l-1.37-1.37c-.4-.4-.92-.59-1.43-.59-.52 0-1.04.2-1.43.59L10.3 9.45l-7.72 7.72c-.78.78-.78 2.05 0 2.83L4 21.41c.39.39.9.59 1.41.59.51 0 1.02-.2 1.41-.59l7.78-7.78 2.81-2.81c.8-.78.8-2.07 0-2.86zM5.41 20L4 18.59l7.72-7.72 1.47 1.35L5.41 20z\"/>\n",
              "  </svg>\n",
              "      </button>\n",
              "      \n",
              "  <style>\n",
              "    .colab-df-container {\n",
              "      display:flex;\n",
              "      flex-wrap:wrap;\n",
              "      gap: 12px;\n",
              "    }\n",
              "\n",
              "    .colab-df-convert {\n",
              "      background-color: #E8F0FE;\n",
              "      border: none;\n",
              "      border-radius: 50%;\n",
              "      cursor: pointer;\n",
              "      display: none;\n",
              "      fill: #1967D2;\n",
              "      height: 32px;\n",
              "      padding: 0 0 0 0;\n",
              "      width: 32px;\n",
              "    }\n",
              "\n",
              "    .colab-df-convert:hover {\n",
              "      background-color: #E2EBFA;\n",
              "      box-shadow: 0px 1px 2px rgba(60, 64, 67, 0.3), 0px 1px 3px 1px rgba(60, 64, 67, 0.15);\n",
              "      fill: #174EA6;\n",
              "    }\n",
              "\n",
              "    [theme=dark] .colab-df-convert {\n",
              "      background-color: #3B4455;\n",
              "      fill: #D2E3FC;\n",
              "    }\n",
              "\n",
              "    [theme=dark] .colab-df-convert:hover {\n",
              "      background-color: #434B5C;\n",
              "      box-shadow: 0px 1px 3px 1px rgba(0, 0, 0, 0.15);\n",
              "      filter: drop-shadow(0px 1px 2px rgba(0, 0, 0, 0.3));\n",
              "      fill: #FFFFFF;\n",
              "    }\n",
              "  </style>\n",
              "\n",
              "      <script>\n",
              "        const buttonEl =\n",
              "          document.querySelector('#df-d404101e-da3d-4864-8fd4-d94415044020 button.colab-df-convert');\n",
              "        buttonEl.style.display =\n",
              "          google.colab.kernel.accessAllowed ? 'block' : 'none';\n",
              "\n",
              "        async function convertToInteractive(key) {\n",
              "          const element = document.querySelector('#df-d404101e-da3d-4864-8fd4-d94415044020');\n",
              "          const dataTable =\n",
              "            await google.colab.kernel.invokeFunction('convertToInteractive',\n",
              "                                                     [key], {});\n",
              "          if (!dataTable) return;\n",
              "\n",
              "          const docLinkHtml = 'Like what you see? Visit the ' +\n",
              "            '<a target=\"_blank\" href=https://colab.research.google.com/notebooks/data_table.ipynb>data table notebook</a>'\n",
              "            + ' to learn more about interactive tables.';\n",
              "          element.innerHTML = '';\n",
              "          dataTable['output_type'] = 'display_data';\n",
              "          await google.colab.output.renderOutput(dataTable, element);\n",
              "          const docLink = document.createElement('div');\n",
              "          docLink.innerHTML = docLinkHtml;\n",
              "          element.appendChild(docLink);\n",
              "        }\n",
              "      </script>\n",
              "    </div>\n",
              "  </div>\n",
              "  "
            ]
          },
          "metadata": {},
          "execution_count": 23
        }
      ]
    },
    {
      "cell_type": "code",
      "source": [
        "df_select.isna().sum()"
      ],
      "metadata": {
        "colab": {
          "base_uri": "https://localhost:8080/"
        },
        "id": "KYGB2RkdrBiB",
        "outputId": "e62ecb53-1433-45c4-969f-f1b3e784821b"
      },
      "execution_count": 24,
      "outputs": [
        {
          "output_type": "execute_result",
          "data": {
            "text/plain": [
              "Glacier Activity        94618\n",
              "Snow Line Elevation    104042\n",
              "Latitude                    0\n",
              "Longitude                   0\n",
              "Glacier Area             4516\n",
              "Mean Elevation          51291\n",
              "Minimum Elevation       15728\n",
              "Maximum Elevation       17422\n",
              "Primary Class            1484\n",
              "Glacier Form             1077\n",
              "dtype: int64"
            ]
          },
          "metadata": {},
          "execution_count": 24
        }
      ]
    },
    {
      "cell_type": "code",
      "source": [
        "df_select_noNan = df_select.dropna()"
      ],
      "metadata": {
        "id": "DCswX51YQbbk"
      },
      "execution_count": 25,
      "outputs": []
    },
    {
      "cell_type": "code",
      "source": [
        "df_select_noNan.shape"
      ],
      "metadata": {
        "colab": {
          "base_uri": "https://localhost:8080/"
        },
        "id": "aNm-SRQvQt-W",
        "outputId": "6d10d239-0514-448a-ecfa-d344c8796372"
      },
      "execution_count": 26,
      "outputs": [
        {
          "output_type": "execute_result",
          "data": {
            "text/plain": [
              "(4988, 10)"
            ]
          },
          "metadata": {},
          "execution_count": 26
        }
      ]
    },
    {
      "cell_type": "markdown",
      "source": [
        "Select the predictors"
      ],
      "metadata": {
        "id": "KFslVb-tXgNh"
      }
    },
    {
      "cell_type": "code",
      "source": [
        "X = df_select_noNan[[\"Snow Line Elevation\", \"Latitude\", \"Longitude\", \"Glacier Area\", \"Mean Elevation\",\"Minimum Elevation\", \"Maximum Elevation\", \"Primary Class\", \"Glacier Form\" ]]"
      ],
      "metadata": {
        "id": "iUW1stTQQGb2"
      },
      "execution_count": 32,
      "outputs": []
    },
    {
      "cell_type": "code",
      "source": [
        "#X = df_select_noNan[[ \"Glacier Area\", \"Mean Elevation\",\"Minimum Elevation\", \"Maximum Elevation\", \"Primary Class\", \"Glacier Form\" ]]"
      ],
      "metadata": {
        "id": "h_p5pnSxrLxl"
      },
      "execution_count": 28,
      "outputs": []
    },
    {
      "cell_type": "markdown",
      "source": [
        "Select the varible to predict"
      ],
      "metadata": {
        "id": "gl-GS_dAXjdj"
      }
    },
    {
      "cell_type": "code",
      "source": [
        "y = df_select_noNan[[\"Glacier Activity\"]]"
      ],
      "metadata": {
        "id": "8XBUnr5oQK6H"
      },
      "execution_count": 33,
      "outputs": []
    },
    {
      "cell_type": "markdown",
      "source": [
        "Prepare the train/test set"
      ],
      "metadata": {
        "id": "FaR0GCt4Xl2s"
      }
    },
    {
      "cell_type": "code",
      "source": [
        "from sklearn.model_selection import train_test_split\n",
        "X_train, X_test, y_train, y_test = train_test_split(X, y, test_size=0.2,random_state=42)"
      ],
      "metadata": {
        "id": "_nCAPpUCQN81"
      },
      "execution_count": 34,
      "outputs": []
    },
    {
      "cell_type": "code",
      "source": [
        "from sklearn.model_selection import GridSearchCV\n",
        "from sklearn.tree import DecisionTreeClassifier\n",
        "from sklearn.metrics import accuracy_score"
      ],
      "metadata": {
        "id": "pBkWrskYZ-gZ"
      },
      "execution_count": 38,
      "outputs": []
    },
    {
      "cell_type": "code",
      "source": [
        "param_grid = {'max_leaf_nodes':range(2,120), 'min_samples_split':range(2,10)}\n",
        "\n",
        "\n",
        "gsc_tree = GridSearchCV(DecisionTreeClassifier(),param_grid,cv=3,verbose=1)\n",
        "\n",
        "gsc_tree.fit(X_train,y_train)\n",
        "print(gsc_tree.best_estimator_)\n",
        "y_pred_test = gsc_tree.predict(X_test)\n",
        "print(f'Accuracy over test set: {(accuracy_score(y_true=y_test, y_pred=y_pred_test)):.2%}')"
      ],
      "metadata": {
        "colab": {
          "base_uri": "https://localhost:8080/"
        },
        "id": "WiprjdJqaKbg",
        "outputId": "2e2cebf4-1530-4ac8-a832-0574c122ca0f"
      },
      "execution_count": 45,
      "outputs": [
        {
          "output_type": "stream",
          "name": "stdout",
          "text": [
            "Fitting 3 folds for each of 944 candidates, totalling 2832 fits\n",
            "DecisionTreeClassifier(max_leaf_nodes=62, min_samples_split=9)\n",
            "Accuracy over test set: 79.56%\n"
          ]
        }
      ]
    },
    {
      "cell_type": "code",
      "source": [],
      "metadata": {
        "id": "IvWZloiGgsPy"
      },
      "execution_count": null,
      "outputs": []
    },
    {
      "cell_type": "markdown",
      "source": [
        "# Random Forest Classifier --> ensemble learning"
      ],
      "metadata": {
        "id": "dJ9OtNxDaLeu"
      }
    },
    {
      "cell_type": "code",
      "source": [
        "from sklearn.ensemble import RandomForestClassifier"
      ],
      "metadata": {
        "id": "Meu7yQqFQ1M8"
      },
      "execution_count": 40,
      "outputs": []
    },
    {
      "cell_type": "code",
      "source": [
        "clf = RandomForestClassifier(n_estimators=200, max_leaf_nodes=62, min_samples_split=9)\n",
        "clf.fit(X_train, y_train)"
      ],
      "metadata": {
        "colab": {
          "base_uri": "https://localhost:8080/"
        },
        "id": "o3ev2mxNrgkK",
        "outputId": "788ac910-a664-439a-8b79-3c46acf878e1"
      },
      "execution_count": 46,
      "outputs": [
        {
          "output_type": "stream",
          "name": "stderr",
          "text": [
            "<ipython-input-46-855b8fbf4419>:2: DataConversionWarning: A column-vector y was passed when a 1d array was expected. Please change the shape of y to (n_samples,), for example using ravel().\n",
            "  clf.fit(X_train, y_train)\n"
          ]
        },
        {
          "output_type": "execute_result",
          "data": {
            "text/plain": [
              "RandomForestClassifier(max_leaf_nodes=62, min_samples_split=9, n_estimators=200)"
            ]
          },
          "metadata": {},
          "execution_count": 46
        }
      ]
    },
    {
      "cell_type": "code",
      "source": [
        "y_pred= clf.predict(X_test)\n",
        "y_pred_df = pd.DataFrame(y_pred)"
      ],
      "metadata": {
        "id": "6BEzEeEJryBB"
      },
      "execution_count": 47,
      "outputs": []
    },
    {
      "cell_type": "code",
      "source": [
        "from sklearn.metrics import accuracy_score\n",
        "from sklearn.metrics import confusion_matrix"
      ],
      "metadata": {
        "id": "lEGn53OgrpRN"
      },
      "execution_count": 48,
      "outputs": []
    },
    {
      "cell_type": "code",
      "source": [
        "accuracy = accuracy_score(y_true=y_test, # We'll need our ground truth\n",
        "                   y_pred=y_pred) # and our predictions \n",
        "print(accuracy)"
      ],
      "metadata": {
        "colab": {
          "base_uri": "https://localhost:8080/"
        },
        "id": "-_rlzV86Q6UR",
        "outputId": "1cc8c5ef-4cd7-45ac-c85b-02c62620f197"
      },
      "execution_count": 49,
      "outputs": [
        {
          "output_type": "stream",
          "name": "stdout",
          "text": [
            "0.8076152304609219\n"
          ]
        }
      ]
    },
    {
      "cell_type": "markdown",
      "source": [
        "Features importance"
      ],
      "metadata": {
        "id": "jwgEvdlRhWp4"
      }
    },
    {
      "cell_type": "code",
      "source": [
        "feature_imp = pd.Series(clf.feature_importances_)\n",
        "feature_imp"
      ],
      "metadata": {
        "colab": {
          "base_uri": "https://localhost:8080/"
        },
        "id": "1zoWfba-vuzE",
        "outputId": "808d5982-7cc5-4d91-9a2a-43b060144589"
      },
      "execution_count": 50,
      "outputs": [
        {
          "output_type": "execute_result",
          "data": {
            "text/plain": [
              "0    0.097191\n",
              "1    0.163178\n",
              "2    0.318274\n",
              "3    0.069399\n",
              "4    0.089410\n",
              "5    0.066008\n",
              "6    0.148720\n",
              "7    0.032097\n",
              "8    0.015722\n",
              "dtype: float64"
            ]
          },
          "metadata": {},
          "execution_count": 50
        }
      ]
    },
    {
      "cell_type": "code",
      "source": [
        "importances = clf.feature_importances_\n",
        "std = np.std([tree.feature_importances_ for tree in clf.estimators_], axis=0)"
      ],
      "metadata": {
        "id": "tk5amKQUtsOO"
      },
      "execution_count": 51,
      "outputs": []
    },
    {
      "cell_type": "code",
      "source": [
        "forest_importances = pd.Series(importances, index=X_train.columns)\n",
        "fig, ax = plt.subplots()\n",
        "forest_importances.plot.bar(yerr=std, ax=ax)\n",
        "ax.set_title(\"Feature importances using MDI\")\n",
        "ax.set_ylabel(\"Mean decrease in impurity\")\n",
        "fig.tight_layout()"
      ],
      "metadata": {
        "colab": {
          "base_uri": "https://localhost:8080/",
          "height": 297
        },
        "id": "DT3QJU3xt6ak",
        "outputId": "39fa2cd7-1127-4f56-a1a8-afe86c2ae119"
      },
      "execution_count": 52,
      "outputs": [
        {
          "output_type": "display_data",
          "data": {
            "text/plain": [
              "<Figure size 432x288 with 1 Axes>"
            ],
            "image/png": "[encoded data removed]"
          },
          "metadata": {
            "needs_background": "light"
          }
        }
      ]
    }
  ]
}